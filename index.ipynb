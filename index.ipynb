{
 "cells": [
  {
   "cell_type": "markdown",
   "metadata": {},
   "source": [
    "# Project - Data Cleaning"
   ]
  },
  {
   "cell_type": "markdown",
   "metadata": {
    "heading_collapsed": true
   },
   "source": [
    "## Introduction\n",
    "In this lab, we'll make use of everything we've learned about pandas, data cleaning, and exploratory data analysis. In order to complete this lab, you'll have to import, clean, combine, reshape, and visualize data to answer questions provided, as well as your own questions!\n",
    "\n",
    "## Objectives\n",
    "You will be able to:\n",
    "- Use different types of joins to merge DataFrames \n",
    "- Identify missing values in a dataframe using built-in methods \n",
    "- Evaluate and execute the best strategy for dealing with missing, duplicate, and erroneous values for a given dataset \n",
    "- Inspect data for duplicates or extraneous values and remove them \n",
    "\n",
    "\n",
    "## The dataset\n",
    "In this lab, we'll work with the comprehensive [Super Heroes Dataset](https://www.kaggle.com/claudiodavi/superhero-set/data), which can be found on Kaggle!"
   ]
  },
  {
   "cell_type": "markdown",
   "metadata": {
    "heading_collapsed": true
   },
   "source": [
    "## Getting Started\n",
    "* Import and alias pandas as `pd`\n",
    "* Import and alias numpy as `np`\n",
    "* Import and alias seaborn as `sns`\n",
    "* Import and alias matplotlib.pyplot as `plt`\n",
    "* Set matplotlib visualizations to display inline in the notebook"
   ]
  },
  {
   "cell_type": "code",
   "execution_count": 1,
   "metadata": {
    "hidden": true
   },
   "outputs": [],
   "source": [
    "# importing library and formatting\n",
    "import pandas as pd\n",
    "import numpy as np\n",
    "import seaborn as sns\n",
    "import matplotlib.pyplot as plt\n",
    "%matplotlib inline\n",
    "plt.style.use('ggplot')"
   ]
  },
  {
   "cell_type": "markdown",
   "metadata": {
    "hidden": true
   },
   "source": [
    "For this lab, our dataset is split among two different sources -- `'heroes_information.csv'` and `'super_hero_powers.csv'`.\n",
    "\n",
    "Use pandas to read in each file and store them in DataFrames in the appropriate variables below. Then, display the `.head()` of each to ensure that everything loaded correctly.  "
   ]
  },
  {
   "cell_type": "code",
   "execution_count": 2,
   "metadata": {
    "hidden": true
   },
   "outputs": [],
   "source": [
    "heroes_df = pd.read_csv('heroes_information.csv')\n",
    "powers_df = pd.read_csv('super_hero_powers.csv')"
   ]
  },
  {
   "cell_type": "code",
   "execution_count": 3,
   "metadata": {
    "hidden": true
   },
   "outputs": [
    {
     "data": {
      "text/html": [
       "<div>\n",
       "<style scoped>\n",
       "    .dataframe tbody tr th:only-of-type {\n",
       "        vertical-align: middle;\n",
       "    }\n",
       "\n",
       "    .dataframe tbody tr th {\n",
       "        vertical-align: top;\n",
       "    }\n",
       "\n",
       "    .dataframe thead th {\n",
       "        text-align: right;\n",
       "    }\n",
       "</style>\n",
       "<table border=\"1\" class=\"dataframe\">\n",
       "  <thead>\n",
       "    <tr style=\"text-align: right;\">\n",
       "      <th></th>\n",
       "      <th>Unnamed: 0</th>\n",
       "      <th>name</th>\n",
       "      <th>Gender</th>\n",
       "      <th>Eye color</th>\n",
       "      <th>Race</th>\n",
       "      <th>Hair color</th>\n",
       "      <th>Height</th>\n",
       "      <th>Publisher</th>\n",
       "      <th>Skin color</th>\n",
       "      <th>Alignment</th>\n",
       "      <th>Weight</th>\n",
       "    </tr>\n",
       "  </thead>\n",
       "  <tbody>\n",
       "    <tr>\n",
       "      <th>0</th>\n",
       "      <td>0</td>\n",
       "      <td>A-Bomb</td>\n",
       "      <td>Male</td>\n",
       "      <td>yellow</td>\n",
       "      <td>Human</td>\n",
       "      <td>No Hair</td>\n",
       "      <td>203.0</td>\n",
       "      <td>Marvel Comics</td>\n",
       "      <td>-</td>\n",
       "      <td>good</td>\n",
       "      <td>441.0</td>\n",
       "    </tr>\n",
       "    <tr>\n",
       "      <th>1</th>\n",
       "      <td>1</td>\n",
       "      <td>Abe Sapien</td>\n",
       "      <td>Male</td>\n",
       "      <td>blue</td>\n",
       "      <td>Icthyo Sapien</td>\n",
       "      <td>No Hair</td>\n",
       "      <td>191.0</td>\n",
       "      <td>Dark Horse Comics</td>\n",
       "      <td>blue</td>\n",
       "      <td>good</td>\n",
       "      <td>65.0</td>\n",
       "    </tr>\n",
       "    <tr>\n",
       "      <th>2</th>\n",
       "      <td>2</td>\n",
       "      <td>Abin Sur</td>\n",
       "      <td>Male</td>\n",
       "      <td>blue</td>\n",
       "      <td>Ungaran</td>\n",
       "      <td>No Hair</td>\n",
       "      <td>185.0</td>\n",
       "      <td>DC Comics</td>\n",
       "      <td>red</td>\n",
       "      <td>good</td>\n",
       "      <td>90.0</td>\n",
       "    </tr>\n",
       "    <tr>\n",
       "      <th>3</th>\n",
       "      <td>3</td>\n",
       "      <td>Abomination</td>\n",
       "      <td>Male</td>\n",
       "      <td>green</td>\n",
       "      <td>Human / Radiation</td>\n",
       "      <td>No Hair</td>\n",
       "      <td>203.0</td>\n",
       "      <td>Marvel Comics</td>\n",
       "      <td>-</td>\n",
       "      <td>bad</td>\n",
       "      <td>441.0</td>\n",
       "    </tr>\n",
       "    <tr>\n",
       "      <th>4</th>\n",
       "      <td>4</td>\n",
       "      <td>Abraxas</td>\n",
       "      <td>Male</td>\n",
       "      <td>blue</td>\n",
       "      <td>Cosmic Entity</td>\n",
       "      <td>Black</td>\n",
       "      <td>-99.0</td>\n",
       "      <td>Marvel Comics</td>\n",
       "      <td>-</td>\n",
       "      <td>bad</td>\n",
       "      <td>-99.0</td>\n",
       "    </tr>\n",
       "  </tbody>\n",
       "</table>\n",
       "</div>"
      ],
      "text/plain": [
       "   Unnamed: 0         name Gender Eye color               Race Hair color  \\\n",
       "0           0       A-Bomb   Male    yellow              Human    No Hair   \n",
       "1           1   Abe Sapien   Male      blue      Icthyo Sapien    No Hair   \n",
       "2           2     Abin Sur   Male      blue            Ungaran    No Hair   \n",
       "3           3  Abomination   Male     green  Human / Radiation    No Hair   \n",
       "4           4      Abraxas   Male      blue      Cosmic Entity      Black   \n",
       "\n",
       "   Height          Publisher Skin color Alignment  Weight  \n",
       "0   203.0      Marvel Comics          -      good   441.0  \n",
       "1   191.0  Dark Horse Comics       blue      good    65.0  \n",
       "2   185.0          DC Comics        red      good    90.0  \n",
       "3   203.0      Marvel Comics          -       bad   441.0  \n",
       "4   -99.0      Marvel Comics          -       bad   -99.0  "
      ]
     },
     "execution_count": 3,
     "metadata": {},
     "output_type": "execute_result"
    }
   ],
   "source": [
    "heroes_df.head()"
   ]
  },
  {
   "cell_type": "code",
   "execution_count": 4,
   "metadata": {
    "hidden": true
   },
   "outputs": [
    {
     "data": {
      "text/html": [
       "<div>\n",
       "<style scoped>\n",
       "    .dataframe tbody tr th:only-of-type {\n",
       "        vertical-align: middle;\n",
       "    }\n",
       "\n",
       "    .dataframe tbody tr th {\n",
       "        vertical-align: top;\n",
       "    }\n",
       "\n",
       "    .dataframe thead th {\n",
       "        text-align: right;\n",
       "    }\n",
       "</style>\n",
       "<table border=\"1\" class=\"dataframe\">\n",
       "  <thead>\n",
       "    <tr style=\"text-align: right;\">\n",
       "      <th></th>\n",
       "      <th>hero_names</th>\n",
       "      <th>Agility</th>\n",
       "      <th>Accelerated Healing</th>\n",
       "      <th>Lantern Power Ring</th>\n",
       "      <th>Dimensional Awareness</th>\n",
       "      <th>Cold Resistance</th>\n",
       "      <th>Durability</th>\n",
       "      <th>Stealth</th>\n",
       "      <th>Energy Absorption</th>\n",
       "      <th>Flight</th>\n",
       "      <th>...</th>\n",
       "      <th>Web Creation</th>\n",
       "      <th>Reality Warping</th>\n",
       "      <th>Odin Force</th>\n",
       "      <th>Symbiote Costume</th>\n",
       "      <th>Speed Force</th>\n",
       "      <th>Phoenix Force</th>\n",
       "      <th>Molecular Dissipation</th>\n",
       "      <th>Vision - Cryo</th>\n",
       "      <th>Omnipresent</th>\n",
       "      <th>Omniscient</th>\n",
       "    </tr>\n",
       "  </thead>\n",
       "  <tbody>\n",
       "    <tr>\n",
       "      <th>0</th>\n",
       "      <td>3-D Man</td>\n",
       "      <td>True</td>\n",
       "      <td>False</td>\n",
       "      <td>False</td>\n",
       "      <td>False</td>\n",
       "      <td>False</td>\n",
       "      <td>False</td>\n",
       "      <td>False</td>\n",
       "      <td>False</td>\n",
       "      <td>False</td>\n",
       "      <td>...</td>\n",
       "      <td>False</td>\n",
       "      <td>False</td>\n",
       "      <td>False</td>\n",
       "      <td>False</td>\n",
       "      <td>False</td>\n",
       "      <td>False</td>\n",
       "      <td>False</td>\n",
       "      <td>False</td>\n",
       "      <td>False</td>\n",
       "      <td>False</td>\n",
       "    </tr>\n",
       "    <tr>\n",
       "      <th>1</th>\n",
       "      <td>A-Bomb</td>\n",
       "      <td>False</td>\n",
       "      <td>True</td>\n",
       "      <td>False</td>\n",
       "      <td>False</td>\n",
       "      <td>False</td>\n",
       "      <td>True</td>\n",
       "      <td>False</td>\n",
       "      <td>False</td>\n",
       "      <td>False</td>\n",
       "      <td>...</td>\n",
       "      <td>False</td>\n",
       "      <td>False</td>\n",
       "      <td>False</td>\n",
       "      <td>False</td>\n",
       "      <td>False</td>\n",
       "      <td>False</td>\n",
       "      <td>False</td>\n",
       "      <td>False</td>\n",
       "      <td>False</td>\n",
       "      <td>False</td>\n",
       "    </tr>\n",
       "    <tr>\n",
       "      <th>2</th>\n",
       "      <td>Abe Sapien</td>\n",
       "      <td>True</td>\n",
       "      <td>True</td>\n",
       "      <td>False</td>\n",
       "      <td>False</td>\n",
       "      <td>True</td>\n",
       "      <td>True</td>\n",
       "      <td>False</td>\n",
       "      <td>False</td>\n",
       "      <td>False</td>\n",
       "      <td>...</td>\n",
       "      <td>False</td>\n",
       "      <td>False</td>\n",
       "      <td>False</td>\n",
       "      <td>False</td>\n",
       "      <td>False</td>\n",
       "      <td>False</td>\n",
       "      <td>False</td>\n",
       "      <td>False</td>\n",
       "      <td>False</td>\n",
       "      <td>False</td>\n",
       "    </tr>\n",
       "    <tr>\n",
       "      <th>3</th>\n",
       "      <td>Abin Sur</td>\n",
       "      <td>False</td>\n",
       "      <td>False</td>\n",
       "      <td>True</td>\n",
       "      <td>False</td>\n",
       "      <td>False</td>\n",
       "      <td>False</td>\n",
       "      <td>False</td>\n",
       "      <td>False</td>\n",
       "      <td>False</td>\n",
       "      <td>...</td>\n",
       "      <td>False</td>\n",
       "      <td>False</td>\n",
       "      <td>False</td>\n",
       "      <td>False</td>\n",
       "      <td>False</td>\n",
       "      <td>False</td>\n",
       "      <td>False</td>\n",
       "      <td>False</td>\n",
       "      <td>False</td>\n",
       "      <td>False</td>\n",
       "    </tr>\n",
       "    <tr>\n",
       "      <th>4</th>\n",
       "      <td>Abomination</td>\n",
       "      <td>False</td>\n",
       "      <td>True</td>\n",
       "      <td>False</td>\n",
       "      <td>False</td>\n",
       "      <td>False</td>\n",
       "      <td>False</td>\n",
       "      <td>False</td>\n",
       "      <td>False</td>\n",
       "      <td>False</td>\n",
       "      <td>...</td>\n",
       "      <td>False</td>\n",
       "      <td>False</td>\n",
       "      <td>False</td>\n",
       "      <td>False</td>\n",
       "      <td>False</td>\n",
       "      <td>False</td>\n",
       "      <td>False</td>\n",
       "      <td>False</td>\n",
       "      <td>False</td>\n",
       "      <td>False</td>\n",
       "    </tr>\n",
       "  </tbody>\n",
       "</table>\n",
       "<p>5 rows × 168 columns</p>\n",
       "</div>"
      ],
      "text/plain": [
       "    hero_names  Agility  Accelerated Healing  Lantern Power Ring  \\\n",
       "0      3-D Man     True                False               False   \n",
       "1       A-Bomb    False                 True               False   \n",
       "2   Abe Sapien     True                 True               False   \n",
       "3     Abin Sur    False                False                True   \n",
       "4  Abomination    False                 True               False   \n",
       "\n",
       "   Dimensional Awareness  Cold Resistance  Durability  Stealth  \\\n",
       "0                  False            False       False    False   \n",
       "1                  False            False        True    False   \n",
       "2                  False             True        True    False   \n",
       "3                  False            False       False    False   \n",
       "4                  False            False       False    False   \n",
       "\n",
       "   Energy Absorption  Flight  ...  Web Creation  Reality Warping  Odin Force  \\\n",
       "0              False   False  ...         False            False       False   \n",
       "1              False   False  ...         False            False       False   \n",
       "2              False   False  ...         False            False       False   \n",
       "3              False   False  ...         False            False       False   \n",
       "4              False   False  ...         False            False       False   \n",
       "\n",
       "   Symbiote Costume  Speed Force  Phoenix Force  Molecular Dissipation  \\\n",
       "0             False        False          False                  False   \n",
       "1             False        False          False                  False   \n",
       "2             False        False          False                  False   \n",
       "3             False        False          False                  False   \n",
       "4             False        False          False                  False   \n",
       "\n",
       "   Vision - Cryo  Omnipresent  Omniscient  \n",
       "0          False        False       False  \n",
       "1          False        False       False  \n",
       "2          False        False       False  \n",
       "3          False        False       False  \n",
       "4          False        False       False  \n",
       "\n",
       "[5 rows x 168 columns]"
      ]
     },
     "execution_count": 4,
     "metadata": {},
     "output_type": "execute_result"
    }
   ],
   "source": [
    "powers_df.head()"
   ]
  },
  {
   "cell_type": "markdown",
   "metadata": {
    "hidden": true
   },
   "source": [
    "It looks as if the heroes information dataset contained an index column.  We did not specify that this dataset contained an index column, because we hadn't seen it yet. Pandas does not know how to tell apart an index column from any other data, so it stored it with the column name `Unnamed: 0`.  \n",
    "\n",
    "Our DataFrame provided row indices by default, so this column is not needed.  Drop it from the DataFrame in place in the cell below, and then display the head of `heroes_df` to ensure that it worked properly. "
   ]
  },
  {
   "cell_type": "code",
   "execution_count": 5,
   "metadata": {
    "hidden": true
   },
   "outputs": [
    {
     "data": {
      "text/html": [
       "<div>\n",
       "<style scoped>\n",
       "    .dataframe tbody tr th:only-of-type {\n",
       "        vertical-align: middle;\n",
       "    }\n",
       "\n",
       "    .dataframe tbody tr th {\n",
       "        vertical-align: top;\n",
       "    }\n",
       "\n",
       "    .dataframe thead th {\n",
       "        text-align: right;\n",
       "    }\n",
       "</style>\n",
       "<table border=\"1\" class=\"dataframe\">\n",
       "  <thead>\n",
       "    <tr style=\"text-align: right;\">\n",
       "      <th></th>\n",
       "      <th>name</th>\n",
       "      <th>Gender</th>\n",
       "      <th>Eye color</th>\n",
       "      <th>Race</th>\n",
       "      <th>Hair color</th>\n",
       "      <th>Height</th>\n",
       "      <th>Publisher</th>\n",
       "      <th>Skin color</th>\n",
       "      <th>Alignment</th>\n",
       "      <th>Weight</th>\n",
       "    </tr>\n",
       "  </thead>\n",
       "  <tbody>\n",
       "    <tr>\n",
       "      <th>0</th>\n",
       "      <td>A-Bomb</td>\n",
       "      <td>Male</td>\n",
       "      <td>yellow</td>\n",
       "      <td>Human</td>\n",
       "      <td>No Hair</td>\n",
       "      <td>203.0</td>\n",
       "      <td>Marvel Comics</td>\n",
       "      <td>-</td>\n",
       "      <td>good</td>\n",
       "      <td>441.0</td>\n",
       "    </tr>\n",
       "    <tr>\n",
       "      <th>1</th>\n",
       "      <td>Abe Sapien</td>\n",
       "      <td>Male</td>\n",
       "      <td>blue</td>\n",
       "      <td>Icthyo Sapien</td>\n",
       "      <td>No Hair</td>\n",
       "      <td>191.0</td>\n",
       "      <td>Dark Horse Comics</td>\n",
       "      <td>blue</td>\n",
       "      <td>good</td>\n",
       "      <td>65.0</td>\n",
       "    </tr>\n",
       "    <tr>\n",
       "      <th>2</th>\n",
       "      <td>Abin Sur</td>\n",
       "      <td>Male</td>\n",
       "      <td>blue</td>\n",
       "      <td>Ungaran</td>\n",
       "      <td>No Hair</td>\n",
       "      <td>185.0</td>\n",
       "      <td>DC Comics</td>\n",
       "      <td>red</td>\n",
       "      <td>good</td>\n",
       "      <td>90.0</td>\n",
       "    </tr>\n",
       "    <tr>\n",
       "      <th>3</th>\n",
       "      <td>Abomination</td>\n",
       "      <td>Male</td>\n",
       "      <td>green</td>\n",
       "      <td>Human / Radiation</td>\n",
       "      <td>No Hair</td>\n",
       "      <td>203.0</td>\n",
       "      <td>Marvel Comics</td>\n",
       "      <td>-</td>\n",
       "      <td>bad</td>\n",
       "      <td>441.0</td>\n",
       "    </tr>\n",
       "    <tr>\n",
       "      <th>4</th>\n",
       "      <td>Abraxas</td>\n",
       "      <td>Male</td>\n",
       "      <td>blue</td>\n",
       "      <td>Cosmic Entity</td>\n",
       "      <td>Black</td>\n",
       "      <td>-99.0</td>\n",
       "      <td>Marvel Comics</td>\n",
       "      <td>-</td>\n",
       "      <td>bad</td>\n",
       "      <td>-99.0</td>\n",
       "    </tr>\n",
       "  </tbody>\n",
       "</table>\n",
       "</div>"
      ],
      "text/plain": [
       "          name Gender Eye color               Race Hair color  Height  \\\n",
       "0       A-Bomb   Male    yellow              Human    No Hair   203.0   \n",
       "1   Abe Sapien   Male      blue      Icthyo Sapien    No Hair   191.0   \n",
       "2     Abin Sur   Male      blue            Ungaran    No Hair   185.0   \n",
       "3  Abomination   Male     green  Human / Radiation    No Hair   203.0   \n",
       "4      Abraxas   Male      blue      Cosmic Entity      Black   -99.0   \n",
       "\n",
       "           Publisher Skin color Alignment  Weight  \n",
       "0      Marvel Comics          -      good   441.0  \n",
       "1  Dark Horse Comics       blue      good    65.0  \n",
       "2          DC Comics        red      good    90.0  \n",
       "3      Marvel Comics          -       bad   441.0  \n",
       "4      Marvel Comics          -       bad   -99.0  "
      ]
     },
     "execution_count": 5,
     "metadata": {},
     "output_type": "execute_result"
    }
   ],
   "source": [
    "heroes_df.drop(labels='Unnamed: 0', axis= 'columns', inplace= True)\n",
    "heroes_df.head()"
   ]
  },
  {
   "cell_type": "markdown",
   "metadata": {
    "heading_collapsed": true
   },
   "source": [
    "## Familiarize yourself with the dataset\n",
    "\n",
    "The first step in our Exploratory Data Analysis will be to get familiar with the data.  This step includes:\n",
    "\n",
    "* Understanding the dimensionality of your dataset\n",
    "* Investigating what type of data it contains, and the data types used to store it\n",
    "* Discovering how missing values are encoded, and how many there are\n",
    "* Getting a feel for what information it does and doesn't contain\n",
    "\n",
    "In the cell below, get the descriptive statistics of each DataFrame.  "
   ]
  },
  {
   "cell_type": "markdown",
   "metadata": {
    "heading_collapsed": true,
    "hidden": true
   },
   "source": [
    "### heroes_df "
   ]
  },
  {
   "cell_type": "code",
   "execution_count": 6,
   "metadata": {
    "hidden": true
   },
   "outputs": [
    {
     "name": "stdout",
     "output_type": "stream",
     "text": [
      "<class 'pandas.core.frame.DataFrame'>\n",
      "RangeIndex: 734 entries, 0 to 733\n",
      "Data columns (total 10 columns):\n",
      " #   Column      Non-Null Count  Dtype  \n",
      "---  ------      --------------  -----  \n",
      " 0   name        734 non-null    object \n",
      " 1   Gender      734 non-null    object \n",
      " 2   Eye color   734 non-null    object \n",
      " 3   Race        734 non-null    object \n",
      " 4   Hair color  734 non-null    object \n",
      " 5   Height      734 non-null    float64\n",
      " 6   Publisher   719 non-null    object \n",
      " 7   Skin color  734 non-null    object \n",
      " 8   Alignment   734 non-null    object \n",
      " 9   Weight      732 non-null    float64\n",
      "dtypes: float64(2), object(8)\n",
      "memory usage: 57.5+ KB\n"
     ]
    }
   ],
   "source": [
    "heroes_df.info()"
   ]
  },
  {
   "cell_type": "code",
   "execution_count": 7,
   "metadata": {
    "hidden": true
   },
   "outputs": [
    {
     "data": {
      "text/html": [
       "<div>\n",
       "<style scoped>\n",
       "    .dataframe tbody tr th:only-of-type {\n",
       "        vertical-align: middle;\n",
       "    }\n",
       "\n",
       "    .dataframe tbody tr th {\n",
       "        vertical-align: top;\n",
       "    }\n",
       "\n",
       "    .dataframe thead th {\n",
       "        text-align: right;\n",
       "    }\n",
       "</style>\n",
       "<table border=\"1\" class=\"dataframe\">\n",
       "  <thead>\n",
       "    <tr style=\"text-align: right;\">\n",
       "      <th></th>\n",
       "      <th>Height</th>\n",
       "      <th>Weight</th>\n",
       "    </tr>\n",
       "  </thead>\n",
       "  <tbody>\n",
       "    <tr>\n",
       "      <th>count</th>\n",
       "      <td>734.000000</td>\n",
       "      <td>732.000000</td>\n",
       "    </tr>\n",
       "    <tr>\n",
       "      <th>mean</th>\n",
       "      <td>102.254087</td>\n",
       "      <td>43.855191</td>\n",
       "    </tr>\n",
       "    <tr>\n",
       "      <th>std</th>\n",
       "      <td>139.624543</td>\n",
       "      <td>130.823733</td>\n",
       "    </tr>\n",
       "    <tr>\n",
       "      <th>min</th>\n",
       "      <td>-99.000000</td>\n",
       "      <td>-99.000000</td>\n",
       "    </tr>\n",
       "    <tr>\n",
       "      <th>25%</th>\n",
       "      <td>-99.000000</td>\n",
       "      <td>-99.000000</td>\n",
       "    </tr>\n",
       "    <tr>\n",
       "      <th>50%</th>\n",
       "      <td>175.000000</td>\n",
       "      <td>62.000000</td>\n",
       "    </tr>\n",
       "    <tr>\n",
       "      <th>75%</th>\n",
       "      <td>185.000000</td>\n",
       "      <td>90.000000</td>\n",
       "    </tr>\n",
       "    <tr>\n",
       "      <th>max</th>\n",
       "      <td>975.000000</td>\n",
       "      <td>900.000000</td>\n",
       "    </tr>\n",
       "  </tbody>\n",
       "</table>\n",
       "</div>"
      ],
      "text/plain": [
       "           Height      Weight\n",
       "count  734.000000  732.000000\n",
       "mean   102.254087   43.855191\n",
       "std    139.624543  130.823733\n",
       "min    -99.000000  -99.000000\n",
       "25%    -99.000000  -99.000000\n",
       "50%    175.000000   62.000000\n",
       "75%    185.000000   90.000000\n",
       "max    975.000000  900.000000"
      ]
     },
     "execution_count": 7,
     "metadata": {},
     "output_type": "execute_result"
    }
   ],
   "source": [
    "heroes_df.describe()"
   ]
  },
  {
   "cell_type": "markdown",
   "metadata": {
    "hidden": true
   },
   "source": [
    "finding empty columns"
   ]
  },
  {
   "cell_type": "markdown",
   "metadata": {
    "hidden": true
   },
   "source": [
    "- method 1 # eye sore"
   ]
  },
  {
   "cell_type": "code",
   "execution_count": 8,
   "metadata": {
    "hidden": true
   },
   "outputs": [
    {
     "data": {
      "text/plain": [
       "Publisher     15\n",
       "Weight         2\n",
       "Alignment      0\n",
       "Skin color     0\n",
       "Height         0\n",
       "Hair color     0\n",
       "Race           0\n",
       "Eye color      0\n",
       "Gender         0\n",
       "name           0\n",
       "dtype: int64"
      ]
     },
     "execution_count": 8,
     "metadata": {},
     "output_type": "execute_result"
    }
   ],
   "source": [
    "heroes_df.isna().sum().sort_values(ascending=False)"
   ]
  },
  {
   "cell_type": "markdown",
   "metadata": {
    "hidden": true
   },
   "source": [
    "- method 2.1"
   ]
  },
  {
   "cell_type": "code",
   "execution_count": 9,
   "metadata": {
    "hidden": true
   },
   "outputs": [
    {
     "data": {
      "text/plain": [
       "Publisher    15.0\n",
       "Weight        2.0\n",
       "dtype: float64"
      ]
     },
     "execution_count": 9,
     "metadata": {},
     "output_type": "execute_result"
    }
   ],
   "source": [
    "heroes_df.isna().sum().where(lambda x: x>0).dropna()"
   ]
  },
  {
   "cell_type": "markdown",
   "metadata": {
    "hidden": true
   },
   "source": [
    "- method 2.2"
   ]
  },
  {
   "cell_type": "code",
   "execution_count": 10,
   "metadata": {
    "hidden": true
   },
   "outputs": [
    {
     "data": {
      "text/plain": [
       "Publisher    15\n",
       "Weight        2\n",
       "dtype: int64"
      ]
     },
     "execution_count": 10,
     "metadata": {},
     "output_type": "execute_result"
    }
   ],
   "source": [
    "heroes_df.isna().sum().loc[lambda x : x!=0]"
   ]
  },
  {
   "cell_type": "code",
   "execution_count": 11,
   "metadata": {
    "hidden": true
   },
   "outputs": [
    {
     "data": {
      "text/plain": [
       "False    733\n",
       "True       1\n",
       "dtype: int64"
      ]
     },
     "execution_count": 11,
     "metadata": {},
     "output_type": "execute_result"
    }
   ],
   "source": [
    "heroes_df.duplicated().value_counts()"
   ]
  },
  {
   "cell_type": "markdown",
   "metadata": {
    "heading_collapsed": true,
    "hidden": true
   },
   "source": [
    "### powers_df"
   ]
  },
  {
   "cell_type": "code",
   "execution_count": 12,
   "metadata": {
    "hidden": true,
    "scrolled": true
   },
   "outputs": [
    {
     "name": "stdout",
     "output_type": "stream",
     "text": [
      "<class 'pandas.core.frame.DataFrame'>\n",
      "RangeIndex: 667 entries, 0 to 666\n",
      "Columns: 168 entries, hero_names to Omniscient\n",
      "dtypes: bool(167), object(1)\n",
      "memory usage: 114.1+ KB\n"
     ]
    }
   ],
   "source": [
    "powers_df.info()"
   ]
  },
  {
   "cell_type": "code",
   "execution_count": 13,
   "metadata": {
    "hidden": true
   },
   "outputs": [
    {
     "data": {
      "text/html": [
       "<div>\n",
       "<style scoped>\n",
       "    .dataframe tbody tr th:only-of-type {\n",
       "        vertical-align: middle;\n",
       "    }\n",
       "\n",
       "    .dataframe tbody tr th {\n",
       "        vertical-align: top;\n",
       "    }\n",
       "\n",
       "    .dataframe thead th {\n",
       "        text-align: right;\n",
       "    }\n",
       "</style>\n",
       "<table border=\"1\" class=\"dataframe\">\n",
       "  <thead>\n",
       "    <tr style=\"text-align: right;\">\n",
       "      <th></th>\n",
       "      <th>hero_names</th>\n",
       "      <th>Agility</th>\n",
       "      <th>Accelerated Healing</th>\n",
       "      <th>Lantern Power Ring</th>\n",
       "      <th>Dimensional Awareness</th>\n",
       "      <th>Cold Resistance</th>\n",
       "      <th>Durability</th>\n",
       "      <th>Stealth</th>\n",
       "      <th>Energy Absorption</th>\n",
       "      <th>Flight</th>\n",
       "      <th>...</th>\n",
       "      <th>Web Creation</th>\n",
       "      <th>Reality Warping</th>\n",
       "      <th>Odin Force</th>\n",
       "      <th>Symbiote Costume</th>\n",
       "      <th>Speed Force</th>\n",
       "      <th>Phoenix Force</th>\n",
       "      <th>Molecular Dissipation</th>\n",
       "      <th>Vision - Cryo</th>\n",
       "      <th>Omnipresent</th>\n",
       "      <th>Omniscient</th>\n",
       "    </tr>\n",
       "  </thead>\n",
       "  <tbody>\n",
       "    <tr>\n",
       "      <th>count</th>\n",
       "      <td>667</td>\n",
       "      <td>667</td>\n",
       "      <td>667</td>\n",
       "      <td>667</td>\n",
       "      <td>667</td>\n",
       "      <td>667</td>\n",
       "      <td>667</td>\n",
       "      <td>667</td>\n",
       "      <td>667</td>\n",
       "      <td>667</td>\n",
       "      <td>...</td>\n",
       "      <td>667</td>\n",
       "      <td>667</td>\n",
       "      <td>667</td>\n",
       "      <td>667</td>\n",
       "      <td>667</td>\n",
       "      <td>667</td>\n",
       "      <td>667</td>\n",
       "      <td>667</td>\n",
       "      <td>667</td>\n",
       "      <td>667</td>\n",
       "    </tr>\n",
       "    <tr>\n",
       "      <th>unique</th>\n",
       "      <td>667</td>\n",
       "      <td>2</td>\n",
       "      <td>2</td>\n",
       "      <td>2</td>\n",
       "      <td>2</td>\n",
       "      <td>2</td>\n",
       "      <td>2</td>\n",
       "      <td>2</td>\n",
       "      <td>2</td>\n",
       "      <td>2</td>\n",
       "      <td>...</td>\n",
       "      <td>2</td>\n",
       "      <td>2</td>\n",
       "      <td>2</td>\n",
       "      <td>2</td>\n",
       "      <td>2</td>\n",
       "      <td>2</td>\n",
       "      <td>2</td>\n",
       "      <td>2</td>\n",
       "      <td>2</td>\n",
       "      <td>2</td>\n",
       "    </tr>\n",
       "    <tr>\n",
       "      <th>top</th>\n",
       "      <td>Carnage</td>\n",
       "      <td>False</td>\n",
       "      <td>False</td>\n",
       "      <td>False</td>\n",
       "      <td>False</td>\n",
       "      <td>False</td>\n",
       "      <td>False</td>\n",
       "      <td>False</td>\n",
       "      <td>False</td>\n",
       "      <td>False</td>\n",
       "      <td>...</td>\n",
       "      <td>False</td>\n",
       "      <td>False</td>\n",
       "      <td>False</td>\n",
       "      <td>False</td>\n",
       "      <td>False</td>\n",
       "      <td>False</td>\n",
       "      <td>False</td>\n",
       "      <td>False</td>\n",
       "      <td>False</td>\n",
       "      <td>False</td>\n",
       "    </tr>\n",
       "    <tr>\n",
       "      <th>freq</th>\n",
       "      <td>1</td>\n",
       "      <td>425</td>\n",
       "      <td>489</td>\n",
       "      <td>656</td>\n",
       "      <td>642</td>\n",
       "      <td>620</td>\n",
       "      <td>410</td>\n",
       "      <td>541</td>\n",
       "      <td>590</td>\n",
       "      <td>455</td>\n",
       "      <td>...</td>\n",
       "      <td>653</td>\n",
       "      <td>651</td>\n",
       "      <td>665</td>\n",
       "      <td>658</td>\n",
       "      <td>666</td>\n",
       "      <td>666</td>\n",
       "      <td>666</td>\n",
       "      <td>665</td>\n",
       "      <td>665</td>\n",
       "      <td>665</td>\n",
       "    </tr>\n",
       "  </tbody>\n",
       "</table>\n",
       "<p>4 rows × 168 columns</p>\n",
       "</div>"
      ],
      "text/plain": [
       "       hero_names Agility Accelerated Healing Lantern Power Ring  \\\n",
       "count         667     667                 667                667   \n",
       "unique        667       2                   2                  2   \n",
       "top       Carnage   False               False              False   \n",
       "freq            1     425                 489                656   \n",
       "\n",
       "       Dimensional Awareness Cold Resistance Durability Stealth  \\\n",
       "count                    667             667        667     667   \n",
       "unique                     2               2          2       2   \n",
       "top                    False           False      False   False   \n",
       "freq                     642             620        410     541   \n",
       "\n",
       "       Energy Absorption Flight  ... Web Creation Reality Warping Odin Force  \\\n",
       "count                667    667  ...          667             667        667   \n",
       "unique                 2      2  ...            2               2          2   \n",
       "top                False  False  ...        False           False      False   \n",
       "freq                 590    455  ...          653             651        665   \n",
       "\n",
       "       Symbiote Costume Speed Force Phoenix Force Molecular Dissipation  \\\n",
       "count               667         667           667                   667   \n",
       "unique                2           2             2                     2   \n",
       "top               False       False         False                 False   \n",
       "freq                658         666           666                   666   \n",
       "\n",
       "       Vision - Cryo Omnipresent Omniscient  \n",
       "count            667         667        667  \n",
       "unique             2           2          2  \n",
       "top            False       False      False  \n",
       "freq             665         665        665  \n",
       "\n",
       "[4 rows x 168 columns]"
      ]
     },
     "execution_count": 13,
     "metadata": {},
     "output_type": "execute_result"
    }
   ],
   "source": [
    "powers_df.describe()"
   ]
  },
  {
   "cell_type": "code",
   "execution_count": 14,
   "metadata": {
    "hidden": true
   },
   "outputs": [
    {
     "data": {
      "text/plain": [
       "hero_names               0\n",
       "Agility                  0\n",
       "Accelerated Healing      0\n",
       "Lantern Power Ring       0\n",
       "Dimensional Awareness    0\n",
       "                        ..\n",
       "Phoenix Force            0\n",
       "Molecular Dissipation    0\n",
       "Vision - Cryo            0\n",
       "Omnipresent              0\n",
       "Omniscient               0\n",
       "Length: 168, dtype: int64"
      ]
     },
     "execution_count": 14,
     "metadata": {},
     "output_type": "execute_result"
    }
   ],
   "source": [
    "powers_df.isna().sum()"
   ]
  },
  {
   "cell_type": "code",
   "execution_count": 15,
   "metadata": {
    "hidden": true
   },
   "outputs": [
    {
     "data": {
      "text/plain": [
       "Series([], dtype: float64)"
      ]
     },
     "execution_count": 15,
     "metadata": {},
     "output_type": "execute_result"
    }
   ],
   "source": [
    "powers_df.isna().sum().where(lambda x: x>0).dropna()"
   ]
  },
  {
   "cell_type": "code",
   "execution_count": 16,
   "metadata": {
    "hidden": true
   },
   "outputs": [
    {
     "data": {
      "text/plain": [
       "min    0.0\n",
       "max    0.0\n",
       "std    0.0\n",
       "dtype: float64"
      ]
     },
     "execution_count": 16,
     "metadata": {},
     "output_type": "execute_result"
    }
   ],
   "source": [
    "powers_df.isna().sum().agg(['min', 'max', 'std'])"
   ]
  },
  {
   "cell_type": "code",
   "execution_count": 17,
   "metadata": {
    "hidden": true
   },
   "outputs": [
    {
     "data": {
      "text/plain": [
       "False    667\n",
       "dtype: int64"
      ]
     },
     "execution_count": 17,
     "metadata": {},
     "output_type": "execute_result"
    }
   ],
   "source": [
    "powers_df.duplicated().value_counts()"
   ]
  },
  {
   "cell_type": "markdown",
   "metadata": {
    "heading_collapsed": true
   },
   "source": [
    "## Dealing with missing values & duplicates\n",
    "\n",
    "Starting in the cell below, detect and deal with any missing values in either DataFrame. Then, explain your methodology for detecting and dealing with outliers in the markdown section below. Be sure to explain your strategy for dealing with missing values in numeric columns, as well as your strategy for dealing with missing values in non-numeric columns.  \n",
    "\n",
    "Note that if you need to add more cells to write code in, you can do this by:\n",
    "\n",
    "**1.** Highlighting a cell and then pressing `ESC` to enter command mode.  \n",
    "**2.** Press `A` to add a cell above the highlighted cell, or `B` to add a cell below the highlighted cell. \n",
    "\n",
    "Describe your strategy below this line:\n",
    "____________________________________________________________________________________________________________________________\n",
    "\n",
    "\n"
   ]
  },
  {
   "cell_type": "markdown",
   "metadata": {
    "hidden": true
   },
   "source": [
    "### heroes_df missing"
   ]
  },
  {
   "cell_type": "markdown",
   "metadata": {
    "heading_collapsed": true,
    "hidden": true
   },
   "source": [
    "#### Publisher"
   ]
  },
  {
   "cell_type": "code",
   "execution_count": 18,
   "metadata": {
    "hidden": true
   },
   "outputs": [
    {
     "data": {
      "text/plain": [
       "False    719\n",
       "True      15\n",
       "Name: Publisher, dtype: int64"
      ]
     },
     "execution_count": 18,
     "metadata": {},
     "output_type": "execute_result"
    }
   ],
   "source": [
    "heroes_df['Publisher'].isna().value_counts()"
   ]
  },
  {
   "cell_type": "code",
   "execution_count": 19,
   "metadata": {
    "hidden": true
   },
   "outputs": [
    {
     "data": {
      "text/html": [
       "<div>\n",
       "<style scoped>\n",
       "    .dataframe tbody tr th:only-of-type {\n",
       "        vertical-align: middle;\n",
       "    }\n",
       "\n",
       "    .dataframe tbody tr th {\n",
       "        vertical-align: top;\n",
       "    }\n",
       "\n",
       "    .dataframe thead th {\n",
       "        text-align: right;\n",
       "    }\n",
       "</style>\n",
       "<table border=\"1\" class=\"dataframe\">\n",
       "  <thead>\n",
       "    <tr style=\"text-align: right;\">\n",
       "      <th></th>\n",
       "      <th>name</th>\n",
       "      <th>Gender</th>\n",
       "      <th>Eye color</th>\n",
       "      <th>Race</th>\n",
       "      <th>Hair color</th>\n",
       "      <th>Height</th>\n",
       "      <th>Publisher</th>\n",
       "      <th>Skin color</th>\n",
       "      <th>Alignment</th>\n",
       "      <th>Weight</th>\n",
       "    </tr>\n",
       "  </thead>\n",
       "  <tbody>\n",
       "    <tr>\n",
       "      <th>46</th>\n",
       "      <td>Astro Boy</td>\n",
       "      <td>Male</td>\n",
       "      <td>brown</td>\n",
       "      <td>-</td>\n",
       "      <td>Black</td>\n",
       "      <td>-99.0</td>\n",
       "      <td>NaN</td>\n",
       "      <td>-</td>\n",
       "      <td>good</td>\n",
       "      <td>-99.0</td>\n",
       "    </tr>\n",
       "    <tr>\n",
       "      <th>86</th>\n",
       "      <td>Bionic Woman</td>\n",
       "      <td>Female</td>\n",
       "      <td>blue</td>\n",
       "      <td>Cyborg</td>\n",
       "      <td>Black</td>\n",
       "      <td>-99.0</td>\n",
       "      <td>NaN</td>\n",
       "      <td>-</td>\n",
       "      <td>good</td>\n",
       "      <td>-99.0</td>\n",
       "    </tr>\n",
       "    <tr>\n",
       "      <th>138</th>\n",
       "      <td>Brundlefly</td>\n",
       "      <td>Male</td>\n",
       "      <td>-</td>\n",
       "      <td>Mutant</td>\n",
       "      <td>-</td>\n",
       "      <td>193.0</td>\n",
       "      <td>NaN</td>\n",
       "      <td>-</td>\n",
       "      <td>-</td>\n",
       "      <td>-99.0</td>\n",
       "    </tr>\n",
       "    <tr>\n",
       "      <th>175</th>\n",
       "      <td>Chuck Norris</td>\n",
       "      <td>Male</td>\n",
       "      <td>-</td>\n",
       "      <td>-</td>\n",
       "      <td>-</td>\n",
       "      <td>178.0</td>\n",
       "      <td>NaN</td>\n",
       "      <td>-</td>\n",
       "      <td>good</td>\n",
       "      <td>-99.0</td>\n",
       "    </tr>\n",
       "    <tr>\n",
       "      <th>204</th>\n",
       "      <td>Darkside</td>\n",
       "      <td>-</td>\n",
       "      <td>-</td>\n",
       "      <td>-</td>\n",
       "      <td>-</td>\n",
       "      <td>-99.0</td>\n",
       "      <td>NaN</td>\n",
       "      <td>-</td>\n",
       "      <td>bad</td>\n",
       "      <td>-99.0</td>\n",
       "    </tr>\n",
       "    <tr>\n",
       "      <th>244</th>\n",
       "      <td>Ethan Hunt</td>\n",
       "      <td>Male</td>\n",
       "      <td>brown</td>\n",
       "      <td>Human</td>\n",
       "      <td>Brown</td>\n",
       "      <td>168.0</td>\n",
       "      <td>NaN</td>\n",
       "      <td>-</td>\n",
       "      <td>good</td>\n",
       "      <td>-99.0</td>\n",
       "    </tr>\n",
       "    <tr>\n",
       "      <th>263</th>\n",
       "      <td>Flash Gordon</td>\n",
       "      <td>Male</td>\n",
       "      <td>-</td>\n",
       "      <td>-</td>\n",
       "      <td>-</td>\n",
       "      <td>-99.0</td>\n",
       "      <td>NaN</td>\n",
       "      <td>-</td>\n",
       "      <td>good</td>\n",
       "      <td>-99.0</td>\n",
       "    </tr>\n",
       "    <tr>\n",
       "      <th>286</th>\n",
       "      <td>Godzilla</td>\n",
       "      <td>-</td>\n",
       "      <td>-</td>\n",
       "      <td>Kaiju</td>\n",
       "      <td>-</td>\n",
       "      <td>108.0</td>\n",
       "      <td>NaN</td>\n",
       "      <td>grey</td>\n",
       "      <td>bad</td>\n",
       "      <td>NaN</td>\n",
       "    </tr>\n",
       "    <tr>\n",
       "      <th>348</th>\n",
       "      <td>Jack Bauer</td>\n",
       "      <td>Male</td>\n",
       "      <td>-</td>\n",
       "      <td>-</td>\n",
       "      <td>-</td>\n",
       "      <td>-99.0</td>\n",
       "      <td>NaN</td>\n",
       "      <td>-</td>\n",
       "      <td>good</td>\n",
       "      <td>-99.0</td>\n",
       "    </tr>\n",
       "    <tr>\n",
       "      <th>354</th>\n",
       "      <td>Jason Bourne</td>\n",
       "      <td>Male</td>\n",
       "      <td>-</td>\n",
       "      <td>Human</td>\n",
       "      <td>-</td>\n",
       "      <td>-99.0</td>\n",
       "      <td>NaN</td>\n",
       "      <td>-</td>\n",
       "      <td>good</td>\n",
       "      <td>-99.0</td>\n",
       "    </tr>\n",
       "    <tr>\n",
       "      <th>381</th>\n",
       "      <td>Katniss Everdeen</td>\n",
       "      <td>Female</td>\n",
       "      <td>-</td>\n",
       "      <td>Human</td>\n",
       "      <td>-</td>\n",
       "      <td>-99.0</td>\n",
       "      <td>NaN</td>\n",
       "      <td>-</td>\n",
       "      <td>good</td>\n",
       "      <td>-99.0</td>\n",
       "    </tr>\n",
       "    <tr>\n",
       "      <th>389</th>\n",
       "      <td>King Kong</td>\n",
       "      <td>Male</td>\n",
       "      <td>yellow</td>\n",
       "      <td>Animal</td>\n",
       "      <td>Black</td>\n",
       "      <td>30.5</td>\n",
       "      <td>NaN</td>\n",
       "      <td>-</td>\n",
       "      <td>good</td>\n",
       "      <td>NaN</td>\n",
       "    </tr>\n",
       "    <tr>\n",
       "      <th>393</th>\n",
       "      <td>Kool-Aid Man</td>\n",
       "      <td>Male</td>\n",
       "      <td>black</td>\n",
       "      <td>-</td>\n",
       "      <td>No Hair</td>\n",
       "      <td>-99.0</td>\n",
       "      <td>NaN</td>\n",
       "      <td>red</td>\n",
       "      <td>good</td>\n",
       "      <td>-99.0</td>\n",
       "    </tr>\n",
       "    <tr>\n",
       "      <th>542</th>\n",
       "      <td>Rambo</td>\n",
       "      <td>Male</td>\n",
       "      <td>brown</td>\n",
       "      <td>Human</td>\n",
       "      <td>Black</td>\n",
       "      <td>178.0</td>\n",
       "      <td>NaN</td>\n",
       "      <td>-</td>\n",
       "      <td>good</td>\n",
       "      <td>83.0</td>\n",
       "    </tr>\n",
       "    <tr>\n",
       "      <th>658</th>\n",
       "      <td>The Cape</td>\n",
       "      <td>Male</td>\n",
       "      <td>-</td>\n",
       "      <td>-</td>\n",
       "      <td>-</td>\n",
       "      <td>-99.0</td>\n",
       "      <td>NaN</td>\n",
       "      <td>-</td>\n",
       "      <td>good</td>\n",
       "      <td>-99.0</td>\n",
       "    </tr>\n",
       "  </tbody>\n",
       "</table>\n",
       "</div>"
      ],
      "text/plain": [
       "                 name  Gender Eye color    Race Hair color  Height Publisher  \\\n",
       "46          Astro Boy    Male     brown       -      Black   -99.0       NaN   \n",
       "86       Bionic Woman  Female      blue  Cyborg      Black   -99.0       NaN   \n",
       "138        Brundlefly    Male         -  Mutant          -   193.0       NaN   \n",
       "175      Chuck Norris    Male         -       -          -   178.0       NaN   \n",
       "204          Darkside       -         -       -          -   -99.0       NaN   \n",
       "244        Ethan Hunt    Male     brown   Human      Brown   168.0       NaN   \n",
       "263      Flash Gordon    Male         -       -          -   -99.0       NaN   \n",
       "286          Godzilla       -         -   Kaiju          -   108.0       NaN   \n",
       "348        Jack Bauer    Male         -       -          -   -99.0       NaN   \n",
       "354      Jason Bourne    Male         -   Human          -   -99.0       NaN   \n",
       "381  Katniss Everdeen  Female         -   Human          -   -99.0       NaN   \n",
       "389         King Kong    Male    yellow  Animal      Black    30.5       NaN   \n",
       "393      Kool-Aid Man    Male     black       -    No Hair   -99.0       NaN   \n",
       "542             Rambo    Male     brown   Human      Black   178.0       NaN   \n",
       "658          The Cape    Male         -       -          -   -99.0       NaN   \n",
       "\n",
       "    Skin color Alignment  Weight  \n",
       "46           -      good   -99.0  \n",
       "86           -      good   -99.0  \n",
       "138          -         -   -99.0  \n",
       "175          -      good   -99.0  \n",
       "204          -       bad   -99.0  \n",
       "244          -      good   -99.0  \n",
       "263          -      good   -99.0  \n",
       "286       grey       bad     NaN  \n",
       "348          -      good   -99.0  \n",
       "354          -      good   -99.0  \n",
       "381          -      good   -99.0  \n",
       "389          -      good     NaN  \n",
       "393        red      good   -99.0  \n",
       "542          -      good    83.0  \n",
       "658          -      good   -99.0  "
      ]
     },
     "execution_count": 19,
     "metadata": {},
     "output_type": "execute_result"
    }
   ],
   "source": [
    "heroes_df[heroes_df['Publisher'].isna()]"
   ]
  },
  {
   "cell_type": "code",
   "execution_count": 20,
   "metadata": {
    "hidden": true
   },
   "outputs": [],
   "source": [
    "heroes_df['Publisher'].fillna(value='Not Applicable',inplace = True)"
   ]
  },
  {
   "cell_type": "markdown",
   "metadata": {
    "heading_collapsed": true,
    "hidden": true
   },
   "source": [
    "#### Weight"
   ]
  },
  {
   "cell_type": "code",
   "execution_count": 21,
   "metadata": {
    "hidden": true
   },
   "outputs": [],
   "source": [
    "mean_weight = heroes_df['Weight'].mean()\n",
    "heroes_df['Weight'].fillna(mean_weight, inplace=True)"
   ]
  },
  {
   "cell_type": "code",
   "execution_count": 22,
   "metadata": {
    "hidden": true
   },
   "outputs": [
    {
     "data": {
      "text/plain": [
       "name          0\n",
       "Gender        0\n",
       "Eye color     0\n",
       "Race          0\n",
       "Hair color    0\n",
       "Height        0\n",
       "Publisher     0\n",
       "Skin color    0\n",
       "Alignment     0\n",
       "Weight        0\n",
       "dtype: int64"
      ]
     },
     "execution_count": 22,
     "metadata": {},
     "output_type": "execute_result"
    }
   ],
   "source": [
    "heroes_df.isna().sum()"
   ]
  },
  {
   "cell_type": "markdown",
   "metadata": {
    "heading_collapsed": true,
    "hidden": true
   },
   "source": [
    "#### heroes_df duplicates"
   ]
  },
  {
   "cell_type": "code",
   "execution_count": 23,
   "metadata": {
    "hidden": true
   },
   "outputs": [
    {
     "data": {
      "text/html": [
       "<div>\n",
       "<style scoped>\n",
       "    .dataframe tbody tr th:only-of-type {\n",
       "        vertical-align: middle;\n",
       "    }\n",
       "\n",
       "    .dataframe tbody tr th {\n",
       "        vertical-align: top;\n",
       "    }\n",
       "\n",
       "    .dataframe thead th {\n",
       "        text-align: right;\n",
       "    }\n",
       "</style>\n",
       "<table border=\"1\" class=\"dataframe\">\n",
       "  <thead>\n",
       "    <tr style=\"text-align: right;\">\n",
       "      <th></th>\n",
       "      <th>name</th>\n",
       "      <th>Gender</th>\n",
       "      <th>Eye color</th>\n",
       "      <th>Race</th>\n",
       "      <th>Hair color</th>\n",
       "      <th>Height</th>\n",
       "      <th>Publisher</th>\n",
       "      <th>Skin color</th>\n",
       "      <th>Alignment</th>\n",
       "      <th>Weight</th>\n",
       "    </tr>\n",
       "  </thead>\n",
       "  <tbody>\n",
       "    <tr>\n",
       "      <th>291</th>\n",
       "      <td>Goliath</td>\n",
       "      <td>Male</td>\n",
       "      <td>-</td>\n",
       "      <td>Human</td>\n",
       "      <td>-</td>\n",
       "      <td>-99.0</td>\n",
       "      <td>Marvel Comics</td>\n",
       "      <td>-</td>\n",
       "      <td>good</td>\n",
       "      <td>-99.0</td>\n",
       "    </tr>\n",
       "  </tbody>\n",
       "</table>\n",
       "</div>"
      ],
      "text/plain": [
       "        name Gender Eye color   Race Hair color  Height      Publisher  \\\n",
       "291  Goliath   Male         -  Human          -   -99.0  Marvel Comics   \n",
       "\n",
       "    Skin color Alignment  Weight  \n",
       "291          -      good   -99.0  "
      ]
     },
     "execution_count": 23,
     "metadata": {},
     "output_type": "execute_result"
    }
   ],
   "source": [
    "heroes_df[heroes_df.duplicated()]"
   ]
  },
  {
   "cell_type": "code",
   "execution_count": 24,
   "metadata": {
    "hidden": true
   },
   "outputs": [],
   "source": [
    "# heroes_df.drop_duplicates(subset='name', inplace=True)                       ##### somethng wrong here"
   ]
  },
  {
   "cell_type": "code",
   "execution_count": 25,
   "metadata": {
    "hidden": true
   },
   "outputs": [],
   "source": [
    "heroes_df = heroes_df[~heroes_df.duplicated()]"
   ]
  },
  {
   "cell_type": "markdown",
   "metadata": {
    "heading_collapsed": true,
    "hidden": true
   },
   "source": [
    "#### final check"
   ]
  },
  {
   "cell_type": "code",
   "execution_count": 26,
   "metadata": {
    "hidden": true
   },
   "outputs": [
    {
     "data": {
      "text/plain": [
       "Series([], dtype: float64)"
      ]
     },
     "execution_count": 26,
     "metadata": {},
     "output_type": "execute_result"
    }
   ],
   "source": [
    "heroes_df.isna().sum().where(lambda x: x > 0).dropna()"
   ]
  },
  {
   "cell_type": "code",
   "execution_count": 27,
   "metadata": {
    "hidden": true
   },
   "outputs": [
    {
     "data": {
      "text/plain": [
       "False    733\n",
       "dtype: int64"
      ]
     },
     "execution_count": 27,
     "metadata": {},
     "output_type": "execute_result"
    }
   ],
   "source": [
    "heroes_df.duplicated().value_counts()"
   ]
  },
  {
   "cell_type": "code",
   "execution_count": 28,
   "metadata": {
    "hidden": true
   },
   "outputs": [
    {
     "data": {
      "text/html": [
       "<div>\n",
       "<style scoped>\n",
       "    .dataframe tbody tr th:only-of-type {\n",
       "        vertical-align: middle;\n",
       "    }\n",
       "\n",
       "    .dataframe tbody tr th {\n",
       "        vertical-align: top;\n",
       "    }\n",
       "\n",
       "    .dataframe thead th {\n",
       "        text-align: right;\n",
       "    }\n",
       "</style>\n",
       "<table border=\"1\" class=\"dataframe\">\n",
       "  <thead>\n",
       "    <tr style=\"text-align: right;\">\n",
       "      <th></th>\n",
       "      <th>name</th>\n",
       "      <th>Gender</th>\n",
       "      <th>Eye color</th>\n",
       "      <th>Race</th>\n",
       "      <th>Hair color</th>\n",
       "      <th>Height</th>\n",
       "      <th>Publisher</th>\n",
       "      <th>Skin color</th>\n",
       "      <th>Alignment</th>\n",
       "      <th>Weight</th>\n",
       "    </tr>\n",
       "  </thead>\n",
       "  <tbody>\n",
       "    <tr>\n",
       "      <th>0</th>\n",
       "      <td>A-Bomb</td>\n",
       "      <td>Male</td>\n",
       "      <td>yellow</td>\n",
       "      <td>Human</td>\n",
       "      <td>No Hair</td>\n",
       "      <td>203.0</td>\n",
       "      <td>Marvel Comics</td>\n",
       "      <td>-</td>\n",
       "      <td>good</td>\n",
       "      <td>441.0</td>\n",
       "    </tr>\n",
       "    <tr>\n",
       "      <th>1</th>\n",
       "      <td>Abe Sapien</td>\n",
       "      <td>Male</td>\n",
       "      <td>blue</td>\n",
       "      <td>Icthyo Sapien</td>\n",
       "      <td>No Hair</td>\n",
       "      <td>191.0</td>\n",
       "      <td>Dark Horse Comics</td>\n",
       "      <td>blue</td>\n",
       "      <td>good</td>\n",
       "      <td>65.0</td>\n",
       "    </tr>\n",
       "    <tr>\n",
       "      <th>2</th>\n",
       "      <td>Abin Sur</td>\n",
       "      <td>Male</td>\n",
       "      <td>blue</td>\n",
       "      <td>Ungaran</td>\n",
       "      <td>No Hair</td>\n",
       "      <td>185.0</td>\n",
       "      <td>DC Comics</td>\n",
       "      <td>red</td>\n",
       "      <td>good</td>\n",
       "      <td>90.0</td>\n",
       "    </tr>\n",
       "    <tr>\n",
       "      <th>3</th>\n",
       "      <td>Abomination</td>\n",
       "      <td>Male</td>\n",
       "      <td>green</td>\n",
       "      <td>Human / Radiation</td>\n",
       "      <td>No Hair</td>\n",
       "      <td>203.0</td>\n",
       "      <td>Marvel Comics</td>\n",
       "      <td>-</td>\n",
       "      <td>bad</td>\n",
       "      <td>441.0</td>\n",
       "    </tr>\n",
       "    <tr>\n",
       "      <th>4</th>\n",
       "      <td>Abraxas</td>\n",
       "      <td>Male</td>\n",
       "      <td>blue</td>\n",
       "      <td>Cosmic Entity</td>\n",
       "      <td>Black</td>\n",
       "      <td>-99.0</td>\n",
       "      <td>Marvel Comics</td>\n",
       "      <td>-</td>\n",
       "      <td>bad</td>\n",
       "      <td>-99.0</td>\n",
       "    </tr>\n",
       "    <tr>\n",
       "      <th>...</th>\n",
       "      <td>...</td>\n",
       "      <td>...</td>\n",
       "      <td>...</td>\n",
       "      <td>...</td>\n",
       "      <td>...</td>\n",
       "      <td>...</td>\n",
       "      <td>...</td>\n",
       "      <td>...</td>\n",
       "      <td>...</td>\n",
       "      <td>...</td>\n",
       "    </tr>\n",
       "    <tr>\n",
       "      <th>729</th>\n",
       "      <td>Yellowjacket II</td>\n",
       "      <td>Female</td>\n",
       "      <td>blue</td>\n",
       "      <td>Human</td>\n",
       "      <td>Strawberry Blond</td>\n",
       "      <td>165.0</td>\n",
       "      <td>Marvel Comics</td>\n",
       "      <td>-</td>\n",
       "      <td>good</td>\n",
       "      <td>52.0</td>\n",
       "    </tr>\n",
       "    <tr>\n",
       "      <th>730</th>\n",
       "      <td>Ymir</td>\n",
       "      <td>Male</td>\n",
       "      <td>white</td>\n",
       "      <td>Frost Giant</td>\n",
       "      <td>No Hair</td>\n",
       "      <td>304.8</td>\n",
       "      <td>Marvel Comics</td>\n",
       "      <td>white</td>\n",
       "      <td>good</td>\n",
       "      <td>-99.0</td>\n",
       "    </tr>\n",
       "    <tr>\n",
       "      <th>731</th>\n",
       "      <td>Yoda</td>\n",
       "      <td>Male</td>\n",
       "      <td>brown</td>\n",
       "      <td>Yoda's species</td>\n",
       "      <td>White</td>\n",
       "      <td>66.0</td>\n",
       "      <td>George Lucas</td>\n",
       "      <td>green</td>\n",
       "      <td>good</td>\n",
       "      <td>17.0</td>\n",
       "    </tr>\n",
       "    <tr>\n",
       "      <th>732</th>\n",
       "      <td>Zatanna</td>\n",
       "      <td>Female</td>\n",
       "      <td>blue</td>\n",
       "      <td>Human</td>\n",
       "      <td>Black</td>\n",
       "      <td>170.0</td>\n",
       "      <td>DC Comics</td>\n",
       "      <td>-</td>\n",
       "      <td>good</td>\n",
       "      <td>57.0</td>\n",
       "    </tr>\n",
       "    <tr>\n",
       "      <th>733</th>\n",
       "      <td>Zoom</td>\n",
       "      <td>Male</td>\n",
       "      <td>red</td>\n",
       "      <td>-</td>\n",
       "      <td>Brown</td>\n",
       "      <td>185.0</td>\n",
       "      <td>DC Comics</td>\n",
       "      <td>-</td>\n",
       "      <td>bad</td>\n",
       "      <td>81.0</td>\n",
       "    </tr>\n",
       "  </tbody>\n",
       "</table>\n",
       "<p>733 rows × 10 columns</p>\n",
       "</div>"
      ],
      "text/plain": [
       "                name  Gender Eye color               Race        Hair color  \\\n",
       "0             A-Bomb    Male    yellow              Human           No Hair   \n",
       "1         Abe Sapien    Male      blue      Icthyo Sapien           No Hair   \n",
       "2           Abin Sur    Male      blue            Ungaran           No Hair   \n",
       "3        Abomination    Male     green  Human / Radiation           No Hair   \n",
       "4            Abraxas    Male      blue      Cosmic Entity             Black   \n",
       "..               ...     ...       ...                ...               ...   \n",
       "729  Yellowjacket II  Female      blue              Human  Strawberry Blond   \n",
       "730             Ymir    Male     white        Frost Giant           No Hair   \n",
       "731             Yoda    Male     brown     Yoda's species             White   \n",
       "732          Zatanna  Female      blue              Human             Black   \n",
       "733             Zoom    Male       red                  -             Brown   \n",
       "\n",
       "     Height          Publisher Skin color Alignment  Weight  \n",
       "0     203.0      Marvel Comics          -      good   441.0  \n",
       "1     191.0  Dark Horse Comics       blue      good    65.0  \n",
       "2     185.0          DC Comics        red      good    90.0  \n",
       "3     203.0      Marvel Comics          -       bad   441.0  \n",
       "4     -99.0      Marvel Comics          -       bad   -99.0  \n",
       "..      ...                ...        ...       ...     ...  \n",
       "729   165.0      Marvel Comics          -      good    52.0  \n",
       "730   304.8      Marvel Comics      white      good   -99.0  \n",
       "731    66.0       George Lucas      green      good    17.0  \n",
       "732   170.0          DC Comics          -      good    57.0  \n",
       "733   185.0          DC Comics          -       bad    81.0  \n",
       "\n",
       "[733 rows x 10 columns]"
      ]
     },
     "execution_count": 28,
     "metadata": {},
     "output_type": "execute_result"
    }
   ],
   "source": [
    "heroes_df"
   ]
  },
  {
   "cell_type": "markdown",
   "metadata": {
    "heading_collapsed": true,
    "hidden": true
   },
   "source": [
    "### powers_df missing & duplicates"
   ]
  },
  {
   "cell_type": "markdown",
   "metadata": {
    "hidden": true
   },
   "source": [
    "no missing or duplicate values"
   ]
  },
  {
   "cell_type": "code",
   "execution_count": 29,
   "metadata": {
    "hidden": true
   },
   "outputs": [
    {
     "data": {
      "text/html": [
       "<div>\n",
       "<style scoped>\n",
       "    .dataframe tbody tr th:only-of-type {\n",
       "        vertical-align: middle;\n",
       "    }\n",
       "\n",
       "    .dataframe tbody tr th {\n",
       "        vertical-align: top;\n",
       "    }\n",
       "\n",
       "    .dataframe thead th {\n",
       "        text-align: right;\n",
       "    }\n",
       "</style>\n",
       "<table border=\"1\" class=\"dataframe\">\n",
       "  <thead>\n",
       "    <tr style=\"text-align: right;\">\n",
       "      <th></th>\n",
       "      <th>hero_names</th>\n",
       "      <th>Agility</th>\n",
       "      <th>Accelerated Healing</th>\n",
       "      <th>Lantern Power Ring</th>\n",
       "      <th>Dimensional Awareness</th>\n",
       "      <th>Cold Resistance</th>\n",
       "      <th>Durability</th>\n",
       "      <th>Stealth</th>\n",
       "      <th>Energy Absorption</th>\n",
       "      <th>Flight</th>\n",
       "      <th>...</th>\n",
       "      <th>Web Creation</th>\n",
       "      <th>Reality Warping</th>\n",
       "      <th>Odin Force</th>\n",
       "      <th>Symbiote Costume</th>\n",
       "      <th>Speed Force</th>\n",
       "      <th>Phoenix Force</th>\n",
       "      <th>Molecular Dissipation</th>\n",
       "      <th>Vision - Cryo</th>\n",
       "      <th>Omnipresent</th>\n",
       "      <th>Omniscient</th>\n",
       "    </tr>\n",
       "  </thead>\n",
       "  <tbody>\n",
       "    <tr>\n",
       "      <th>0</th>\n",
       "      <td>3-D Man</td>\n",
       "      <td>True</td>\n",
       "      <td>False</td>\n",
       "      <td>False</td>\n",
       "      <td>False</td>\n",
       "      <td>False</td>\n",
       "      <td>False</td>\n",
       "      <td>False</td>\n",
       "      <td>False</td>\n",
       "      <td>False</td>\n",
       "      <td>...</td>\n",
       "      <td>False</td>\n",
       "      <td>False</td>\n",
       "      <td>False</td>\n",
       "      <td>False</td>\n",
       "      <td>False</td>\n",
       "      <td>False</td>\n",
       "      <td>False</td>\n",
       "      <td>False</td>\n",
       "      <td>False</td>\n",
       "      <td>False</td>\n",
       "    </tr>\n",
       "    <tr>\n",
       "      <th>1</th>\n",
       "      <td>A-Bomb</td>\n",
       "      <td>False</td>\n",
       "      <td>True</td>\n",
       "      <td>False</td>\n",
       "      <td>False</td>\n",
       "      <td>False</td>\n",
       "      <td>True</td>\n",
       "      <td>False</td>\n",
       "      <td>False</td>\n",
       "      <td>False</td>\n",
       "      <td>...</td>\n",
       "      <td>False</td>\n",
       "      <td>False</td>\n",
       "      <td>False</td>\n",
       "      <td>False</td>\n",
       "      <td>False</td>\n",
       "      <td>False</td>\n",
       "      <td>False</td>\n",
       "      <td>False</td>\n",
       "      <td>False</td>\n",
       "      <td>False</td>\n",
       "    </tr>\n",
       "    <tr>\n",
       "      <th>2</th>\n",
       "      <td>Abe Sapien</td>\n",
       "      <td>True</td>\n",
       "      <td>True</td>\n",
       "      <td>False</td>\n",
       "      <td>False</td>\n",
       "      <td>True</td>\n",
       "      <td>True</td>\n",
       "      <td>False</td>\n",
       "      <td>False</td>\n",
       "      <td>False</td>\n",
       "      <td>...</td>\n",
       "      <td>False</td>\n",
       "      <td>False</td>\n",
       "      <td>False</td>\n",
       "      <td>False</td>\n",
       "      <td>False</td>\n",
       "      <td>False</td>\n",
       "      <td>False</td>\n",
       "      <td>False</td>\n",
       "      <td>False</td>\n",
       "      <td>False</td>\n",
       "    </tr>\n",
       "    <tr>\n",
       "      <th>3</th>\n",
       "      <td>Abin Sur</td>\n",
       "      <td>False</td>\n",
       "      <td>False</td>\n",
       "      <td>True</td>\n",
       "      <td>False</td>\n",
       "      <td>False</td>\n",
       "      <td>False</td>\n",
       "      <td>False</td>\n",
       "      <td>False</td>\n",
       "      <td>False</td>\n",
       "      <td>...</td>\n",
       "      <td>False</td>\n",
       "      <td>False</td>\n",
       "      <td>False</td>\n",
       "      <td>False</td>\n",
       "      <td>False</td>\n",
       "      <td>False</td>\n",
       "      <td>False</td>\n",
       "      <td>False</td>\n",
       "      <td>False</td>\n",
       "      <td>False</td>\n",
       "    </tr>\n",
       "    <tr>\n",
       "      <th>4</th>\n",
       "      <td>Abomination</td>\n",
       "      <td>False</td>\n",
       "      <td>True</td>\n",
       "      <td>False</td>\n",
       "      <td>False</td>\n",
       "      <td>False</td>\n",
       "      <td>False</td>\n",
       "      <td>False</td>\n",
       "      <td>False</td>\n",
       "      <td>False</td>\n",
       "      <td>...</td>\n",
       "      <td>False</td>\n",
       "      <td>False</td>\n",
       "      <td>False</td>\n",
       "      <td>False</td>\n",
       "      <td>False</td>\n",
       "      <td>False</td>\n",
       "      <td>False</td>\n",
       "      <td>False</td>\n",
       "      <td>False</td>\n",
       "      <td>False</td>\n",
       "    </tr>\n",
       "    <tr>\n",
       "      <th>...</th>\n",
       "      <td>...</td>\n",
       "      <td>...</td>\n",
       "      <td>...</td>\n",
       "      <td>...</td>\n",
       "      <td>...</td>\n",
       "      <td>...</td>\n",
       "      <td>...</td>\n",
       "      <td>...</td>\n",
       "      <td>...</td>\n",
       "      <td>...</td>\n",
       "      <td>...</td>\n",
       "      <td>...</td>\n",
       "      <td>...</td>\n",
       "      <td>...</td>\n",
       "      <td>...</td>\n",
       "      <td>...</td>\n",
       "      <td>...</td>\n",
       "      <td>...</td>\n",
       "      <td>...</td>\n",
       "      <td>...</td>\n",
       "      <td>...</td>\n",
       "    </tr>\n",
       "    <tr>\n",
       "      <th>662</th>\n",
       "      <td>Yellowjacket II</td>\n",
       "      <td>False</td>\n",
       "      <td>False</td>\n",
       "      <td>False</td>\n",
       "      <td>False</td>\n",
       "      <td>False</td>\n",
       "      <td>False</td>\n",
       "      <td>False</td>\n",
       "      <td>False</td>\n",
       "      <td>True</td>\n",
       "      <td>...</td>\n",
       "      <td>False</td>\n",
       "      <td>False</td>\n",
       "      <td>False</td>\n",
       "      <td>False</td>\n",
       "      <td>False</td>\n",
       "      <td>False</td>\n",
       "      <td>False</td>\n",
       "      <td>False</td>\n",
       "      <td>False</td>\n",
       "      <td>False</td>\n",
       "    </tr>\n",
       "    <tr>\n",
       "      <th>663</th>\n",
       "      <td>Ymir</td>\n",
       "      <td>False</td>\n",
       "      <td>False</td>\n",
       "      <td>False</td>\n",
       "      <td>False</td>\n",
       "      <td>True</td>\n",
       "      <td>True</td>\n",
       "      <td>False</td>\n",
       "      <td>False</td>\n",
       "      <td>False</td>\n",
       "      <td>...</td>\n",
       "      <td>False</td>\n",
       "      <td>False</td>\n",
       "      <td>False</td>\n",
       "      <td>False</td>\n",
       "      <td>False</td>\n",
       "      <td>False</td>\n",
       "      <td>False</td>\n",
       "      <td>False</td>\n",
       "      <td>False</td>\n",
       "      <td>False</td>\n",
       "    </tr>\n",
       "    <tr>\n",
       "      <th>664</th>\n",
       "      <td>Yoda</td>\n",
       "      <td>True</td>\n",
       "      <td>False</td>\n",
       "      <td>False</td>\n",
       "      <td>False</td>\n",
       "      <td>False</td>\n",
       "      <td>False</td>\n",
       "      <td>True</td>\n",
       "      <td>False</td>\n",
       "      <td>False</td>\n",
       "      <td>...</td>\n",
       "      <td>False</td>\n",
       "      <td>False</td>\n",
       "      <td>False</td>\n",
       "      <td>False</td>\n",
       "      <td>False</td>\n",
       "      <td>False</td>\n",
       "      <td>False</td>\n",
       "      <td>False</td>\n",
       "      <td>False</td>\n",
       "      <td>False</td>\n",
       "    </tr>\n",
       "    <tr>\n",
       "      <th>665</th>\n",
       "      <td>Zatanna</td>\n",
       "      <td>False</td>\n",
       "      <td>False</td>\n",
       "      <td>False</td>\n",
       "      <td>False</td>\n",
       "      <td>False</td>\n",
       "      <td>False</td>\n",
       "      <td>False</td>\n",
       "      <td>False</td>\n",
       "      <td>False</td>\n",
       "      <td>...</td>\n",
       "      <td>False</td>\n",
       "      <td>False</td>\n",
       "      <td>False</td>\n",
       "      <td>False</td>\n",
       "      <td>False</td>\n",
       "      <td>False</td>\n",
       "      <td>False</td>\n",
       "      <td>False</td>\n",
       "      <td>False</td>\n",
       "      <td>False</td>\n",
       "    </tr>\n",
       "    <tr>\n",
       "      <th>666</th>\n",
       "      <td>Zoom</td>\n",
       "      <td>False</td>\n",
       "      <td>False</td>\n",
       "      <td>False</td>\n",
       "      <td>False</td>\n",
       "      <td>False</td>\n",
       "      <td>False</td>\n",
       "      <td>False</td>\n",
       "      <td>False</td>\n",
       "      <td>False</td>\n",
       "      <td>...</td>\n",
       "      <td>False</td>\n",
       "      <td>False</td>\n",
       "      <td>False</td>\n",
       "      <td>False</td>\n",
       "      <td>False</td>\n",
       "      <td>False</td>\n",
       "      <td>False</td>\n",
       "      <td>False</td>\n",
       "      <td>False</td>\n",
       "      <td>False</td>\n",
       "    </tr>\n",
       "  </tbody>\n",
       "</table>\n",
       "<p>667 rows × 168 columns</p>\n",
       "</div>"
      ],
      "text/plain": [
       "          hero_names  Agility  Accelerated Healing  Lantern Power Ring  \\\n",
       "0            3-D Man     True                False               False   \n",
       "1             A-Bomb    False                 True               False   \n",
       "2         Abe Sapien     True                 True               False   \n",
       "3           Abin Sur    False                False                True   \n",
       "4        Abomination    False                 True               False   \n",
       "..               ...      ...                  ...                 ...   \n",
       "662  Yellowjacket II    False                False               False   \n",
       "663             Ymir    False                False               False   \n",
       "664             Yoda     True                False               False   \n",
       "665          Zatanna    False                False               False   \n",
       "666             Zoom    False                False               False   \n",
       "\n",
       "     Dimensional Awareness  Cold Resistance  Durability  Stealth  \\\n",
       "0                    False            False       False    False   \n",
       "1                    False            False        True    False   \n",
       "2                    False             True        True    False   \n",
       "3                    False            False       False    False   \n",
       "4                    False            False       False    False   \n",
       "..                     ...              ...         ...      ...   \n",
       "662                  False            False       False    False   \n",
       "663                  False             True        True    False   \n",
       "664                  False            False       False     True   \n",
       "665                  False            False       False    False   \n",
       "666                  False            False       False    False   \n",
       "\n",
       "     Energy Absorption  Flight  ...  Web Creation  Reality Warping  \\\n",
       "0                False   False  ...         False            False   \n",
       "1                False   False  ...         False            False   \n",
       "2                False   False  ...         False            False   \n",
       "3                False   False  ...         False            False   \n",
       "4                False   False  ...         False            False   \n",
       "..                 ...     ...  ...           ...              ...   \n",
       "662              False    True  ...         False            False   \n",
       "663              False   False  ...         False            False   \n",
       "664              False   False  ...         False            False   \n",
       "665              False   False  ...         False            False   \n",
       "666              False   False  ...         False            False   \n",
       "\n",
       "     Odin Force  Symbiote Costume  Speed Force  Phoenix Force  \\\n",
       "0         False             False        False          False   \n",
       "1         False             False        False          False   \n",
       "2         False             False        False          False   \n",
       "3         False             False        False          False   \n",
       "4         False             False        False          False   \n",
       "..          ...               ...          ...            ...   \n",
       "662       False             False        False          False   \n",
       "663       False             False        False          False   \n",
       "664       False             False        False          False   \n",
       "665       False             False        False          False   \n",
       "666       False             False        False          False   \n",
       "\n",
       "     Molecular Dissipation  Vision - Cryo  Omnipresent  Omniscient  \n",
       "0                    False          False        False       False  \n",
       "1                    False          False        False       False  \n",
       "2                    False          False        False       False  \n",
       "3                    False          False        False       False  \n",
       "4                    False          False        False       False  \n",
       "..                     ...            ...          ...         ...  \n",
       "662                  False          False        False       False  \n",
       "663                  False          False        False       False  \n",
       "664                  False          False        False       False  \n",
       "665                  False          False        False       False  \n",
       "666                  False          False        False       False  \n",
       "\n",
       "[667 rows x 168 columns]"
      ]
     },
     "execution_count": 29,
     "metadata": {},
     "output_type": "execute_result"
    }
   ],
   "source": [
    "powers_df"
   ]
  },
  {
   "cell_type": "markdown",
   "metadata": {
    "heading_collapsed": true
   },
   "source": [
    "## Joining, Grouping, and Aggregating\n",
    "\n",
    "In the cell below, join the two DataFrames.  Think about which sort of join you should use, as well as which columns you should join on.  Rename columns and manipulate as needed.  \n",
    "\n",
    "**_HINT:_** Consider the possibility that the columns you choose to join on contain duplicate entries. If that is the case, devise a strategy to deal with the duplicates.\n",
    "\n",
    "**_HINT:_** If the join throws an error message, consider setting the column you want to join on as the index for each DataFrame.  "
   ]
  },
  {
   "cell_type": "code",
   "execution_count": 30,
   "metadata": {
    "hidden": true
   },
   "outputs": [
    {
     "data": {
      "text/html": [
       "<div>\n",
       "<style scoped>\n",
       "    .dataframe tbody tr th:only-of-type {\n",
       "        vertical-align: middle;\n",
       "    }\n",
       "\n",
       "    .dataframe tbody tr th {\n",
       "        vertical-align: top;\n",
       "    }\n",
       "\n",
       "    .dataframe thead th {\n",
       "        text-align: right;\n",
       "    }\n",
       "</style>\n",
       "<table border=\"1\" class=\"dataframe\">\n",
       "  <thead>\n",
       "    <tr style=\"text-align: right;\">\n",
       "      <th></th>\n",
       "      <th>name</th>\n",
       "      <th>Gender</th>\n",
       "      <th>Eye color</th>\n",
       "      <th>Race</th>\n",
       "      <th>Hair color</th>\n",
       "      <th>Height</th>\n",
       "      <th>Publisher</th>\n",
       "      <th>Skin color</th>\n",
       "      <th>Alignment</th>\n",
       "      <th>Weight</th>\n",
       "      <th>...</th>\n",
       "      <th>Web Creation</th>\n",
       "      <th>Reality Warping</th>\n",
       "      <th>Odin Force</th>\n",
       "      <th>Symbiote Costume</th>\n",
       "      <th>Speed Force</th>\n",
       "      <th>Phoenix Force</th>\n",
       "      <th>Molecular Dissipation</th>\n",
       "      <th>Vision - Cryo</th>\n",
       "      <th>Omnipresent</th>\n",
       "      <th>Omniscient</th>\n",
       "    </tr>\n",
       "  </thead>\n",
       "  <tbody>\n",
       "    <tr>\n",
       "      <th>0</th>\n",
       "      <td>A-Bomb</td>\n",
       "      <td>Male</td>\n",
       "      <td>yellow</td>\n",
       "      <td>Human</td>\n",
       "      <td>No Hair</td>\n",
       "      <td>203.0</td>\n",
       "      <td>Marvel Comics</td>\n",
       "      <td>-</td>\n",
       "      <td>good</td>\n",
       "      <td>441.0</td>\n",
       "      <td>...</td>\n",
       "      <td>False</td>\n",
       "      <td>False</td>\n",
       "      <td>False</td>\n",
       "      <td>False</td>\n",
       "      <td>False</td>\n",
       "      <td>False</td>\n",
       "      <td>False</td>\n",
       "      <td>False</td>\n",
       "      <td>False</td>\n",
       "      <td>False</td>\n",
       "    </tr>\n",
       "    <tr>\n",
       "      <th>1</th>\n",
       "      <td>Abe Sapien</td>\n",
       "      <td>Male</td>\n",
       "      <td>blue</td>\n",
       "      <td>Icthyo Sapien</td>\n",
       "      <td>No Hair</td>\n",
       "      <td>191.0</td>\n",
       "      <td>Dark Horse Comics</td>\n",
       "      <td>blue</td>\n",
       "      <td>good</td>\n",
       "      <td>65.0</td>\n",
       "      <td>...</td>\n",
       "      <td>False</td>\n",
       "      <td>False</td>\n",
       "      <td>False</td>\n",
       "      <td>False</td>\n",
       "      <td>False</td>\n",
       "      <td>False</td>\n",
       "      <td>False</td>\n",
       "      <td>False</td>\n",
       "      <td>False</td>\n",
       "      <td>False</td>\n",
       "    </tr>\n",
       "    <tr>\n",
       "      <th>2</th>\n",
       "      <td>Abin Sur</td>\n",
       "      <td>Male</td>\n",
       "      <td>blue</td>\n",
       "      <td>Ungaran</td>\n",
       "      <td>No Hair</td>\n",
       "      <td>185.0</td>\n",
       "      <td>DC Comics</td>\n",
       "      <td>red</td>\n",
       "      <td>good</td>\n",
       "      <td>90.0</td>\n",
       "      <td>...</td>\n",
       "      <td>False</td>\n",
       "      <td>False</td>\n",
       "      <td>False</td>\n",
       "      <td>False</td>\n",
       "      <td>False</td>\n",
       "      <td>False</td>\n",
       "      <td>False</td>\n",
       "      <td>False</td>\n",
       "      <td>False</td>\n",
       "      <td>False</td>\n",
       "    </tr>\n",
       "    <tr>\n",
       "      <th>3</th>\n",
       "      <td>Abomination</td>\n",
       "      <td>Male</td>\n",
       "      <td>green</td>\n",
       "      <td>Human / Radiation</td>\n",
       "      <td>No Hair</td>\n",
       "      <td>203.0</td>\n",
       "      <td>Marvel Comics</td>\n",
       "      <td>-</td>\n",
       "      <td>bad</td>\n",
       "      <td>441.0</td>\n",
       "      <td>...</td>\n",
       "      <td>False</td>\n",
       "      <td>False</td>\n",
       "      <td>False</td>\n",
       "      <td>False</td>\n",
       "      <td>False</td>\n",
       "      <td>False</td>\n",
       "      <td>False</td>\n",
       "      <td>False</td>\n",
       "      <td>False</td>\n",
       "      <td>False</td>\n",
       "    </tr>\n",
       "    <tr>\n",
       "      <th>4</th>\n",
       "      <td>Abraxas</td>\n",
       "      <td>Male</td>\n",
       "      <td>blue</td>\n",
       "      <td>Cosmic Entity</td>\n",
       "      <td>Black</td>\n",
       "      <td>-99.0</td>\n",
       "      <td>Marvel Comics</td>\n",
       "      <td>-</td>\n",
       "      <td>bad</td>\n",
       "      <td>-99.0</td>\n",
       "      <td>...</td>\n",
       "      <td>False</td>\n",
       "      <td>False</td>\n",
       "      <td>False</td>\n",
       "      <td>False</td>\n",
       "      <td>False</td>\n",
       "      <td>False</td>\n",
       "      <td>False</td>\n",
       "      <td>False</td>\n",
       "      <td>False</td>\n",
       "      <td>False</td>\n",
       "    </tr>\n",
       "    <tr>\n",
       "      <th>...</th>\n",
       "      <td>...</td>\n",
       "      <td>...</td>\n",
       "      <td>...</td>\n",
       "      <td>...</td>\n",
       "      <td>...</td>\n",
       "      <td>...</td>\n",
       "      <td>...</td>\n",
       "      <td>...</td>\n",
       "      <td>...</td>\n",
       "      <td>...</td>\n",
       "      <td>...</td>\n",
       "      <td>...</td>\n",
       "      <td>...</td>\n",
       "      <td>...</td>\n",
       "      <td>...</td>\n",
       "      <td>...</td>\n",
       "      <td>...</td>\n",
       "      <td>...</td>\n",
       "      <td>...</td>\n",
       "      <td>...</td>\n",
       "      <td>...</td>\n",
       "    </tr>\n",
       "    <tr>\n",
       "      <th>655</th>\n",
       "      <td>Yellowjacket II</td>\n",
       "      <td>Female</td>\n",
       "      <td>blue</td>\n",
       "      <td>Human</td>\n",
       "      <td>Strawberry Blond</td>\n",
       "      <td>165.0</td>\n",
       "      <td>Marvel Comics</td>\n",
       "      <td>-</td>\n",
       "      <td>good</td>\n",
       "      <td>52.0</td>\n",
       "      <td>...</td>\n",
       "      <td>False</td>\n",
       "      <td>False</td>\n",
       "      <td>False</td>\n",
       "      <td>False</td>\n",
       "      <td>False</td>\n",
       "      <td>False</td>\n",
       "      <td>False</td>\n",
       "      <td>False</td>\n",
       "      <td>False</td>\n",
       "      <td>False</td>\n",
       "    </tr>\n",
       "    <tr>\n",
       "      <th>656</th>\n",
       "      <td>Ymir</td>\n",
       "      <td>Male</td>\n",
       "      <td>white</td>\n",
       "      <td>Frost Giant</td>\n",
       "      <td>No Hair</td>\n",
       "      <td>304.8</td>\n",
       "      <td>Marvel Comics</td>\n",
       "      <td>white</td>\n",
       "      <td>good</td>\n",
       "      <td>-99.0</td>\n",
       "      <td>...</td>\n",
       "      <td>False</td>\n",
       "      <td>False</td>\n",
       "      <td>False</td>\n",
       "      <td>False</td>\n",
       "      <td>False</td>\n",
       "      <td>False</td>\n",
       "      <td>False</td>\n",
       "      <td>False</td>\n",
       "      <td>False</td>\n",
       "      <td>False</td>\n",
       "    </tr>\n",
       "    <tr>\n",
       "      <th>657</th>\n",
       "      <td>Yoda</td>\n",
       "      <td>Male</td>\n",
       "      <td>brown</td>\n",
       "      <td>Yoda's species</td>\n",
       "      <td>White</td>\n",
       "      <td>66.0</td>\n",
       "      <td>George Lucas</td>\n",
       "      <td>green</td>\n",
       "      <td>good</td>\n",
       "      <td>17.0</td>\n",
       "      <td>...</td>\n",
       "      <td>False</td>\n",
       "      <td>False</td>\n",
       "      <td>False</td>\n",
       "      <td>False</td>\n",
       "      <td>False</td>\n",
       "      <td>False</td>\n",
       "      <td>False</td>\n",
       "      <td>False</td>\n",
       "      <td>False</td>\n",
       "      <td>False</td>\n",
       "    </tr>\n",
       "    <tr>\n",
       "      <th>658</th>\n",
       "      <td>Zatanna</td>\n",
       "      <td>Female</td>\n",
       "      <td>blue</td>\n",
       "      <td>Human</td>\n",
       "      <td>Black</td>\n",
       "      <td>170.0</td>\n",
       "      <td>DC Comics</td>\n",
       "      <td>-</td>\n",
       "      <td>good</td>\n",
       "      <td>57.0</td>\n",
       "      <td>...</td>\n",
       "      <td>False</td>\n",
       "      <td>False</td>\n",
       "      <td>False</td>\n",
       "      <td>False</td>\n",
       "      <td>False</td>\n",
       "      <td>False</td>\n",
       "      <td>False</td>\n",
       "      <td>False</td>\n",
       "      <td>False</td>\n",
       "      <td>False</td>\n",
       "    </tr>\n",
       "    <tr>\n",
       "      <th>659</th>\n",
       "      <td>Zoom</td>\n",
       "      <td>Male</td>\n",
       "      <td>red</td>\n",
       "      <td>-</td>\n",
       "      <td>Brown</td>\n",
       "      <td>185.0</td>\n",
       "      <td>DC Comics</td>\n",
       "      <td>-</td>\n",
       "      <td>bad</td>\n",
       "      <td>81.0</td>\n",
       "      <td>...</td>\n",
       "      <td>False</td>\n",
       "      <td>False</td>\n",
       "      <td>False</td>\n",
       "      <td>False</td>\n",
       "      <td>False</td>\n",
       "      <td>False</td>\n",
       "      <td>False</td>\n",
       "      <td>False</td>\n",
       "      <td>False</td>\n",
       "      <td>False</td>\n",
       "    </tr>\n",
       "  </tbody>\n",
       "</table>\n",
       "<p>660 rows × 178 columns</p>\n",
       "</div>"
      ],
      "text/plain": [
       "                name  Gender Eye color               Race        Hair color  \\\n",
       "0             A-Bomb    Male    yellow              Human           No Hair   \n",
       "1         Abe Sapien    Male      blue      Icthyo Sapien           No Hair   \n",
       "2           Abin Sur    Male      blue            Ungaran           No Hair   \n",
       "3        Abomination    Male     green  Human / Radiation           No Hair   \n",
       "4            Abraxas    Male      blue      Cosmic Entity             Black   \n",
       "..               ...     ...       ...                ...               ...   \n",
       "655  Yellowjacket II  Female      blue              Human  Strawberry Blond   \n",
       "656             Ymir    Male     white        Frost Giant           No Hair   \n",
       "657             Yoda    Male     brown     Yoda's species             White   \n",
       "658          Zatanna  Female      blue              Human             Black   \n",
       "659             Zoom    Male       red                  -             Brown   \n",
       "\n",
       "     Height          Publisher Skin color Alignment  Weight  ... Web Creation  \\\n",
       "0     203.0      Marvel Comics          -      good   441.0  ...        False   \n",
       "1     191.0  Dark Horse Comics       blue      good    65.0  ...        False   \n",
       "2     185.0          DC Comics        red      good    90.0  ...        False   \n",
       "3     203.0      Marvel Comics          -       bad   441.0  ...        False   \n",
       "4     -99.0      Marvel Comics          -       bad   -99.0  ...        False   \n",
       "..      ...                ...        ...       ...     ...  ...          ...   \n",
       "655   165.0      Marvel Comics          -      good    52.0  ...        False   \n",
       "656   304.8      Marvel Comics      white      good   -99.0  ...        False   \n",
       "657    66.0       George Lucas      green      good    17.0  ...        False   \n",
       "658   170.0          DC Comics          -      good    57.0  ...        False   \n",
       "659   185.0          DC Comics          -       bad    81.0  ...        False   \n",
       "\n",
       "     Reality Warping  Odin Force  Symbiote Costume  Speed Force  \\\n",
       "0              False       False             False        False   \n",
       "1              False       False             False        False   \n",
       "2              False       False             False        False   \n",
       "3              False       False             False        False   \n",
       "4              False       False             False        False   \n",
       "..               ...         ...               ...          ...   \n",
       "655            False       False             False        False   \n",
       "656            False       False             False        False   \n",
       "657            False       False             False        False   \n",
       "658            False       False             False        False   \n",
       "659            False       False             False        False   \n",
       "\n",
       "     Phoenix Force  Molecular Dissipation  Vision - Cryo  Omnipresent  \\\n",
       "0            False                  False          False        False   \n",
       "1            False                  False          False        False   \n",
       "2            False                  False          False        False   \n",
       "3            False                  False          False        False   \n",
       "4            False                  False          False        False   \n",
       "..             ...                    ...            ...          ...   \n",
       "655          False                  False          False        False   \n",
       "656          False                  False          False        False   \n",
       "657          False                  False          False        False   \n",
       "658          False                  False          False        False   \n",
       "659          False                  False          False        False   \n",
       "\n",
       "     Omniscient  \n",
       "0         False  \n",
       "1         False  \n",
       "2         False  \n",
       "3         False  \n",
       "4         False  \n",
       "..          ...  \n",
       "655       False  \n",
       "656       False  \n",
       "657       False  \n",
       "658       False  \n",
       "659       False  \n",
       "\n",
       "[660 rows x 178 columns]"
      ]
     },
     "execution_count": 30,
     "metadata": {},
     "output_type": "execute_result"
    }
   ],
   "source": [
    "df = pd.merge(heroes_df,\n",
    "              powers_df,\n",
    "              how='inner',\n",
    "              left_on='name',\n",
    "              right_on='hero_names')\n",
    "df"
   ]
  },
  {
   "cell_type": "code",
   "execution_count": 31,
   "metadata": {
    "hidden": true
   },
   "outputs": [
    {
     "name": "stdout",
     "output_type": "stream",
     "text": [
      "<class 'pandas.core.frame.DataFrame'>\n",
      "Int64Index: 660 entries, 0 to 659\n",
      "Columns: 178 entries, name to Omniscient\n",
      "dtypes: bool(167), float64(2), object(9)\n",
      "memory usage: 169.5+ KB\n"
     ]
    }
   ],
   "source": [
    "df.info()"
   ]
  },
  {
   "cell_type": "code",
   "execution_count": 32,
   "metadata": {
    "hidden": true
   },
   "outputs": [
    {
     "data": {
      "text/html": [
       "<div>\n",
       "<style scoped>\n",
       "    .dataframe tbody tr th:only-of-type {\n",
       "        vertical-align: middle;\n",
       "    }\n",
       "\n",
       "    .dataframe tbody tr th {\n",
       "        vertical-align: top;\n",
       "    }\n",
       "\n",
       "    .dataframe thead th {\n",
       "        text-align: right;\n",
       "    }\n",
       "</style>\n",
       "<table border=\"1\" class=\"dataframe\">\n",
       "  <thead>\n",
       "    <tr style=\"text-align: right;\">\n",
       "      <th></th>\n",
       "      <th>Height</th>\n",
       "      <th>Weight</th>\n",
       "    </tr>\n",
       "  </thead>\n",
       "  <tbody>\n",
       "    <tr>\n",
       "      <th>count</th>\n",
       "      <td>660.000000</td>\n",
       "      <td>660.000000</td>\n",
       "    </tr>\n",
       "    <tr>\n",
       "      <th>mean</th>\n",
       "      <td>113.509848</td>\n",
       "      <td>52.222288</td>\n",
       "    </tr>\n",
       "    <tr>\n",
       "      <th>std</th>\n",
       "      <td>135.700237</td>\n",
       "      <td>131.574480</td>\n",
       "    </tr>\n",
       "    <tr>\n",
       "      <th>min</th>\n",
       "      <td>-99.000000</td>\n",
       "      <td>-99.000000</td>\n",
       "    </tr>\n",
       "    <tr>\n",
       "      <th>25%</th>\n",
       "      <td>-99.000000</td>\n",
       "      <td>-99.000000</td>\n",
       "    </tr>\n",
       "    <tr>\n",
       "      <th>50%</th>\n",
       "      <td>178.000000</td>\n",
       "      <td>65.000000</td>\n",
       "    </tr>\n",
       "    <tr>\n",
       "      <th>75%</th>\n",
       "      <td>188.000000</td>\n",
       "      <td>92.750000</td>\n",
       "    </tr>\n",
       "    <tr>\n",
       "      <th>max</th>\n",
       "      <td>975.000000</td>\n",
       "      <td>900.000000</td>\n",
       "    </tr>\n",
       "  </tbody>\n",
       "</table>\n",
       "</div>"
      ],
      "text/plain": [
       "           Height      Weight\n",
       "count  660.000000  660.000000\n",
       "mean   113.509848   52.222288\n",
       "std    135.700237  131.574480\n",
       "min    -99.000000  -99.000000\n",
       "25%    -99.000000  -99.000000\n",
       "50%    178.000000   65.000000\n",
       "75%    188.000000   92.750000\n",
       "max    975.000000  900.000000"
      ]
     },
     "execution_count": 32,
     "metadata": {},
     "output_type": "execute_result"
    }
   ],
   "source": [
    "df.describe()"
   ]
  },
  {
   "cell_type": "markdown",
   "metadata": {
    "heading_collapsed": true,
    "hidden": true
   },
   "source": [
    "### data cleaning (droping)"
   ]
  },
  {
   "cell_type": "markdown",
   "metadata": {
    "heading_collapsed": true,
    "hidden": true
   },
   "source": [
    "##### Height "
   ]
  },
  {
   "cell_type": "code",
   "execution_count": 33,
   "metadata": {
    "hidden": true
   },
   "outputs": [],
   "source": [
    "df.loc[df['Height'] < 0, 'Height'] = np.nan"
   ]
  },
  {
   "cell_type": "markdown",
   "metadata": {
    "heading_collapsed": true,
    "hidden": true
   },
   "source": [
    "##### Weight"
   ]
  },
  {
   "cell_type": "code",
   "execution_count": 34,
   "metadata": {
    "hidden": true
   },
   "outputs": [],
   "source": [
    "df.loc[df['Weight'] < 0, 'Weight'] = np.nan"
   ]
  },
  {
   "cell_type": "code",
   "execution_count": 35,
   "metadata": {
    "hidden": true
   },
   "outputs": [
    {
     "data": {
      "text/html": [
       "<div>\n",
       "<style scoped>\n",
       "    .dataframe tbody tr th:only-of-type {\n",
       "        vertical-align: middle;\n",
       "    }\n",
       "\n",
       "    .dataframe tbody tr th {\n",
       "        vertical-align: top;\n",
       "    }\n",
       "\n",
       "    .dataframe thead th {\n",
       "        text-align: right;\n",
       "    }\n",
       "</style>\n",
       "<table border=\"1\" class=\"dataframe\">\n",
       "  <thead>\n",
       "    <tr style=\"text-align: right;\">\n",
       "      <th></th>\n",
       "      <th>Height</th>\n",
       "      <th>Weight</th>\n",
       "    </tr>\n",
       "  </thead>\n",
       "  <tbody>\n",
       "    <tr>\n",
       "      <th>count</th>\n",
       "      <td>490.000000</td>\n",
       "      <td>470.000000</td>\n",
       "    </tr>\n",
       "    <tr>\n",
       "      <th>mean</th>\n",
       "      <td>187.237755</td>\n",
       "      <td>113.354703</td>\n",
       "    </tr>\n",
       "    <tr>\n",
       "      <th>std</th>\n",
       "      <td>60.576189</td>\n",
       "      <td>106.375445</td>\n",
       "    </tr>\n",
       "    <tr>\n",
       "      <th>min</th>\n",
       "      <td>15.200000</td>\n",
       "      <td>2.000000</td>\n",
       "    </tr>\n",
       "    <tr>\n",
       "      <th>25%</th>\n",
       "      <td>173.500000</td>\n",
       "      <td>61.000000</td>\n",
       "    </tr>\n",
       "    <tr>\n",
       "      <th>50%</th>\n",
       "      <td>183.000000</td>\n",
       "      <td>81.000000</td>\n",
       "    </tr>\n",
       "    <tr>\n",
       "      <th>75%</th>\n",
       "      <td>190.250000</td>\n",
       "      <td>106.000000</td>\n",
       "    </tr>\n",
       "    <tr>\n",
       "      <th>max</th>\n",
       "      <td>975.000000</td>\n",
       "      <td>900.000000</td>\n",
       "    </tr>\n",
       "  </tbody>\n",
       "</table>\n",
       "</div>"
      ],
      "text/plain": [
       "           Height      Weight\n",
       "count  490.000000  470.000000\n",
       "mean   187.237755  113.354703\n",
       "std     60.576189  106.375445\n",
       "min     15.200000    2.000000\n",
       "25%    173.500000   61.000000\n",
       "50%    183.000000   81.000000\n",
       "75%    190.250000  106.000000\n",
       "max    975.000000  900.000000"
      ]
     },
     "execution_count": 35,
     "metadata": {},
     "output_type": "execute_result"
    }
   ],
   "source": [
    "df.describe()"
   ]
  },
  {
   "cell_type": "markdown",
   "metadata": {
    "heading_collapsed": true,
    "hidden": true
   },
   "source": [
    "### filling nan"
   ]
  },
  {
   "cell_type": "code",
   "execution_count": 36,
   "metadata": {
    "hidden": true
   },
   "outputs": [
    {
     "data": {
      "text/plain": [
       "Height    170\n",
       "Weight    190\n",
       "dtype: int64"
      ]
     },
     "execution_count": 36,
     "metadata": {},
     "output_type": "execute_result"
    }
   ],
   "source": [
    "df.isna().sum().loc[lambda x : x!=0]"
   ]
  },
  {
   "cell_type": "code",
   "execution_count": 37,
   "metadata": {
    "hidden": true
   },
   "outputs": [
    {
     "data": {
      "text/html": [
       "<div>\n",
       "<style scoped>\n",
       "    .dataframe tbody tr th:only-of-type {\n",
       "        vertical-align: middle;\n",
       "    }\n",
       "\n",
       "    .dataframe tbody tr th {\n",
       "        vertical-align: top;\n",
       "    }\n",
       "\n",
       "    .dataframe thead th {\n",
       "        text-align: right;\n",
       "    }\n",
       "</style>\n",
       "<table border=\"1\" class=\"dataframe\">\n",
       "  <thead>\n",
       "    <tr style=\"text-align: right;\">\n",
       "      <th></th>\n",
       "      <th>name</th>\n",
       "      <th>Gender</th>\n",
       "      <th>Eye color</th>\n",
       "      <th>Race</th>\n",
       "      <th>Hair color</th>\n",
       "      <th>Height</th>\n",
       "      <th>Publisher</th>\n",
       "      <th>Skin color</th>\n",
       "      <th>Alignment</th>\n",
       "      <th>Weight</th>\n",
       "      <th>...</th>\n",
       "      <th>Web Creation</th>\n",
       "      <th>Reality Warping</th>\n",
       "      <th>Odin Force</th>\n",
       "      <th>Symbiote Costume</th>\n",
       "      <th>Speed Force</th>\n",
       "      <th>Phoenix Force</th>\n",
       "      <th>Molecular Dissipation</th>\n",
       "      <th>Vision - Cryo</th>\n",
       "      <th>Omnipresent</th>\n",
       "      <th>Omniscient</th>\n",
       "    </tr>\n",
       "  </thead>\n",
       "  <tbody>\n",
       "    <tr>\n",
       "      <th>4</th>\n",
       "      <td>Abraxas</td>\n",
       "      <td>Male</td>\n",
       "      <td>blue</td>\n",
       "      <td>Cosmic Entity</td>\n",
       "      <td>Black</td>\n",
       "      <td>NaN</td>\n",
       "      <td>Marvel Comics</td>\n",
       "      <td>-</td>\n",
       "      <td>bad</td>\n",
       "      <td>NaN</td>\n",
       "      <td>...</td>\n",
       "      <td>False</td>\n",
       "      <td>False</td>\n",
       "      <td>False</td>\n",
       "      <td>False</td>\n",
       "      <td>False</td>\n",
       "      <td>False</td>\n",
       "      <td>False</td>\n",
       "      <td>False</td>\n",
       "      <td>False</td>\n",
       "      <td>False</td>\n",
       "    </tr>\n",
       "    <tr>\n",
       "      <th>6</th>\n",
       "      <td>Adam Monroe</td>\n",
       "      <td>Male</td>\n",
       "      <td>blue</td>\n",
       "      <td>-</td>\n",
       "      <td>Blond</td>\n",
       "      <td>NaN</td>\n",
       "      <td>NBC - Heroes</td>\n",
       "      <td>-</td>\n",
       "      <td>good</td>\n",
       "      <td>NaN</td>\n",
       "      <td>...</td>\n",
       "      <td>False</td>\n",
       "      <td>False</td>\n",
       "      <td>False</td>\n",
       "      <td>False</td>\n",
       "      <td>False</td>\n",
       "      <td>False</td>\n",
       "      <td>False</td>\n",
       "      <td>False</td>\n",
       "      <td>False</td>\n",
       "      <td>False</td>\n",
       "    </tr>\n",
       "    <tr>\n",
       "      <th>13</th>\n",
       "      <td>Alex Mercer</td>\n",
       "      <td>Male</td>\n",
       "      <td>-</td>\n",
       "      <td>Human</td>\n",
       "      <td>-</td>\n",
       "      <td>NaN</td>\n",
       "      <td>Wildstorm</td>\n",
       "      <td>-</td>\n",
       "      <td>bad</td>\n",
       "      <td>NaN</td>\n",
       "      <td>...</td>\n",
       "      <td>False</td>\n",
       "      <td>False</td>\n",
       "      <td>False</td>\n",
       "      <td>False</td>\n",
       "      <td>False</td>\n",
       "      <td>False</td>\n",
       "      <td>False</td>\n",
       "      <td>False</td>\n",
       "      <td>False</td>\n",
       "      <td>False</td>\n",
       "    </tr>\n",
       "    <tr>\n",
       "      <th>14</th>\n",
       "      <td>Alex Woolsly</td>\n",
       "      <td>Male</td>\n",
       "      <td>-</td>\n",
       "      <td>-</td>\n",
       "      <td>-</td>\n",
       "      <td>NaN</td>\n",
       "      <td>NBC - Heroes</td>\n",
       "      <td>-</td>\n",
       "      <td>good</td>\n",
       "      <td>NaN</td>\n",
       "      <td>...</td>\n",
       "      <td>False</td>\n",
       "      <td>False</td>\n",
       "      <td>False</td>\n",
       "      <td>False</td>\n",
       "      <td>False</td>\n",
       "      <td>False</td>\n",
       "      <td>False</td>\n",
       "      <td>False</td>\n",
       "      <td>False</td>\n",
       "      <td>False</td>\n",
       "    </tr>\n",
       "    <tr>\n",
       "      <th>16</th>\n",
       "      <td>Allan Quatermain</td>\n",
       "      <td>Male</td>\n",
       "      <td>-</td>\n",
       "      <td>-</td>\n",
       "      <td>-</td>\n",
       "      <td>NaN</td>\n",
       "      <td>Wildstorm</td>\n",
       "      <td>-</td>\n",
       "      <td>good</td>\n",
       "      <td>NaN</td>\n",
       "      <td>...</td>\n",
       "      <td>False</td>\n",
       "      <td>False</td>\n",
       "      <td>False</td>\n",
       "      <td>False</td>\n",
       "      <td>False</td>\n",
       "      <td>False</td>\n",
       "      <td>False</td>\n",
       "      <td>False</td>\n",
       "      <td>False</td>\n",
       "      <td>False</td>\n",
       "    </tr>\n",
       "    <tr>\n",
       "      <th>...</th>\n",
       "      <td>...</td>\n",
       "      <td>...</td>\n",
       "      <td>...</td>\n",
       "      <td>...</td>\n",
       "      <td>...</td>\n",
       "      <td>...</td>\n",
       "      <td>...</td>\n",
       "      <td>...</td>\n",
       "      <td>...</td>\n",
       "      <td>...</td>\n",
       "      <td>...</td>\n",
       "      <td>...</td>\n",
       "      <td>...</td>\n",
       "      <td>...</td>\n",
       "      <td>...</td>\n",
       "      <td>...</td>\n",
       "      <td>...</td>\n",
       "      <td>...</td>\n",
       "      <td>...</td>\n",
       "      <td>...</td>\n",
       "      <td>...</td>\n",
       "    </tr>\n",
       "    <tr>\n",
       "      <th>631</th>\n",
       "      <td>Violator</td>\n",
       "      <td>Male</td>\n",
       "      <td>-</td>\n",
       "      <td>-</td>\n",
       "      <td>-</td>\n",
       "      <td>NaN</td>\n",
       "      <td>Image Comics</td>\n",
       "      <td>-</td>\n",
       "      <td>bad</td>\n",
       "      <td>NaN</td>\n",
       "      <td>...</td>\n",
       "      <td>False</td>\n",
       "      <td>False</td>\n",
       "      <td>False</td>\n",
       "      <td>False</td>\n",
       "      <td>False</td>\n",
       "      <td>False</td>\n",
       "      <td>False</td>\n",
       "      <td>False</td>\n",
       "      <td>False</td>\n",
       "      <td>False</td>\n",
       "    </tr>\n",
       "    <tr>\n",
       "      <th>642</th>\n",
       "      <td>Watcher</td>\n",
       "      <td>Male</td>\n",
       "      <td>-</td>\n",
       "      <td>-</td>\n",
       "      <td>-</td>\n",
       "      <td>NaN</td>\n",
       "      <td>Marvel Comics</td>\n",
       "      <td>-</td>\n",
       "      <td>good</td>\n",
       "      <td>NaN</td>\n",
       "      <td>...</td>\n",
       "      <td>False</td>\n",
       "      <td>False</td>\n",
       "      <td>False</td>\n",
       "      <td>False</td>\n",
       "      <td>False</td>\n",
       "      <td>False</td>\n",
       "      <td>False</td>\n",
       "      <td>False</td>\n",
       "      <td>False</td>\n",
       "      <td>False</td>\n",
       "    </tr>\n",
       "    <tr>\n",
       "      <th>643</th>\n",
       "      <td>Weapon XI</td>\n",
       "      <td>Male</td>\n",
       "      <td>-</td>\n",
       "      <td>-</td>\n",
       "      <td>-</td>\n",
       "      <td>NaN</td>\n",
       "      <td>Marvel Comics</td>\n",
       "      <td>-</td>\n",
       "      <td>bad</td>\n",
       "      <td>NaN</td>\n",
       "      <td>...</td>\n",
       "      <td>False</td>\n",
       "      <td>False</td>\n",
       "      <td>False</td>\n",
       "      <td>False</td>\n",
       "      <td>False</td>\n",
       "      <td>False</td>\n",
       "      <td>False</td>\n",
       "      <td>False</td>\n",
       "      <td>False</td>\n",
       "      <td>False</td>\n",
       "    </tr>\n",
       "    <tr>\n",
       "      <th>644</th>\n",
       "      <td>White Canary</td>\n",
       "      <td>Female</td>\n",
       "      <td>brown</td>\n",
       "      <td>Human</td>\n",
       "      <td>Black</td>\n",
       "      <td>NaN</td>\n",
       "      <td>DC Comics</td>\n",
       "      <td>-</td>\n",
       "      <td>bad</td>\n",
       "      <td>NaN</td>\n",
       "      <td>...</td>\n",
       "      <td>False</td>\n",
       "      <td>False</td>\n",
       "      <td>False</td>\n",
       "      <td>False</td>\n",
       "      <td>False</td>\n",
       "      <td>False</td>\n",
       "      <td>False</td>\n",
       "      <td>False</td>\n",
       "      <td>False</td>\n",
       "      <td>False</td>\n",
       "    </tr>\n",
       "    <tr>\n",
       "      <th>645</th>\n",
       "      <td>Wildfire</td>\n",
       "      <td>Male</td>\n",
       "      <td>-</td>\n",
       "      <td>-</td>\n",
       "      <td>-</td>\n",
       "      <td>NaN</td>\n",
       "      <td>DC Comics</td>\n",
       "      <td>-</td>\n",
       "      <td>good</td>\n",
       "      <td>NaN</td>\n",
       "      <td>...</td>\n",
       "      <td>False</td>\n",
       "      <td>False</td>\n",
       "      <td>False</td>\n",
       "      <td>False</td>\n",
       "      <td>False</td>\n",
       "      <td>False</td>\n",
       "      <td>False</td>\n",
       "      <td>False</td>\n",
       "      <td>False</td>\n",
       "      <td>False</td>\n",
       "    </tr>\n",
       "  </tbody>\n",
       "</table>\n",
       "<p>170 rows × 178 columns</p>\n",
       "</div>"
      ],
      "text/plain": [
       "                 name  Gender Eye color           Race Hair color  Height  \\\n",
       "4             Abraxas    Male      blue  Cosmic Entity      Black     NaN   \n",
       "6         Adam Monroe    Male      blue              -      Blond     NaN   \n",
       "13        Alex Mercer    Male         -          Human          -     NaN   \n",
       "14       Alex Woolsly    Male         -              -          -     NaN   \n",
       "16   Allan Quatermain    Male         -              -          -     NaN   \n",
       "..                ...     ...       ...            ...        ...     ...   \n",
       "631          Violator    Male         -              -          -     NaN   \n",
       "642           Watcher    Male         -              -          -     NaN   \n",
       "643         Weapon XI    Male         -              -          -     NaN   \n",
       "644      White Canary  Female     brown          Human      Black     NaN   \n",
       "645          Wildfire    Male         -              -          -     NaN   \n",
       "\n",
       "         Publisher Skin color Alignment  Weight  ... Web Creation  \\\n",
       "4    Marvel Comics          -       bad     NaN  ...        False   \n",
       "6     NBC - Heroes          -      good     NaN  ...        False   \n",
       "13       Wildstorm          -       bad     NaN  ...        False   \n",
       "14    NBC - Heroes          -      good     NaN  ...        False   \n",
       "16       Wildstorm          -      good     NaN  ...        False   \n",
       "..             ...        ...       ...     ...  ...          ...   \n",
       "631   Image Comics          -       bad     NaN  ...        False   \n",
       "642  Marvel Comics          -      good     NaN  ...        False   \n",
       "643  Marvel Comics          -       bad     NaN  ...        False   \n",
       "644      DC Comics          -       bad     NaN  ...        False   \n",
       "645      DC Comics          -      good     NaN  ...        False   \n",
       "\n",
       "     Reality Warping  Odin Force  Symbiote Costume  Speed Force  \\\n",
       "4              False       False             False        False   \n",
       "6              False       False             False        False   \n",
       "13             False       False             False        False   \n",
       "14             False       False             False        False   \n",
       "16             False       False             False        False   \n",
       "..               ...         ...               ...          ...   \n",
       "631            False       False             False        False   \n",
       "642            False       False             False        False   \n",
       "643            False       False             False        False   \n",
       "644            False       False             False        False   \n",
       "645            False       False             False        False   \n",
       "\n",
       "     Phoenix Force  Molecular Dissipation  Vision - Cryo  Omnipresent  \\\n",
       "4            False                  False          False        False   \n",
       "6            False                  False          False        False   \n",
       "13           False                  False          False        False   \n",
       "14           False                  False          False        False   \n",
       "16           False                  False          False        False   \n",
       "..             ...                    ...            ...          ...   \n",
       "631          False                  False          False        False   \n",
       "642          False                  False          False        False   \n",
       "643          False                  False          False        False   \n",
       "644          False                  False          False        False   \n",
       "645          False                  False          False        False   \n",
       "\n",
       "     Omniscient  \n",
       "4         False  \n",
       "6         False  \n",
       "13        False  \n",
       "14        False  \n",
       "16        False  \n",
       "..          ...  \n",
       "631       False  \n",
       "642       False  \n",
       "643       False  \n",
       "644       False  \n",
       "645       False  \n",
       "\n",
       "[170 rows x 178 columns]"
      ]
     },
     "execution_count": 37,
     "metadata": {},
     "output_type": "execute_result"
    }
   ],
   "source": [
    "df[(df['Height'].isna()) | (df['Height'].isna())]"
   ]
  },
  {
   "cell_type": "code",
   "execution_count": 38,
   "metadata": {
    "hidden": true
   },
   "outputs": [
    {
     "data": {
      "text/html": [
       "<div>\n",
       "<style scoped>\n",
       "    .dataframe tbody tr th:only-of-type {\n",
       "        vertical-align: middle;\n",
       "    }\n",
       "\n",
       "    .dataframe tbody tr th {\n",
       "        vertical-align: top;\n",
       "    }\n",
       "\n",
       "    .dataframe thead th {\n",
       "        text-align: right;\n",
       "    }\n",
       "</style>\n",
       "<table border=\"1\" class=\"dataframe\">\n",
       "  <thead>\n",
       "    <tr style=\"text-align: right;\">\n",
       "      <th></th>\n",
       "      <th>Height</th>\n",
       "      <th>Weight</th>\n",
       "    </tr>\n",
       "    <tr>\n",
       "      <th>Gender</th>\n",
       "      <th></th>\n",
       "      <th></th>\n",
       "    </tr>\n",
       "  </thead>\n",
       "  <tbody>\n",
       "    <tr>\n",
       "      <th>-</th>\n",
       "      <td>177.666667</td>\n",
       "      <td>148.761688</td>\n",
       "    </tr>\n",
       "    <tr>\n",
       "      <th>Female</th>\n",
       "      <td>174.748175</td>\n",
       "      <td>79.859259</td>\n",
       "    </tr>\n",
       "    <tr>\n",
       "      <th>Male</th>\n",
       "      <td>192.462209</td>\n",
       "      <td>126.248022</td>\n",
       "    </tr>\n",
       "  </tbody>\n",
       "</table>\n",
       "</div>"
      ],
      "text/plain": [
       "            Height      Weight\n",
       "Gender                        \n",
       "-       177.666667  148.761688\n",
       "Female  174.748175   79.859259\n",
       "Male    192.462209  126.248022"
      ]
     },
     "execution_count": 38,
     "metadata": {},
     "output_type": "execute_result"
    }
   ],
   "source": [
    "filling_df = df.groupby('Gender')[['Height','Weight']].mean()\n",
    "filling_df"
   ]
  },
  {
   "cell_type": "code",
   "execution_count": 39,
   "metadata": {
    "hidden": true
   },
   "outputs": [],
   "source": [
    "# df.loc[df['Gender']=='Male','Weight'].fillna((filling_df['Weight'][2]),inplace=True)"
   ]
  },
  {
   "cell_type": "code",
   "execution_count": 40,
   "metadata": {
    "hidden": true
   },
   "outputs": [],
   "source": [
    "df.loc[(df['Gender']=='-')&(df['Weight'].isna()),'Weight']=filling_df['Weight'][0]"
   ]
  },
  {
   "cell_type": "code",
   "execution_count": 41,
   "metadata": {
    "hidden": true
   },
   "outputs": [],
   "source": [
    "df.loc[(df['Gender']=='-')&(df['Height'].isna()),'Height']=filling_df['Height'][0]"
   ]
  },
  {
   "cell_type": "code",
   "execution_count": 42,
   "metadata": {
    "hidden": true
   },
   "outputs": [],
   "source": [
    "df.loc[(df['Gender']=='Female')&(df['Weight'].isna()),'Weight']=filling_df['Weight'][1]"
   ]
  },
  {
   "cell_type": "code",
   "execution_count": 43,
   "metadata": {
    "hidden": true
   },
   "outputs": [],
   "source": [
    "df.loc[(df['Gender']=='Female')&(df['Height'].isna()),'Height']=filling_df['Height'][1]"
   ]
  },
  {
   "cell_type": "code",
   "execution_count": 44,
   "metadata": {
    "hidden": true
   },
   "outputs": [],
   "source": [
    "df.loc[(df['Gender']=='Male')&(df['Weight'].isna()),'Weight']=filling_df['Weight'][2]"
   ]
  },
  {
   "cell_type": "code",
   "execution_count": 45,
   "metadata": {
    "hidden": true
   },
   "outputs": [],
   "source": [
    "df.loc[(df['Gender']=='Male')&(df['Height'].isna()),'Height']=filling_df['Height'][2]"
   ]
  },
  {
   "cell_type": "code",
   "execution_count": 46,
   "metadata": {
    "hidden": true
   },
   "outputs": [
    {
     "data": {
      "text/plain": [
       "Series([], dtype: int64)"
      ]
     },
     "execution_count": 46,
     "metadata": {},
     "output_type": "execute_result"
    }
   ],
   "source": [
    "# check\n",
    "df.isna().sum().loc[lambda x : x!=0]"
   ]
  },
  {
   "cell_type": "markdown",
   "metadata": {
    "heading_collapsed": true
   },
   "source": [
    "## Some Initial Investigation\n",
    "\n",
    "Next, slice the DataFrame as needed and visualize the distribution of heights and weights by gender.  You should have 4 total plots.  \n",
    "\n",
    "In the cell below:\n",
    "\n",
    "* Slice the DataFrame into separate DataFrames by gender\n",
    "* Complete the `show_distplot()` function.  This helper function should take in a DataFrame, a string containing the gender we want to visualize, and the column name we want to visualize by gender. The function should display a distplot visualization from seaborn of the column/gender combination.  \n",
    "\n",
    "Hint: Don't forget to check the [seaborn documentation for distplot](https://seaborn.pydata.org/generated/seaborn.distplot.html) if you have questions about how to use it correctly! "
   ]
  },
  {
   "cell_type": "markdown",
   "metadata": {
    "hidden": true
   },
   "source": [
    "In the cell below, subset male and female heroes into different dataframes.  Create a scatterplot of the height and weight of each hero, with weight as the y-axis.  Plot both the male and female heroes subset into each dataframe, and make the color for each point in the scatterplot correspond to the gender of the superhero."
   ]
  },
  {
   "cell_type": "code",
   "execution_count": 47,
   "metadata": {
    "hidden": true
   },
   "outputs": [],
   "source": [
    "male_hero = df[df['Gender'] == 'Male']\n",
    "female_hero = df[df['Gender'] == 'Female']"
   ]
  },
  {
   "cell_type": "code",
   "execution_count": 48,
   "metadata": {
    "hidden": true
   },
   "outputs": [
    {
     "data": {
      "text/plain": [
       "<AxesSubplot:xlabel='Height', ylabel='Weight'>"
      ]
     },
     "execution_count": 48,
     "metadata": {},
     "output_type": "execute_result"
    },
    {
     "data": {
      "image/png": "[encoded data removed]",
      "text/plain": [
       "<Figure size 842.4x595.44 with 1 Axes>"
      ]
     },
     "metadata": {},
     "output_type": "display_data"
    }
   ],
   "source": [
    "# styling\n",
    "sns.set_style('ticks')\n",
    "fig, ax = plt.subplots()\n",
    "fig.set_size_inches(11.7, 8.27)\n",
    "# plotting\n",
    "sns.scatterplot(data=df,x='Height',y='Weight',hue='Gender')"
   ]
  },
  {
   "cell_type": "code",
   "execution_count": 49,
   "metadata": {
    "hidden": true
   },
   "outputs": [],
   "source": [
    "def show_distplot(dataframe, gender, column_name):\n",
    "    sns.set_style('ticks')\n",
    "    fig, ax = plt.subplots()\n",
    "    fig.set_size_inches(11.7, 8.27)\n",
    "    sns.histplot(data=dataframe, x=column_name)\n",
    "    plt.title('Distribution of {} for {} heroes'.format(column_name, gender))\n",
    "    plt.ylabel('Probability Density')\n",
    "    pass"
   ]
  },
  {
   "cell_type": "code",
   "execution_count": 50,
   "metadata": {
    "hidden": true
   },
   "outputs": [
    {
     "data": {
      "image/png": "[encoded data removed]",
      "text/plain": [
       "<Figure size 842.4x595.44 with 1 Axes>"
      ]
     },
     "metadata": {},
     "output_type": "display_data"
    }
   ],
   "source": [
    "# Male Height\n",
    "show_distplot(male_hero,\"Male\",\"Height\")"
   ]
  },
  {
   "cell_type": "code",
   "execution_count": 51,
   "metadata": {
    "hidden": true
   },
   "outputs": [
    {
     "data": {
      "image/png": "[encoded data removed]",
      "text/plain": [
       "<Figure size 842.4x595.44 with 1 Axes>"
      ]
     },
     "metadata": {},
     "output_type": "display_data"
    }
   ],
   "source": [
    "# Male Weight\n",
    "show_distplot(male_hero,\"Male\",\"Weight\")"
   ]
  },
  {
   "cell_type": "code",
   "execution_count": 52,
   "metadata": {
    "hidden": true
   },
   "outputs": [
    {
     "data": {
      "image/png": "[encoded data removed]",
      "text/plain": [
       "<Figure size 842.4x595.44 with 1 Axes>"
      ]
     },
     "metadata": {},
     "output_type": "display_data"
    }
   ],
   "source": [
    "# Female Height\n",
    "show_distplot(female_hero,\"Female\",\"Height\")"
   ]
  },
  {
   "cell_type": "code",
   "execution_count": 53,
   "metadata": {
    "hidden": true
   },
   "outputs": [
    {
     "data": {
      "image/png": "[encoded data removed]",
      "text/plain": [
       "<Figure size 842.4x595.44 with 1 Axes>"
      ]
     },
     "metadata": {},
     "output_type": "display_data"
    }
   ],
   "source": [
    "# Female Weight\n",
    "show_distplot(female_hero,\"Female\",\"Weight\")"
   ]
  },
  {
   "cell_type": "code",
   "execution_count": 54,
   "metadata": {
    "hidden": true
   },
   "outputs": [
    {
     "data": {
      "text/plain": [
       "<seaborn.axisgrid.FacetGrid at 0x1b9e59add30>"
      ]
     },
     "execution_count": 54,
     "metadata": {},
     "output_type": "execute_result"
    },
    {
     "data": {
      "image/png": "[encoded data removed]",
      "text/plain": [
       "<Figure size 1077.38x504 with 1 Axes>"
      ]
     },
     "metadata": {},
     "output_type": "display_data"
    }
   ],
   "source": [
    "sns.displot(data=df, x='Height', hue='Gender', height=7, aspect=2, alpha=.5)"
   ]
  },
  {
   "cell_type": "code",
   "execution_count": 55,
   "metadata": {
    "hidden": true
   },
   "outputs": [
    {
     "data": {
      "text/plain": [
       "<seaborn.axisgrid.FacetGrid at 0x1b9e59ad8b0>"
      ]
     },
     "execution_count": 55,
     "metadata": {},
     "output_type": "execute_result"
    },
    {
     "data": {
      "image/png": "[encoded data removed]",
      "text/plain": [
       "<Figure size 1077.38x504 with 1 Axes>"
      ]
     },
     "metadata": {},
     "output_type": "display_data"
    }
   ],
   "source": [
    "sns.displot(data=df, x='Weight', hue='Gender', height=7, aspect=2, alpha=.5)"
   ]
  },
  {
   "cell_type": "markdown",
   "metadata": {
    "hidden": true
   },
   "source": [
    "Discuss your findings from the plots above, with respect to the distribution of height and weight by gender.  Your explanation should include a discussion of any relevant summary statistics, including mean, median, mode, and the overall shape of each distribution.  \n",
    "\n",
    "Write your answer below this line:\n",
    "____________________________________________________________________________________________________________________________\n",
    "\n"
   ]
  },
  {
   "cell_type": "markdown",
   "metadata": {
    "heading_collapsed": true
   },
   "source": [
    "## Sample Question: Most Common Powers\n",
    "\n",
    "The rest of this notebook will be left to you to investigate the dataset by formulating your own questions, and then seeking answers using pandas and numpy.  Every answer should include some sort of visualization, when appropriate. Before moving on to formulating your own questions, use the dataset to answer the following questions about superhero powers:"
   ]
  },
  {
   "cell_type": "code",
   "execution_count": 56,
   "metadata": {
    "hidden": true
   },
   "outputs": [],
   "source": [
    "# most common powers in any df_n\n",
    "def common_powers(df_n):\n",
    "    temp_dict = {}\n",
    "    for item in df_n.columns[11:]:\n",
    "        count = df_n[item].sum()\n",
    "        temp_dict[item] = count\n",
    "    temp_dict_sorted = sorted(temp_dict.items(),\n",
    "                              key=lambda x: x[1],\n",
    "                              reverse=True)\n",
    "    temp_count_sorted = pd.DataFrame.from_dict(temp_dict_sorted)\n",
    "    temp_count_sorted.columns = ['Power','Count']\n",
    "    return temp_count_sorted.set_index('Power')"
   ]
  },
  {
   "cell_type": "markdown",
   "metadata": {
    "heading_collapsed": true,
    "hidden": true
   },
   "source": [
    "#### What are the 10 most common powers overall?"
   ]
  },
  {
   "cell_type": "code",
   "execution_count": 57,
   "metadata": {
    "hidden": true
   },
   "outputs": [
    {
     "data": {
      "text/html": [
       "<div>\n",
       "<style scoped>\n",
       "    .dataframe tbody tr th:only-of-type {\n",
       "        vertical-align: middle;\n",
       "    }\n",
       "\n",
       "    .dataframe tbody tr th {\n",
       "        vertical-align: top;\n",
       "    }\n",
       "\n",
       "    .dataframe thead th {\n",
       "        text-align: right;\n",
       "    }\n",
       "</style>\n",
       "<table border=\"1\" class=\"dataframe\">\n",
       "  <thead>\n",
       "    <tr style=\"text-align: right;\">\n",
       "      <th></th>\n",
       "      <th>Count</th>\n",
       "    </tr>\n",
       "    <tr>\n",
       "      <th>Power</th>\n",
       "      <th></th>\n",
       "    </tr>\n",
       "  </thead>\n",
       "  <tbody>\n",
       "    <tr>\n",
       "      <th>Super Strength</th>\n",
       "      <td>362</td>\n",
       "    </tr>\n",
       "    <tr>\n",
       "      <th>Stamina</th>\n",
       "      <td>294</td>\n",
       "    </tr>\n",
       "    <tr>\n",
       "      <th>Durability</th>\n",
       "      <td>262</td>\n",
       "    </tr>\n",
       "    <tr>\n",
       "      <th>Super Speed</th>\n",
       "      <td>251</td>\n",
       "    </tr>\n",
       "    <tr>\n",
       "      <th>Agility</th>\n",
       "      <td>244</td>\n",
       "    </tr>\n",
       "    <tr>\n",
       "      <th>Flight</th>\n",
       "      <td>212</td>\n",
       "    </tr>\n",
       "    <tr>\n",
       "      <th>Accelerated Healing</th>\n",
       "      <td>181</td>\n",
       "    </tr>\n",
       "    <tr>\n",
       "      <th>Reflexes</th>\n",
       "      <td>173</td>\n",
       "    </tr>\n",
       "    <tr>\n",
       "      <th>Intelligence</th>\n",
       "      <td>158</td>\n",
       "    </tr>\n",
       "    <tr>\n",
       "      <th>Energy Blasts</th>\n",
       "      <td>148</td>\n",
       "    </tr>\n",
       "  </tbody>\n",
       "</table>\n",
       "</div>"
      ],
      "text/plain": [
       "                     Count\n",
       "Power                     \n",
       "Super Strength         362\n",
       "Stamina                294\n",
       "Durability             262\n",
       "Super Speed            251\n",
       "Agility                244\n",
       "Flight                 212\n",
       "Accelerated Healing    181\n",
       "Reflexes               173\n",
       "Intelligence           158\n",
       "Energy Blasts          148"
      ]
     },
     "execution_count": 57,
     "metadata": {},
     "output_type": "execute_result"
    }
   ],
   "source": [
    "common_powers_df= common_powers(df)\n",
    "top_10_power = common_powers_df[:10]\n",
    "top_10_power"
   ]
  },
  {
   "cell_type": "code",
   "execution_count": 58,
   "metadata": {
    "hidden": true
   },
   "outputs": [
    {
     "data": {
      "text/plain": [
       "<AxesSubplot:ylabel='Power'>"
      ]
     },
     "execution_count": 58,
     "metadata": {},
     "output_type": "execute_result"
    },
    {
     "data": {
      "image/png": "[encoded data removed]",
      "text/plain": [
       "<Figure size 842.4x595.44 with 1 Axes>"
      ]
     },
     "metadata": {},
     "output_type": "display_data"
    }
   ],
   "source": [
    "top_10_power.plot(kind='barh', figsize=(11.7, 8.27))"
   ]
  },
  {
   "cell_type": "code",
   "execution_count": 59,
   "metadata": {
    "hidden": true
   },
   "outputs": [
    {
     "data": {
      "text/plain": [
       "Text(0.5, 1.0, 'Top 10 powers')"
      ]
     },
     "execution_count": 59,
     "metadata": {},
     "output_type": "execute_result"
    },
    {
     "data": {
      "image/png": "[encoded data removed]",
      "text/plain": [
       "<Figure size 842.4x595.44 with 1 Axes>"
      ]
     },
     "metadata": {},
     "output_type": "display_data"
    }
   ],
   "source": [
    "sns.set_style('ticks')\n",
    "fig, ax = plt.subplots()\n",
    "fig.set_size_inches(11.7, 8.27)\n",
    "sns.barplot(data=top_10_power, x='Count', y=top_10_power.index)\n",
    "ax.set_title('Top 10 powers')"
   ]
  },
  {
   "cell_type": "markdown",
   "metadata": {
    "heading_collapsed": true,
    "hidden": true
   },
   "source": [
    "#### What are the 10 most common powers in the Marvel Universe?"
   ]
  },
  {
   "cell_type": "code",
   "execution_count": 60,
   "metadata": {
    "hidden": true
   },
   "outputs": [
    {
     "data": {
      "text/html": [
       "<div>\n",
       "<style scoped>\n",
       "    .dataframe tbody tr th:only-of-type {\n",
       "        vertical-align: middle;\n",
       "    }\n",
       "\n",
       "    .dataframe tbody tr th {\n",
       "        vertical-align: top;\n",
       "    }\n",
       "\n",
       "    .dataframe thead th {\n",
       "        text-align: right;\n",
       "    }\n",
       "</style>\n",
       "<table border=\"1\" class=\"dataframe\">\n",
       "  <thead>\n",
       "    <tr style=\"text-align: right;\">\n",
       "      <th></th>\n",
       "      <th>Count</th>\n",
       "    </tr>\n",
       "    <tr>\n",
       "      <th>Power</th>\n",
       "      <th></th>\n",
       "    </tr>\n",
       "  </thead>\n",
       "  <tbody>\n",
       "    <tr>\n",
       "      <th>Super Strength</th>\n",
       "      <td>204</td>\n",
       "    </tr>\n",
       "    <tr>\n",
       "      <th>Durability</th>\n",
       "      <td>154</td>\n",
       "    </tr>\n",
       "    <tr>\n",
       "      <th>Stamina</th>\n",
       "      <td>150</td>\n",
       "    </tr>\n",
       "    <tr>\n",
       "      <th>Super Speed</th>\n",
       "      <td>137</td>\n",
       "    </tr>\n",
       "    <tr>\n",
       "      <th>Agility</th>\n",
       "      <td>126</td>\n",
       "    </tr>\n",
       "    <tr>\n",
       "      <th>Flight</th>\n",
       "      <td>111</td>\n",
       "    </tr>\n",
       "    <tr>\n",
       "      <th>Accelerated Healing</th>\n",
       "      <td>100</td>\n",
       "    </tr>\n",
       "    <tr>\n",
       "      <th>Reflexes</th>\n",
       "      <td>97</td>\n",
       "    </tr>\n",
       "    <tr>\n",
       "      <th>Energy Blasts</th>\n",
       "      <td>87</td>\n",
       "    </tr>\n",
       "    <tr>\n",
       "      <th>Longevity</th>\n",
       "      <td>60</td>\n",
       "    </tr>\n",
       "  </tbody>\n",
       "</table>\n",
       "</div>"
      ],
      "text/plain": [
       "                     Count\n",
       "Power                     \n",
       "Super Strength         204\n",
       "Durability             154\n",
       "Stamina                150\n",
       "Super Speed            137\n",
       "Agility                126\n",
       "Flight                 111\n",
       "Accelerated Healing    100\n",
       "Reflexes                97\n",
       "Energy Blasts           87\n",
       "Longevity               60"
      ]
     },
     "execution_count": 60,
     "metadata": {},
     "output_type": "execute_result"
    }
   ],
   "source": [
    "marvel_common_powers=common_powers(df[df['Publisher'] == 'Marvel Comics'])\n",
    "marvel_common_powers_top_10 = marvel_common_powers[:10]\n",
    "marvel_common_powers_top_10"
   ]
  },
  {
   "cell_type": "code",
   "execution_count": 61,
   "metadata": {
    "hidden": true
   },
   "outputs": [
    {
     "data": {
      "text/plain": [
       "Text(0.5, 1.0, 'Marvel top 10 powers')"
      ]
     },
     "execution_count": 61,
     "metadata": {},
     "output_type": "execute_result"
    },
    {
     "data": {
      "image/png": "[encoded data removed]",
      "text/plain": [
       "<Figure size 842.4x595.44 with 1 Axes>"
      ]
     },
     "metadata": {},
     "output_type": "display_data"
    }
   ],
   "source": [
    "sns.set_style('ticks')\n",
    "fig, ax = plt.subplots()\n",
    "fig.set_size_inches(11.7, 8.27)\n",
    "sns.barplot(data=marvel_common_powers_top_10,\n",
    "            x='Count',\n",
    "            y=marvel_common_powers_top_10.index,\n",
    "            color='r')\n",
    "ax.set_title('Marvel top 10 powers')"
   ]
  },
  {
   "cell_type": "markdown",
   "metadata": {
    "heading_collapsed": true,
    "hidden": true
   },
   "source": [
    "#### What are the 10 most common powers in the DC Universe?"
   ]
  },
  {
   "cell_type": "code",
   "execution_count": 62,
   "metadata": {
    "hidden": true
   },
   "outputs": [
    {
     "data": {
      "text/html": [
       "<div>\n",
       "<style scoped>\n",
       "    .dataframe tbody tr th:only-of-type {\n",
       "        vertical-align: middle;\n",
       "    }\n",
       "\n",
       "    .dataframe tbody tr th {\n",
       "        vertical-align: top;\n",
       "    }\n",
       "\n",
       "    .dataframe thead th {\n",
       "        text-align: right;\n",
       "    }\n",
       "</style>\n",
       "<table border=\"1\" class=\"dataframe\">\n",
       "  <thead>\n",
       "    <tr style=\"text-align: right;\">\n",
       "      <th></th>\n",
       "      <th>Count</th>\n",
       "    </tr>\n",
       "    <tr>\n",
       "      <th>Power</th>\n",
       "      <th></th>\n",
       "    </tr>\n",
       "  </thead>\n",
       "  <tbody>\n",
       "    <tr>\n",
       "      <th>Super Strength</th>\n",
       "      <td>109</td>\n",
       "    </tr>\n",
       "    <tr>\n",
       "      <th>Stamina</th>\n",
       "      <td>90</td>\n",
       "    </tr>\n",
       "    <tr>\n",
       "      <th>Flight</th>\n",
       "      <td>86</td>\n",
       "    </tr>\n",
       "    <tr>\n",
       "      <th>Super Speed</th>\n",
       "      <td>79</td>\n",
       "    </tr>\n",
       "    <tr>\n",
       "      <th>Agility</th>\n",
       "      <td>71</td>\n",
       "    </tr>\n",
       "    <tr>\n",
       "      <th>Durability</th>\n",
       "      <td>71</td>\n",
       "    </tr>\n",
       "    <tr>\n",
       "      <th>Intelligence</th>\n",
       "      <td>67</td>\n",
       "    </tr>\n",
       "    <tr>\n",
       "      <th>Accelerated Healing</th>\n",
       "      <td>51</td>\n",
       "    </tr>\n",
       "    <tr>\n",
       "      <th>Reflexes</th>\n",
       "      <td>49</td>\n",
       "    </tr>\n",
       "    <tr>\n",
       "      <th>Stealth</th>\n",
       "      <td>48</td>\n",
       "    </tr>\n",
       "  </tbody>\n",
       "</table>\n",
       "</div>"
      ],
      "text/plain": [
       "                     Count\n",
       "Power                     \n",
       "Super Strength         109\n",
       "Stamina                 90\n",
       "Flight                  86\n",
       "Super Speed             79\n",
       "Agility                 71\n",
       "Durability              71\n",
       "Intelligence            67\n",
       "Accelerated Healing     51\n",
       "Reflexes                49\n",
       "Stealth                 48"
      ]
     },
     "execution_count": 62,
     "metadata": {},
     "output_type": "execute_result"
    }
   ],
   "source": [
    "DC_common_powers=common_powers(df[df['Publisher'] == 'DC Comics'])\n",
    "DC_common_powers_top_10 = DC_common_powers[:10]\n",
    "DC_common_powers_top_10"
   ]
  },
  {
   "cell_type": "code",
   "execution_count": 63,
   "metadata": {
    "hidden": true
   },
   "outputs": [
    {
     "data": {
      "text/plain": [
       "Text(0.5, 1.0, 'DC top 10 powers')"
      ]
     },
     "execution_count": 63,
     "metadata": {},
     "output_type": "execute_result"
    },
    {
     "data": {
      "image/png": "[encoded data removed]",
      "text/plain": [
       "<Figure size 842.4x595.44 with 1 Axes>"
      ]
     },
     "metadata": {},
     "output_type": "display_data"
    }
   ],
   "source": [
    "sns.set_style('ticks')\n",
    "fig, ax = plt.subplots()\n",
    "fig.set_size_inches(11.7, 8.27)\n",
    "sns.barplot(data=DC_common_powers_top_10,\n",
    "            x='Count',\n",
    "            y=DC_common_powers_top_10.index,\n",
    "            color='k')\n",
    "ax.set_title('DC top 10 powers')"
   ]
  },
  {
   "cell_type": "markdown",
   "metadata": {
    "heading_collapsed": true,
    "hidden": true
   },
   "source": [
    "#### What are the 10 most common powers in the other comic universes?"
   ]
  },
  {
   "cell_type": "code",
   "execution_count": 64,
   "metadata": {
    "hidden": true
   },
   "outputs": [
    {
     "data": {
      "text/html": [
       "<div>\n",
       "<style scoped>\n",
       "    .dataframe tbody tr th:only-of-type {\n",
       "        vertical-align: middle;\n",
       "    }\n",
       "\n",
       "    .dataframe tbody tr th {\n",
       "        vertical-align: top;\n",
       "    }\n",
       "\n",
       "    .dataframe thead th {\n",
       "        text-align: right;\n",
       "    }\n",
       "</style>\n",
       "<table border=\"1\" class=\"dataframe\">\n",
       "  <thead>\n",
       "    <tr style=\"text-align: right;\">\n",
       "      <th></th>\n",
       "      <th>Count</th>\n",
       "    </tr>\n",
       "    <tr>\n",
       "      <th>Power</th>\n",
       "      <th></th>\n",
       "    </tr>\n",
       "  </thead>\n",
       "  <tbody>\n",
       "    <tr>\n",
       "      <th>Stamina</th>\n",
       "      <td>54</td>\n",
       "    </tr>\n",
       "    <tr>\n",
       "      <th>Super Strength</th>\n",
       "      <td>49</td>\n",
       "    </tr>\n",
       "    <tr>\n",
       "      <th>Agility</th>\n",
       "      <td>47</td>\n",
       "    </tr>\n",
       "    <tr>\n",
       "      <th>Durability</th>\n",
       "      <td>37</td>\n",
       "    </tr>\n",
       "    <tr>\n",
       "      <th>Stealth</th>\n",
       "      <td>37</td>\n",
       "    </tr>\n",
       "    <tr>\n",
       "      <th>Super Speed</th>\n",
       "      <td>35</td>\n",
       "    </tr>\n",
       "    <tr>\n",
       "      <th>Marksmanship</th>\n",
       "      <td>33</td>\n",
       "    </tr>\n",
       "    <tr>\n",
       "      <th>Intelligence</th>\n",
       "      <td>32</td>\n",
       "    </tr>\n",
       "    <tr>\n",
       "      <th>Weapons Master</th>\n",
       "      <td>31</td>\n",
       "    </tr>\n",
       "    <tr>\n",
       "      <th>Accelerated Healing</th>\n",
       "      <td>30</td>\n",
       "    </tr>\n",
       "  </tbody>\n",
       "</table>\n",
       "</div>"
      ],
      "text/plain": [
       "                     Count\n",
       "Power                     \n",
       "Stamina                 54\n",
       "Super Strength          49\n",
       "Agility                 47\n",
       "Durability              37\n",
       "Stealth                 37\n",
       "Super Speed             35\n",
       "Marksmanship            33\n",
       "Intelligence            32\n",
       "Weapons Master          31\n",
       "Accelerated Healing     30"
      ]
     },
     "execution_count": 64,
     "metadata": {},
     "output_type": "execute_result"
    }
   ],
   "source": [
    "other_uni = common_powers(df[(df['Publisher'] != 'Marvel Comics')&(df['Publisher'] != 'DC Comics')])\n",
    "other_uni_top_10 = other_uni[:10]\n",
    "other_uni_top_10"
   ]
  },
  {
   "cell_type": "code",
   "execution_count": 65,
   "metadata": {
    "hidden": true
   },
   "outputs": [
    {
     "data": {
      "text/plain": [
       "Text(0.5, 1.0, 'Other Universes top 10 powers')"
      ]
     },
     "execution_count": 65,
     "metadata": {},
     "output_type": "execute_result"
    },
    {
     "data": {
      "image/png": "[encoded data removed]",
      "text/plain": [
       "<Figure size 842.4x595.44 with 1 Axes>"
      ]
     },
     "metadata": {},
     "output_type": "display_data"
    }
   ],
   "source": [
    "sns.set_style('ticks')\n",
    "fig, ax = plt.subplots()\n",
    "fig.set_size_inches(11.7, 8.27)\n",
    "sns.barplot(data=other_uni_top_10,\n",
    "            x='Count',\n",
    "            y=other_uni_top_10.index,\n",
    "            color='g')\n",
    "ax.set_title('Other Universes top 10 powers')"
   ]
  },
  {
   "cell_type": "markdown",
   "metadata": {
    "heading_collapsed": true,
    "hidden": true
   },
   "source": [
    "#### Analyze the results you found above to answer the following question:\n",
    "\n",
    "How do the top 10 powers in the Marvel and DC universes compare?  Are they similar, or are there significant differences? How do they compare to the overall trends in the entire Superheroes dataset?\n",
    "\n",
    "Write your answer below this line:\n",
    "____________________________________________________________________________________________________________________________"
   ]
  },
  {
   "cell_type": "code",
   "execution_count": 66,
   "metadata": {
    "hidden": true
   },
   "outputs": [
    {
     "data": {
      "text/plain": [
       "<AxesSubplot:ylabel='Power'>"
      ]
     },
     "execution_count": 66,
     "metadata": {},
     "output_type": "execute_result"
    },
    {
     "data": {
      "image/png": "[encoded data removed]",
      "text/plain": [
       "<Figure size 2160x720 with 3 Axes>"
      ]
     },
     "metadata": {},
     "output_type": "display_data"
    }
   ],
   "source": [
    "fig, axes = plt.subplots(ncols=3, nrows=1,\n",
    "                         figsize=(30, 10))  # Three figures side by side\n",
    "top_10_power.plot(kind='barh', ax=axes[0], color='r')\n",
    "DC_common_powers_top_10.plot(kind='barh', ax=axes[1], color='grey')\n",
    "marvel_common_powers_top_10.plot(kind='barh', ax=axes[2], color='g')"
   ]
  },
  {
   "cell_type": "code",
   "execution_count": 67,
   "metadata": {
    "hidden": true
   },
   "outputs": [],
   "source": [
    "from pandasql import sqldf"
   ]
  },
  {
   "cell_type": "code",
   "execution_count": 68,
   "metadata": {
    "hidden": true
   },
   "outputs": [
    {
     "data": {
      "text/plain": [
       "<AxesSubplot:ylabel='Power'>"
      ]
     },
     "execution_count": 68,
     "metadata": {},
     "output_type": "execute_result"
    },
    {
     "data": {
      "image/png": "[encoded data removed]",
      "text/plain": [
       "<Figure size 1440x720 with 1 Axes>"
      ]
     },
     "metadata": {},
     "output_type": "display_data"
    }
   ],
   "source": [
    "analysis_df = sqldf(\n",
    "    \"SELECT c.Power, c.Count AS all_superheros , m.Count AS MARVEL, d.count AS DC FROM common_powers_df AS c JOIN marvel_common_powers AS m USING(Power) JOIN DC_common_powers AS d USING(Power) LIMIT 10\"\n",
    ")\n",
    "analysis_df = analysis_df.set_index('Power')\n",
    "analysis_df.plot(kind='barh', figsize=(20, 10))"
   ]
  },
  {
   "cell_type": "markdown",
   "metadata": {
    "heading_collapsed": true,
    "hidden": true
   },
   "source": [
    "### Your Own Investigation\n",
    "\n",
    "For the remainder of this lab, you'll be focusing on coming up with and answering your own question, just like we did above.  Your question should not be overly simple, and should require both descriptive statistics and data visualization to answer.  In case you're unsure of what questions to ask, some sample questions have been provided below.\n",
    "____________________________________________________________________________________________________________________________\n"
   ]
  },
  {
   "cell_type": "markdown",
   "metadata": {
    "hidden": true
   },
   "source": [
    "####  Which powers have the highest chance of co-occurring in a hero (e.g. super strength and flight), and does this differ by gender?"
   ]
  },
  {
   "cell_type": "markdown",
   "metadata": {
    "heading_collapsed": true,
    "hidden": true
   },
   "source": [
    "##### highest chance of co-occurring, method 1"
   ]
  },
  {
   "cell_type": "code",
   "execution_count": 69,
   "metadata": {
    "hidden": true
   },
   "outputs": [
    {
     "data": {
      "text/html": [
       "<div>\n",
       "<style scoped>\n",
       "    .dataframe tbody tr th:only-of-type {\n",
       "        vertical-align: middle;\n",
       "    }\n",
       "\n",
       "    .dataframe tbody tr th {\n",
       "        vertical-align: top;\n",
       "    }\n",
       "\n",
       "    .dataframe thead th {\n",
       "        text-align: right;\n",
       "    }\n",
       "</style>\n",
       "<table border=\"1\" class=\"dataframe\">\n",
       "  <thead>\n",
       "    <tr style=\"text-align: right;\">\n",
       "      <th></th>\n",
       "      <th>Agility</th>\n",
       "      <th>Accelerated Healing</th>\n",
       "      <th>Lantern Power Ring</th>\n",
       "      <th>Dimensional Awareness</th>\n",
       "      <th>Cold Resistance</th>\n",
       "      <th>Durability</th>\n",
       "      <th>Stealth</th>\n",
       "      <th>Energy Absorption</th>\n",
       "      <th>Flight</th>\n",
       "      <th>Danger Sense</th>\n",
       "      <th>...</th>\n",
       "      <th>Web Creation</th>\n",
       "      <th>Reality Warping</th>\n",
       "      <th>Odin Force</th>\n",
       "      <th>Symbiote Costume</th>\n",
       "      <th>Speed Force</th>\n",
       "      <th>Phoenix Force</th>\n",
       "      <th>Molecular Dissipation</th>\n",
       "      <th>Vision - Cryo</th>\n",
       "      <th>Omnipresent</th>\n",
       "      <th>Omniscient</th>\n",
       "    </tr>\n",
       "  </thead>\n",
       "  <tbody>\n",
       "    <tr>\n",
       "      <th>Agility</th>\n",
       "      <td>1.000000</td>\n",
       "      <td>0.274982</td>\n",
       "      <td>0.022883</td>\n",
       "      <td>0.028897</td>\n",
       "      <td>0.106374</td>\n",
       "      <td>0.142029</td>\n",
       "      <td>0.393915</td>\n",
       "      <td>0.044324</td>\n",
       "      <td>-0.015970</td>\n",
       "      <td>0.247503</td>\n",
       "      <td>...</td>\n",
       "      <td>0.144587</td>\n",
       "      <td>0.083304</td>\n",
       "      <td>0.071987</td>\n",
       "      <td>0.110566</td>\n",
       "      <td>0.050864</td>\n",
       "      <td>0.050864</td>\n",
       "      <td>-0.029834</td>\n",
       "      <td>0.050864</td>\n",
       "      <td>0.014882</td>\n",
       "      <td>0.014882</td>\n",
       "    </tr>\n",
       "    <tr>\n",
       "      <th>Accelerated Healing</th>\n",
       "      <td>0.274982</td>\n",
       "      <td>1.000000</td>\n",
       "      <td>-0.026971</td>\n",
       "      <td>0.127092</td>\n",
       "      <td>0.149781</td>\n",
       "      <td>0.250920</td>\n",
       "      <td>0.091697</td>\n",
       "      <td>0.157455</td>\n",
       "      <td>0.129905</td>\n",
       "      <td>0.256210</td>\n",
       "      <td>...</td>\n",
       "      <td>0.234334</td>\n",
       "      <td>0.145204</td>\n",
       "      <td>0.089687</td>\n",
       "      <td>0.173975</td>\n",
       "      <td>0.063370</td>\n",
       "      <td>-0.023946</td>\n",
       "      <td>0.063370</td>\n",
       "      <td>0.063370</td>\n",
       "      <td>0.089687</td>\n",
       "      <td>0.089687</td>\n",
       "    </tr>\n",
       "    <tr>\n",
       "      <th>Lantern Power Ring</th>\n",
       "      <td>0.022883</td>\n",
       "      <td>-0.026971</td>\n",
       "      <td>1.000000</td>\n",
       "      <td>-0.025832</td>\n",
       "      <td>-0.036868</td>\n",
       "      <td>-0.008870</td>\n",
       "      <td>-0.065094</td>\n",
       "      <td>-0.047314</td>\n",
       "      <td>0.138561</td>\n",
       "      <td>-0.030341</td>\n",
       "      <td>...</td>\n",
       "      <td>-0.020521</td>\n",
       "      <td>-0.019166</td>\n",
       "      <td>-0.007178</td>\n",
       "      <td>-0.016148</td>\n",
       "      <td>-0.005071</td>\n",
       "      <td>-0.005071</td>\n",
       "      <td>-0.005071</td>\n",
       "      <td>-0.005071</td>\n",
       "      <td>-0.007178</td>\n",
       "      <td>-0.007178</td>\n",
       "    </tr>\n",
       "    <tr>\n",
       "      <th>Dimensional Awareness</th>\n",
       "      <td>0.028897</td>\n",
       "      <td>0.127092</td>\n",
       "      <td>-0.025832</td>\n",
       "      <td>1.000000</td>\n",
       "      <td>-0.056190</td>\n",
       "      <td>-0.047436</td>\n",
       "      <td>0.039684</td>\n",
       "      <td>0.125677</td>\n",
       "      <td>0.135463</td>\n",
       "      <td>0.025569</td>\n",
       "      <td>...</td>\n",
       "      <td>0.020329</td>\n",
       "      <td>0.576688</td>\n",
       "      <td>-0.010939</td>\n",
       "      <td>0.040362</td>\n",
       "      <td>-0.007729</td>\n",
       "      <td>-0.007729</td>\n",
       "      <td>-0.007729</td>\n",
       "      <td>-0.007729</td>\n",
       "      <td>0.277855</td>\n",
       "      <td>0.277855</td>\n",
       "    </tr>\n",
       "    <tr>\n",
       "      <th>Cold Resistance</th>\n",
       "      <td>0.106374</td>\n",
       "      <td>0.149781</td>\n",
       "      <td>-0.036868</td>\n",
       "      <td>-0.056190</td>\n",
       "      <td>1.000000</td>\n",
       "      <td>0.266349</td>\n",
       "      <td>0.046235</td>\n",
       "      <td>0.059110</td>\n",
       "      <td>-0.033906</td>\n",
       "      <td>0.012439</td>\n",
       "      <td>...</td>\n",
       "      <td>-0.044637</td>\n",
       "      <td>-0.001580</td>\n",
       "      <td>-0.015613</td>\n",
       "      <td>0.012186</td>\n",
       "      <td>-0.011032</td>\n",
       "      <td>-0.011032</td>\n",
       "      <td>-0.011032</td>\n",
       "      <td>-0.011032</td>\n",
       "      <td>-0.015613</td>\n",
       "      <td>-0.015613</td>\n",
       "    </tr>\n",
       "    <tr>\n",
       "      <th>...</th>\n",
       "      <td>...</td>\n",
       "      <td>...</td>\n",
       "      <td>...</td>\n",
       "      <td>...</td>\n",
       "      <td>...</td>\n",
       "      <td>...</td>\n",
       "      <td>...</td>\n",
       "      <td>...</td>\n",
       "      <td>...</td>\n",
       "      <td>...</td>\n",
       "      <td>...</td>\n",
       "      <td>...</td>\n",
       "      <td>...</td>\n",
       "      <td>...</td>\n",
       "      <td>...</td>\n",
       "      <td>...</td>\n",
       "      <td>...</td>\n",
       "      <td>...</td>\n",
       "      <td>...</td>\n",
       "      <td>...</td>\n",
       "      <td>...</td>\n",
       "    </tr>\n",
       "    <tr>\n",
       "      <th>Phoenix Force</th>\n",
       "      <td>0.050864</td>\n",
       "      <td>-0.023946</td>\n",
       "      <td>-0.005071</td>\n",
       "      <td>-0.007729</td>\n",
       "      <td>-0.011032</td>\n",
       "      <td>-0.031606</td>\n",
       "      <td>-0.019477</td>\n",
       "      <td>0.107188</td>\n",
       "      <td>-0.026797</td>\n",
       "      <td>-0.009078</td>\n",
       "      <td>...</td>\n",
       "      <td>-0.006140</td>\n",
       "      <td>-0.005735</td>\n",
       "      <td>-0.002148</td>\n",
       "      <td>-0.004832</td>\n",
       "      <td>-0.001517</td>\n",
       "      <td>1.000000</td>\n",
       "      <td>-0.001517</td>\n",
       "      <td>-0.001517</td>\n",
       "      <td>-0.002148</td>\n",
       "      <td>-0.002148</td>\n",
       "    </tr>\n",
       "    <tr>\n",
       "      <th>Molecular Dissipation</th>\n",
       "      <td>-0.029834</td>\n",
       "      <td>0.063370</td>\n",
       "      <td>-0.005071</td>\n",
       "      <td>-0.007729</td>\n",
       "      <td>-0.011032</td>\n",
       "      <td>0.048012</td>\n",
       "      <td>-0.019477</td>\n",
       "      <td>0.107188</td>\n",
       "      <td>0.056628</td>\n",
       "      <td>-0.009078</td>\n",
       "      <td>...</td>\n",
       "      <td>-0.006140</td>\n",
       "      <td>-0.005735</td>\n",
       "      <td>-0.002148</td>\n",
       "      <td>-0.004832</td>\n",
       "      <td>-0.001517</td>\n",
       "      <td>-0.001517</td>\n",
       "      <td>1.000000</td>\n",
       "      <td>-0.001517</td>\n",
       "      <td>-0.002148</td>\n",
       "      <td>-0.002148</td>\n",
       "    </tr>\n",
       "    <tr>\n",
       "      <th>Vision - Cryo</th>\n",
       "      <td>0.050864</td>\n",
       "      <td>0.063370</td>\n",
       "      <td>-0.005071</td>\n",
       "      <td>-0.007729</td>\n",
       "      <td>-0.011032</td>\n",
       "      <td>0.048012</td>\n",
       "      <td>-0.019477</td>\n",
       "      <td>0.107188</td>\n",
       "      <td>0.056628</td>\n",
       "      <td>-0.009078</td>\n",
       "      <td>...</td>\n",
       "      <td>-0.006140</td>\n",
       "      <td>-0.005735</td>\n",
       "      <td>-0.002148</td>\n",
       "      <td>-0.004832</td>\n",
       "      <td>-0.001517</td>\n",
       "      <td>-0.001517</td>\n",
       "      <td>-0.001517</td>\n",
       "      <td>1.000000</td>\n",
       "      <td>-0.002148</td>\n",
       "      <td>-0.002148</td>\n",
       "    </tr>\n",
       "    <tr>\n",
       "      <th>Omnipresent</th>\n",
       "      <td>0.014882</td>\n",
       "      <td>0.089687</td>\n",
       "      <td>-0.007178</td>\n",
       "      <td>0.277855</td>\n",
       "      <td>-0.015613</td>\n",
       "      <td>0.011610</td>\n",
       "      <td>-0.027566</td>\n",
       "      <td>0.151702</td>\n",
       "      <td>0.021109</td>\n",
       "      <td>0.111858</td>\n",
       "      <td>...</td>\n",
       "      <td>-0.008690</td>\n",
       "      <td>0.374502</td>\n",
       "      <td>-0.003040</td>\n",
       "      <td>-0.006838</td>\n",
       "      <td>-0.002148</td>\n",
       "      <td>-0.002148</td>\n",
       "      <td>-0.002148</td>\n",
       "      <td>-0.002148</td>\n",
       "      <td>1.000000</td>\n",
       "      <td>1.000000</td>\n",
       "    </tr>\n",
       "    <tr>\n",
       "      <th>Omniscient</th>\n",
       "      <td>0.014882</td>\n",
       "      <td>0.089687</td>\n",
       "      <td>-0.007178</td>\n",
       "      <td>0.277855</td>\n",
       "      <td>-0.015613</td>\n",
       "      <td>0.011610</td>\n",
       "      <td>-0.027566</td>\n",
       "      <td>0.151702</td>\n",
       "      <td>0.021109</td>\n",
       "      <td>0.111858</td>\n",
       "      <td>...</td>\n",
       "      <td>-0.008690</td>\n",
       "      <td>0.374502</td>\n",
       "      <td>-0.003040</td>\n",
       "      <td>-0.006838</td>\n",
       "      <td>-0.002148</td>\n",
       "      <td>-0.002148</td>\n",
       "      <td>-0.002148</td>\n",
       "      <td>-0.002148</td>\n",
       "      <td>1.000000</td>\n",
       "      <td>1.000000</td>\n",
       "    </tr>\n",
       "  </tbody>\n",
       "</table>\n",
       "<p>167 rows × 167 columns</p>\n",
       "</div>"
      ],
      "text/plain": [
       "                        Agility  Accelerated Healing  Lantern Power Ring  \\\n",
       "Agility                1.000000             0.274982            0.022883   \n",
       "Accelerated Healing    0.274982             1.000000           -0.026971   \n",
       "Lantern Power Ring     0.022883            -0.026971            1.000000   \n",
       "Dimensional Awareness  0.028897             0.127092           -0.025832   \n",
       "Cold Resistance        0.106374             0.149781           -0.036868   \n",
       "...                         ...                  ...                 ...   \n",
       "Phoenix Force          0.050864            -0.023946           -0.005071   \n",
       "Molecular Dissipation -0.029834             0.063370           -0.005071   \n",
       "Vision - Cryo          0.050864             0.063370           -0.005071   \n",
       "Omnipresent            0.014882             0.089687           -0.007178   \n",
       "Omniscient             0.014882             0.089687           -0.007178   \n",
       "\n",
       "                       Dimensional Awareness  Cold Resistance  Durability  \\\n",
       "Agility                             0.028897         0.106374    0.142029   \n",
       "Accelerated Healing                 0.127092         0.149781    0.250920   \n",
       "Lantern Power Ring                 -0.025832        -0.036868   -0.008870   \n",
       "Dimensional Awareness               1.000000        -0.056190   -0.047436   \n",
       "Cold Resistance                    -0.056190         1.000000    0.266349   \n",
       "...                                      ...              ...         ...   \n",
       "Phoenix Force                      -0.007729        -0.011032   -0.031606   \n",
       "Molecular Dissipation              -0.007729        -0.011032    0.048012   \n",
       "Vision - Cryo                      -0.007729        -0.011032    0.048012   \n",
       "Omnipresent                         0.277855        -0.015613    0.011610   \n",
       "Omniscient                          0.277855        -0.015613    0.011610   \n",
       "\n",
       "                        Stealth  Energy Absorption    Flight  Danger Sense  \\\n",
       "Agility                0.393915           0.044324 -0.015970      0.247503   \n",
       "Accelerated Healing    0.091697           0.157455  0.129905      0.256210   \n",
       "Lantern Power Ring    -0.065094          -0.047314  0.138561     -0.030341   \n",
       "Dimensional Awareness  0.039684           0.125677  0.135463      0.025569   \n",
       "Cold Resistance        0.046235           0.059110 -0.033906      0.012439   \n",
       "...                         ...                ...       ...           ...   \n",
       "Phoenix Force         -0.019477           0.107188 -0.026797     -0.009078   \n",
       "Molecular Dissipation -0.019477           0.107188  0.056628     -0.009078   \n",
       "Vision - Cryo         -0.019477           0.107188  0.056628     -0.009078   \n",
       "Omnipresent           -0.027566           0.151702  0.021109      0.111858   \n",
       "Omniscient            -0.027566           0.151702  0.021109      0.111858   \n",
       "\n",
       "                       ...  Web Creation  Reality Warping  Odin Force  \\\n",
       "Agility                ...      0.144587         0.083304    0.071987   \n",
       "Accelerated Healing    ...      0.234334         0.145204    0.089687   \n",
       "Lantern Power Ring     ...     -0.020521        -0.019166   -0.007178   \n",
       "Dimensional Awareness  ...      0.020329         0.576688   -0.010939   \n",
       "Cold Resistance        ...     -0.044637        -0.001580   -0.015613   \n",
       "...                    ...           ...              ...         ...   \n",
       "Phoenix Force          ...     -0.006140        -0.005735   -0.002148   \n",
       "Molecular Dissipation  ...     -0.006140        -0.005735   -0.002148   \n",
       "Vision - Cryo          ...     -0.006140        -0.005735   -0.002148   \n",
       "Omnipresent            ...     -0.008690         0.374502   -0.003040   \n",
       "Omniscient             ...     -0.008690         0.374502   -0.003040   \n",
       "\n",
       "                       Symbiote Costume  Speed Force  Phoenix Force  \\\n",
       "Agility                        0.110566     0.050864       0.050864   \n",
       "Accelerated Healing            0.173975     0.063370      -0.023946   \n",
       "Lantern Power Ring            -0.016148    -0.005071      -0.005071   \n",
       "Dimensional Awareness          0.040362    -0.007729      -0.007729   \n",
       "Cold Resistance                0.012186    -0.011032      -0.011032   \n",
       "...                                 ...          ...            ...   \n",
       "Phoenix Force                 -0.004832    -0.001517       1.000000   \n",
       "Molecular Dissipation         -0.004832    -0.001517      -0.001517   \n",
       "Vision - Cryo                 -0.004832    -0.001517      -0.001517   \n",
       "Omnipresent                   -0.006838    -0.002148      -0.002148   \n",
       "Omniscient                    -0.006838    -0.002148      -0.002148   \n",
       "\n",
       "                       Molecular Dissipation  Vision - Cryo  Omnipresent  \\\n",
       "Agility                            -0.029834       0.050864     0.014882   \n",
       "Accelerated Healing                 0.063370       0.063370     0.089687   \n",
       "Lantern Power Ring                 -0.005071      -0.005071    -0.007178   \n",
       "Dimensional Awareness              -0.007729      -0.007729     0.277855   \n",
       "Cold Resistance                    -0.011032      -0.011032    -0.015613   \n",
       "...                                      ...            ...          ...   \n",
       "Phoenix Force                      -0.001517      -0.001517    -0.002148   \n",
       "Molecular Dissipation               1.000000      -0.001517    -0.002148   \n",
       "Vision - Cryo                      -0.001517       1.000000    -0.002148   \n",
       "Omnipresent                        -0.002148      -0.002148     1.000000   \n",
       "Omniscient                         -0.002148      -0.002148     1.000000   \n",
       "\n",
       "                       Omniscient  \n",
       "Agility                  0.014882  \n",
       "Accelerated Healing      0.089687  \n",
       "Lantern Power Ring      -0.007178  \n",
       "Dimensional Awareness    0.277855  \n",
       "Cold Resistance         -0.015613  \n",
       "...                           ...  \n",
       "Phoenix Force           -0.002148  \n",
       "Molecular Dissipation   -0.002148  \n",
       "Vision - Cryo           -0.002148  \n",
       "Omnipresent              1.000000  \n",
       "Omniscient               1.000000  \n",
       "\n",
       "[167 rows x 167 columns]"
      ]
     },
     "execution_count": 69,
     "metadata": {},
     "output_type": "execute_result"
    }
   ],
   "source": [
    "corr_matrix_df = df.iloc[:, 11::1].corr()\n",
    "corr_matrix_df"
   ]
  },
  {
   "cell_type": "code",
   "execution_count": 70,
   "metadata": {
    "hidden": true
   },
   "outputs": [
    {
     "data": {
      "text/html": [
       "<div>\n",
       "<style scoped>\n",
       "    .dataframe tbody tr th:only-of-type {\n",
       "        vertical-align: middle;\n",
       "    }\n",
       "\n",
       "    .dataframe tbody tr th {\n",
       "        vertical-align: top;\n",
       "    }\n",
       "\n",
       "    .dataframe thead th {\n",
       "        text-align: right;\n",
       "    }\n",
       "</style>\n",
       "<table border=\"1\" class=\"dataframe\">\n",
       "  <thead>\n",
       "    <tr style=\"text-align: right;\">\n",
       "      <th></th>\n",
       "      <th>Power 1</th>\n",
       "      <th>Power 2</th>\n",
       "      <th>corr</th>\n",
       "    </tr>\n",
       "  </thead>\n",
       "  <tbody>\n",
       "    <tr>\n",
       "      <th>0</th>\n",
       "      <td>Agility</td>\n",
       "      <td>Agility</td>\n",
       "      <td>1.000000</td>\n",
       "    </tr>\n",
       "    <tr>\n",
       "      <th>1</th>\n",
       "      <td>Agility</td>\n",
       "      <td>Accelerated Healing</td>\n",
       "      <td>0.274982</td>\n",
       "    </tr>\n",
       "    <tr>\n",
       "      <th>2</th>\n",
       "      <td>Agility</td>\n",
       "      <td>Lantern Power Ring</td>\n",
       "      <td>0.022883</td>\n",
       "    </tr>\n",
       "    <tr>\n",
       "      <th>3</th>\n",
       "      <td>Agility</td>\n",
       "      <td>Dimensional Awareness</td>\n",
       "      <td>0.028897</td>\n",
       "    </tr>\n",
       "    <tr>\n",
       "      <th>4</th>\n",
       "      <td>Agility</td>\n",
       "      <td>Cold Resistance</td>\n",
       "      <td>0.106374</td>\n",
       "    </tr>\n",
       "    <tr>\n",
       "      <th>...</th>\n",
       "      <td>...</td>\n",
       "      <td>...</td>\n",
       "      <td>...</td>\n",
       "    </tr>\n",
       "    <tr>\n",
       "      <th>27884</th>\n",
       "      <td>Omniscient</td>\n",
       "      <td>Phoenix Force</td>\n",
       "      <td>-0.002148</td>\n",
       "    </tr>\n",
       "    <tr>\n",
       "      <th>27885</th>\n",
       "      <td>Omniscient</td>\n",
       "      <td>Molecular Dissipation</td>\n",
       "      <td>-0.002148</td>\n",
       "    </tr>\n",
       "    <tr>\n",
       "      <th>27886</th>\n",
       "      <td>Omniscient</td>\n",
       "      <td>Vision - Cryo</td>\n",
       "      <td>-0.002148</td>\n",
       "    </tr>\n",
       "    <tr>\n",
       "      <th>27887</th>\n",
       "      <td>Omniscient</td>\n",
       "      <td>Omnipresent</td>\n",
       "      <td>1.000000</td>\n",
       "    </tr>\n",
       "    <tr>\n",
       "      <th>27888</th>\n",
       "      <td>Omniscient</td>\n",
       "      <td>Omniscient</td>\n",
       "      <td>1.000000</td>\n",
       "    </tr>\n",
       "  </tbody>\n",
       "</table>\n",
       "<p>27889 rows × 3 columns</p>\n",
       "</div>"
      ],
      "text/plain": [
       "          Power 1                Power 2      corr\n",
       "0         Agility                Agility  1.000000\n",
       "1         Agility    Accelerated Healing  0.274982\n",
       "2         Agility     Lantern Power Ring  0.022883\n",
       "3         Agility  Dimensional Awareness  0.028897\n",
       "4         Agility        Cold Resistance  0.106374\n",
       "...           ...                    ...       ...\n",
       "27884  Omniscient          Phoenix Force -0.002148\n",
       "27885  Omniscient  Molecular Dissipation -0.002148\n",
       "27886  Omniscient          Vision - Cryo -0.002148\n",
       "27887  Omniscient            Omnipresent  1.000000\n",
       "27888  Omniscient             Omniscient  1.000000\n",
       "\n",
       "[27889 rows x 3 columns]"
      ]
     },
     "execution_count": 70,
     "metadata": {},
     "output_type": "execute_result"
    }
   ],
   "source": [
    "long_form_corr = corr_matrix_df.unstack().reset_index()\n",
    "long_form_corr.columns = ['Power 1', 'Power 2', 'corr']\n",
    "long_form_corr"
   ]
  },
  {
   "cell_type": "code",
   "execution_count": 71,
   "metadata": {
    "hidden": true
   },
   "outputs": [
    {
     "data": {
      "text/html": [
       "<div>\n",
       "<style scoped>\n",
       "    .dataframe tbody tr th:only-of-type {\n",
       "        vertical-align: middle;\n",
       "    }\n",
       "\n",
       "    .dataframe tbody tr th {\n",
       "        vertical-align: top;\n",
       "    }\n",
       "\n",
       "    .dataframe thead th {\n",
       "        text-align: right;\n",
       "    }\n",
       "</style>\n",
       "<table border=\"1\" class=\"dataframe\">\n",
       "  <thead>\n",
       "    <tr style=\"text-align: right;\">\n",
       "      <th></th>\n",
       "      <th>Power 1</th>\n",
       "      <th>Power 2</th>\n",
       "      <th>corr</th>\n",
       "      <th>keep</th>\n",
       "    </tr>\n",
       "  </thead>\n",
       "  <tbody>\n",
       "    <tr>\n",
       "      <th>0</th>\n",
       "      <td>Agility</td>\n",
       "      <td>Agility</td>\n",
       "      <td>1.000000</td>\n",
       "      <td>False</td>\n",
       "    </tr>\n",
       "    <tr>\n",
       "      <th>1</th>\n",
       "      <td>Agility</td>\n",
       "      <td>Accelerated Healing</td>\n",
       "      <td>0.274982</td>\n",
       "      <td>True</td>\n",
       "    </tr>\n",
       "    <tr>\n",
       "      <th>2</th>\n",
       "      <td>Agility</td>\n",
       "      <td>Lantern Power Ring</td>\n",
       "      <td>0.022883</td>\n",
       "      <td>True</td>\n",
       "    </tr>\n",
       "    <tr>\n",
       "      <th>3</th>\n",
       "      <td>Agility</td>\n",
       "      <td>Dimensional Awareness</td>\n",
       "      <td>0.028897</td>\n",
       "      <td>True</td>\n",
       "    </tr>\n",
       "    <tr>\n",
       "      <th>4</th>\n",
       "      <td>Agility</td>\n",
       "      <td>Cold Resistance</td>\n",
       "      <td>0.106374</td>\n",
       "      <td>True</td>\n",
       "    </tr>\n",
       "    <tr>\n",
       "      <th>...</th>\n",
       "      <td>...</td>\n",
       "      <td>...</td>\n",
       "      <td>...</td>\n",
       "      <td>...</td>\n",
       "    </tr>\n",
       "    <tr>\n",
       "      <th>27884</th>\n",
       "      <td>Omniscient</td>\n",
       "      <td>Phoenix Force</td>\n",
       "      <td>-0.002148</td>\n",
       "      <td>True</td>\n",
       "    </tr>\n",
       "    <tr>\n",
       "      <th>27885</th>\n",
       "      <td>Omniscient</td>\n",
       "      <td>Molecular Dissipation</td>\n",
       "      <td>-0.002148</td>\n",
       "      <td>True</td>\n",
       "    </tr>\n",
       "    <tr>\n",
       "      <th>27886</th>\n",
       "      <td>Omniscient</td>\n",
       "      <td>Vision - Cryo</td>\n",
       "      <td>-0.002148</td>\n",
       "      <td>True</td>\n",
       "    </tr>\n",
       "    <tr>\n",
       "      <th>27887</th>\n",
       "      <td>Omniscient</td>\n",
       "      <td>Omnipresent</td>\n",
       "      <td>1.000000</td>\n",
       "      <td>True</td>\n",
       "    </tr>\n",
       "    <tr>\n",
       "      <th>27888</th>\n",
       "      <td>Omniscient</td>\n",
       "      <td>Omniscient</td>\n",
       "      <td>1.000000</td>\n",
       "      <td>False</td>\n",
       "    </tr>\n",
       "  </tbody>\n",
       "</table>\n",
       "<p>27889 rows × 4 columns</p>\n",
       "</div>"
      ],
      "text/plain": [
       "          Power 1                Power 2      corr   keep\n",
       "0         Agility                Agility  1.000000  False\n",
       "1         Agility    Accelerated Healing  0.274982   True\n",
       "2         Agility     Lantern Power Ring  0.022883   True\n",
       "3         Agility  Dimensional Awareness  0.028897   True\n",
       "4         Agility        Cold Resistance  0.106374   True\n",
       "...           ...                    ...       ...    ...\n",
       "27884  Omniscient          Phoenix Force -0.002148   True\n",
       "27885  Omniscient  Molecular Dissipation -0.002148   True\n",
       "27886  Omniscient          Vision - Cryo -0.002148   True\n",
       "27887  Omniscient            Omnipresent  1.000000   True\n",
       "27888  Omniscient             Omniscient  1.000000  False\n",
       "\n",
       "[27889 rows x 4 columns]"
      ]
     },
     "execution_count": 71,
     "metadata": {},
     "output_type": "execute_result"
    }
   ],
   "source": [
    "long_form_corr['keep'] = long_form_corr.apply(\n",
    "    lambda x: False if x['Power 1'] == x['Power 2'] else True, axis=1)\n",
    "long_form_corr"
   ]
  },
  {
   "cell_type": "code",
   "execution_count": 72,
   "metadata": {
    "hidden": true
   },
   "outputs": [
    {
     "data": {
      "text/html": [
       "<div>\n",
       "<style scoped>\n",
       "    .dataframe tbody tr th:only-of-type {\n",
       "        vertical-align: middle;\n",
       "    }\n",
       "\n",
       "    .dataframe tbody tr th {\n",
       "        vertical-align: top;\n",
       "    }\n",
       "\n",
       "    .dataframe thead th {\n",
       "        text-align: right;\n",
       "    }\n",
       "</style>\n",
       "<table border=\"1\" class=\"dataframe\">\n",
       "  <thead>\n",
       "    <tr style=\"text-align: right;\">\n",
       "      <th></th>\n",
       "      <th>Power 1</th>\n",
       "      <th>Power 2</th>\n",
       "      <th>corr</th>\n",
       "      <th>keep</th>\n",
       "      <th>Power combo</th>\n",
       "    </tr>\n",
       "  </thead>\n",
       "  <tbody>\n",
       "    <tr>\n",
       "      <th>0</th>\n",
       "      <td>Agility</td>\n",
       "      <td>Agility</td>\n",
       "      <td>1.000000</td>\n",
       "      <td>False</td>\n",
       "      <td>Agility</td>\n",
       "    </tr>\n",
       "    <tr>\n",
       "      <th>1</th>\n",
       "      <td>Agility</td>\n",
       "      <td>Accelerated Healing</td>\n",
       "      <td>0.274982</td>\n",
       "      <td>True</td>\n",
       "      <td>Agility-Accelerated Healing</td>\n",
       "    </tr>\n",
       "    <tr>\n",
       "      <th>2</th>\n",
       "      <td>Agility</td>\n",
       "      <td>Lantern Power Ring</td>\n",
       "      <td>0.022883</td>\n",
       "      <td>True</td>\n",
       "      <td>Agility-Lantern Power Ring</td>\n",
       "    </tr>\n",
       "    <tr>\n",
       "      <th>3</th>\n",
       "      <td>Agility</td>\n",
       "      <td>Dimensional Awareness</td>\n",
       "      <td>0.028897</td>\n",
       "      <td>True</td>\n",
       "      <td>Agility-Dimensional Awareness</td>\n",
       "    </tr>\n",
       "    <tr>\n",
       "      <th>4</th>\n",
       "      <td>Agility</td>\n",
       "      <td>Cold Resistance</td>\n",
       "      <td>0.106374</td>\n",
       "      <td>True</td>\n",
       "      <td>Agility-Cold Resistance</td>\n",
       "    </tr>\n",
       "    <tr>\n",
       "      <th>...</th>\n",
       "      <td>...</td>\n",
       "      <td>...</td>\n",
       "      <td>...</td>\n",
       "      <td>...</td>\n",
       "      <td>...</td>\n",
       "    </tr>\n",
       "    <tr>\n",
       "      <th>27884</th>\n",
       "      <td>Omniscient</td>\n",
       "      <td>Phoenix Force</td>\n",
       "      <td>-0.002148</td>\n",
       "      <td>True</td>\n",
       "      <td>Phoenix Force-Omniscient</td>\n",
       "    </tr>\n",
       "    <tr>\n",
       "      <th>27885</th>\n",
       "      <td>Omniscient</td>\n",
       "      <td>Molecular Dissipation</td>\n",
       "      <td>-0.002148</td>\n",
       "      <td>True</td>\n",
       "      <td>Omniscient-Molecular Dissipation</td>\n",
       "    </tr>\n",
       "    <tr>\n",
       "      <th>27886</th>\n",
       "      <td>Omniscient</td>\n",
       "      <td>Vision - Cryo</td>\n",
       "      <td>-0.002148</td>\n",
       "      <td>True</td>\n",
       "      <td>Vision - Cryo-Omniscient</td>\n",
       "    </tr>\n",
       "    <tr>\n",
       "      <th>27887</th>\n",
       "      <td>Omniscient</td>\n",
       "      <td>Omnipresent</td>\n",
       "      <td>1.000000</td>\n",
       "      <td>True</td>\n",
       "      <td>Omniscient-Omnipresent</td>\n",
       "    </tr>\n",
       "    <tr>\n",
       "      <th>27888</th>\n",
       "      <td>Omniscient</td>\n",
       "      <td>Omniscient</td>\n",
       "      <td>1.000000</td>\n",
       "      <td>False</td>\n",
       "      <td>Omniscient</td>\n",
       "    </tr>\n",
       "  </tbody>\n",
       "</table>\n",
       "<p>27889 rows × 5 columns</p>\n",
       "</div>"
      ],
      "text/plain": [
       "          Power 1                Power 2      corr   keep  \\\n",
       "0         Agility                Agility  1.000000  False   \n",
       "1         Agility    Accelerated Healing  0.274982   True   \n",
       "2         Agility     Lantern Power Ring  0.022883   True   \n",
       "3         Agility  Dimensional Awareness  0.028897   True   \n",
       "4         Agility        Cold Resistance  0.106374   True   \n",
       "...           ...                    ...       ...    ...   \n",
       "27884  Omniscient          Phoenix Force -0.002148   True   \n",
       "27885  Omniscient  Molecular Dissipation -0.002148   True   \n",
       "27886  Omniscient          Vision - Cryo -0.002148   True   \n",
       "27887  Omniscient            Omnipresent  1.000000   True   \n",
       "27888  Omniscient             Omniscient  1.000000  False   \n",
       "\n",
       "                            Power combo  \n",
       "0                               Agility  \n",
       "1           Agility-Accelerated Healing  \n",
       "2            Agility-Lantern Power Ring  \n",
       "3         Agility-Dimensional Awareness  \n",
       "4               Agility-Cold Resistance  \n",
       "...                                 ...  \n",
       "27884          Phoenix Force-Omniscient  \n",
       "27885  Omniscient-Molecular Dissipation  \n",
       "27886          Vision - Cryo-Omniscient  \n",
       "27887            Omniscient-Omnipresent  \n",
       "27888                        Omniscient  \n",
       "\n",
       "[27889 rows x 5 columns]"
      ]
     },
     "execution_count": 72,
     "metadata": {},
     "output_type": "execute_result"
    }
   ],
   "source": [
    "long_form_corr['Power combo'] = long_form_corr.apply(\n",
    "    lambda x: '-'.join(set(x[['Power 1', 'Power 2']])), axis=1)\n",
    "long_form_corr"
   ]
  },
  {
   "cell_type": "code",
   "execution_count": 73,
   "metadata": {
    "hidden": true
   },
   "outputs": [
    {
     "data": {
      "text/html": [
       "<div>\n",
       "<style scoped>\n",
       "    .dataframe tbody tr th:only-of-type {\n",
       "        vertical-align: middle;\n",
       "    }\n",
       "\n",
       "    .dataframe tbody tr th {\n",
       "        vertical-align: top;\n",
       "    }\n",
       "\n",
       "    .dataframe thead th {\n",
       "        text-align: right;\n",
       "    }\n",
       "</style>\n",
       "<table border=\"1\" class=\"dataframe\">\n",
       "  <thead>\n",
       "    <tr style=\"text-align: right;\">\n",
       "      <th></th>\n",
       "      <th>corr</th>\n",
       "    </tr>\n",
       "    <tr>\n",
       "      <th>Power combo</th>\n",
       "      <th></th>\n",
       "    </tr>\n",
       "  </thead>\n",
       "  <tbody>\n",
       "    <tr>\n",
       "      <th>Agility-Accelerated Healing</th>\n",
       "      <td>0.274982</td>\n",
       "    </tr>\n",
       "    <tr>\n",
       "      <th>Agility-Lantern Power Ring</th>\n",
       "      <td>0.022883</td>\n",
       "    </tr>\n",
       "    <tr>\n",
       "      <th>Agility-Dimensional Awareness</th>\n",
       "      <td>0.028897</td>\n",
       "    </tr>\n",
       "    <tr>\n",
       "      <th>Agility-Cold Resistance</th>\n",
       "      <td>0.106374</td>\n",
       "    </tr>\n",
       "    <tr>\n",
       "      <th>Agility-Durability</th>\n",
       "      <td>0.142029</td>\n",
       "    </tr>\n",
       "    <tr>\n",
       "      <th>...</th>\n",
       "      <td>...</td>\n",
       "    </tr>\n",
       "    <tr>\n",
       "      <th>Gravity Control-Omniscient</th>\n",
       "      <td>0.339065</td>\n",
       "    </tr>\n",
       "    <tr>\n",
       "      <th>Toxin and Disease Control-Omniscient</th>\n",
       "      <td>-0.006107</td>\n",
       "    </tr>\n",
       "    <tr>\n",
       "      <th>Power Cosmic-Omniscient</th>\n",
       "      <td>-0.005281</td>\n",
       "    </tr>\n",
       "    <tr>\n",
       "      <th>Telepathy Resistance-Omniscient</th>\n",
       "      <td>-0.012648</td>\n",
       "    </tr>\n",
       "    <tr>\n",
       "      <th>Phoenix Force-Omniscient</th>\n",
       "      <td>-0.002148</td>\n",
       "    </tr>\n",
       "  </tbody>\n",
       "</table>\n",
       "<p>15026 rows × 1 columns</p>\n",
       "</div>"
      ],
      "text/plain": [
       "                                          corr\n",
       "Power combo                                   \n",
       "Agility-Accelerated Healing           0.274982\n",
       "Agility-Lantern Power Ring            0.022883\n",
       "Agility-Dimensional Awareness         0.028897\n",
       "Agility-Cold Resistance               0.106374\n",
       "Agility-Durability                    0.142029\n",
       "...                                        ...\n",
       "Gravity Control-Omniscient            0.339065\n",
       "Toxin and Disease Control-Omniscient -0.006107\n",
       "Power Cosmic-Omniscient              -0.005281\n",
       "Telepathy Resistance-Omniscient      -0.012648\n",
       "Phoenix Force-Omniscient             -0.002148\n",
       "\n",
       "[15026 rows x 1 columns]"
      ]
     },
     "execution_count": 73,
     "metadata": {},
     "output_type": "execute_result"
    }
   ],
   "source": [
    "corr_analysis_lf_df = long_form_corr[long_form_corr['keep']][[\n",
    "    'Power combo', 'corr'\n",
    "]]\n",
    "corr_analysis_lf_df = corr_analysis_lf_df.drop_duplicates()\n",
    "corr_analysis_lf_df = corr_analysis_lf_df.set_index('Power combo')\n",
    "corr_analysis_lf_df"
   ]
  },
  {
   "cell_type": "code",
   "execution_count": 74,
   "metadata": {
    "hidden": true
   },
   "outputs": [
    {
     "data": {
      "text/plain": [
       "<AxesSubplot:ylabel='Power combo'>"
      ]
     },
     "execution_count": 74,
     "metadata": {},
     "output_type": "execute_result"
    },
    {
     "data": {
      "image/png": "[encoded data removed]",
      "text/plain": [
       "<Figure size 432x288 with 1 Axes>"
      ]
     },
     "metadata": {},
     "output_type": "display_data"
    }
   ],
   "source": [
    "corr_analysis_lf_df['corr'].sort_values().tail(10).plot(kind='barh',color='gold')"
   ]
  },
  {
   "cell_type": "code",
   "execution_count": 75,
   "metadata": {
    "hidden": true
   },
   "outputs": [
    {
     "data": {
      "text/plain": [
       "<AxesSubplot:ylabel='Power combo'>"
      ]
     },
     "execution_count": 75,
     "metadata": {},
     "output_type": "execute_result"
    },
    {
     "data": {
      "image/png": "[encoded data removed]",
      "text/plain": [
       "<Figure size 432x288 with 2 Axes>"
      ]
     },
     "metadata": {},
     "output_type": "display_data"
    }
   ],
   "source": [
    "sns.heatmap(corr_analysis_lf_df.sort_values('corr').tail(25), annot=True)"
   ]
  },
  {
   "cell_type": "code",
   "execution_count": 76,
   "metadata": {
    "hidden": true
   },
   "outputs": [
    {
     "data": {
      "text/html": [
       "<style  type=\"text/css\" >\n",
       "#T_809c823e_8063_11eb_8ff7_3024a9882581row0_col0,#T_809c823e_8063_11eb_8ff7_3024a9882581row1_col0{\n",
       "            background-color:  #fff7fb;\n",
       "            color:  #000000;\n",
       "        }#T_809c823e_8063_11eb_8ff7_3024a9882581row2_col0,#T_809c823e_8063_11eb_8ff7_3024a9882581row3_col0{\n",
       "            background-color:  #fef6fb;\n",
       "            color:  #000000;\n",
       "        }#T_809c823e_8063_11eb_8ff7_3024a9882581row4_col0{\n",
       "            background-color:  #fdf5fa;\n",
       "            color:  #000000;\n",
       "        }#T_809c823e_8063_11eb_8ff7_3024a9882581row5_col0,#T_809c823e_8063_11eb_8ff7_3024a9882581row6_col0{\n",
       "            background-color:  #f9f2f8;\n",
       "            color:  #000000;\n",
       "        }#T_809c823e_8063_11eb_8ff7_3024a9882581row7_col0{\n",
       "            background-color:  #f8f1f8;\n",
       "            color:  #000000;\n",
       "        }#T_809c823e_8063_11eb_8ff7_3024a9882581row8_col0{\n",
       "            background-color:  #f4edf6;\n",
       "            color:  #000000;\n",
       "        }#T_809c823e_8063_11eb_8ff7_3024a9882581row9_col0,#T_809c823e_8063_11eb_8ff7_3024a9882581row10_col0{\n",
       "            background-color:  #f2ecf5;\n",
       "            color:  #000000;\n",
       "        }#T_809c823e_8063_11eb_8ff7_3024a9882581row11_col0{\n",
       "            background-color:  #f0eaf4;\n",
       "            color:  #000000;\n",
       "        }#T_809c823e_8063_11eb_8ff7_3024a9882581row12_col0{\n",
       "            background-color:  #eee9f3;\n",
       "            color:  #000000;\n",
       "        }#T_809c823e_8063_11eb_8ff7_3024a9882581row13_col0{\n",
       "            background-color:  #eee8f3;\n",
       "            color:  #000000;\n",
       "        }#T_809c823e_8063_11eb_8ff7_3024a9882581row14_col0{\n",
       "            background-color:  #e7e3f0;\n",
       "            color:  #000000;\n",
       "        }#T_809c823e_8063_11eb_8ff7_3024a9882581row15_col0{\n",
       "            background-color:  #e6e2ef;\n",
       "            color:  #000000;\n",
       "        }#T_809c823e_8063_11eb_8ff7_3024a9882581row16_col0{\n",
       "            background-color:  #e2dfee;\n",
       "            color:  #000000;\n",
       "        }#T_809c823e_8063_11eb_8ff7_3024a9882581row17_col0{\n",
       "            background-color:  #e1dfed;\n",
       "            color:  #000000;\n",
       "        }#T_809c823e_8063_11eb_8ff7_3024a9882581row18_col0{\n",
       "            background-color:  #dddbec;\n",
       "            color:  #000000;\n",
       "        }#T_809c823e_8063_11eb_8ff7_3024a9882581row19_col0,#T_809c823e_8063_11eb_8ff7_3024a9882581row20_col0{\n",
       "            background-color:  #dcdaeb;\n",
       "            color:  #000000;\n",
       "        }#T_809c823e_8063_11eb_8ff7_3024a9882581row21_col0{\n",
       "            background-color:  #c0c9e2;\n",
       "            color:  #000000;\n",
       "        }#T_809c823e_8063_11eb_8ff7_3024a9882581row22_col0{\n",
       "            background-color:  #abbfdc;\n",
       "            color:  #000000;\n",
       "        }#T_809c823e_8063_11eb_8ff7_3024a9882581row23_col0,#T_809c823e_8063_11eb_8ff7_3024a9882581row24_col0{\n",
       "            background-color:  #023858;\n",
       "            color:  #f1f1f1;\n",
       "        }</style><table id=\"T_809c823e_8063_11eb_8ff7_3024a9882581\" ><thead>    <tr>        <th class=\"blank level0\" ></th>        <th class=\"col_heading level0 col0\" >corr</th>    </tr>    <tr>        <th class=\"index_name level0\" >Power combo</th>        <th class=\"blank\" ></th>    </tr></thead><tbody>\n",
       "                <tr>\n",
       "                        <th id=\"T_809c823e_8063_11eb_8ff7_3024a9882581level0_row0\" class=\"row_heading level0 row0\" >Super Speed-Super Strength</th>\n",
       "                        <td id=\"T_809c823e_8063_11eb_8ff7_3024a9882581row0_col0\" class=\"data row0 col0\" >0.541435</td>\n",
       "            </tr>\n",
       "            <tr>\n",
       "                        <th id=\"T_809c823e_8063_11eb_8ff7_3024a9882581level0_row1\" class=\"row_heading level0 row1\" >Danger Sense-Web Creation</th>\n",
       "                        <td id=\"T_809c823e_8063_11eb_8ff7_3024a9882581row1_col0\" class=\"data row1 col0\" >0.542638</td>\n",
       "            </tr>\n",
       "            <tr>\n",
       "                        <th id=\"T_809c823e_8063_11eb_8ff7_3024a9882581level0_row2\" class=\"row_heading level0 row2\" >Vision - Telescopic-Vision - X-Ray</th>\n",
       "                        <td id=\"T_809c823e_8063_11eb_8ff7_3024a9882581row2_col0\" class=\"data row2 col0\" >0.544597</td>\n",
       "            </tr>\n",
       "            <tr>\n",
       "                        <th id=\"T_809c823e_8063_11eb_8ff7_3024a9882581level0_row3\" class=\"row_heading level0 row3\" >Symbiote Costume-Web Creation</th>\n",
       "                        <td id=\"T_809c823e_8063_11eb_8ff7_3024a9882581row3_col0\" class=\"data row3 col0\" >0.544973</td>\n",
       "            </tr>\n",
       "            <tr>\n",
       "                        <th id=\"T_809c823e_8063_11eb_8ff7_3024a9882581level0_row4\" class=\"row_heading level0 row4\" >Durability-Super Strength</th>\n",
       "                        <td id=\"T_809c823e_8063_11eb_8ff7_3024a9882581row4_col0\" class=\"data row4 col0\" >0.549459</td>\n",
       "            </tr>\n",
       "            <tr>\n",
       "                        <th id=\"T_809c823e_8063_11eb_8ff7_3024a9882581level0_row5\" class=\"row_heading level0 row5\" >Vision - Microscopic-Super Breath</th>\n",
       "                        <td id=\"T_809c823e_8063_11eb_8ff7_3024a9882581row5_col0\" class=\"data row5 col0\" >0.560191</td>\n",
       "            </tr>\n",
       "            <tr>\n",
       "                        <th id=\"T_809c823e_8063_11eb_8ff7_3024a9882581level0_row6\" class=\"row_heading level0 row6\" >Super Breath-Vision - Microscopic</th>\n",
       "                        <td id=\"T_809c823e_8063_11eb_8ff7_3024a9882581row6_col0\" class=\"data row6 col0\" >0.560191</td>\n",
       "            </tr>\n",
       "            <tr>\n",
       "                        <th id=\"T_809c823e_8063_11eb_8ff7_3024a9882581level0_row7\" class=\"row_heading level0 row7\" >Vision - Telescopic-Vision - Microscopic</th>\n",
       "                        <td id=\"T_809c823e_8063_11eb_8ff7_3024a9882581row7_col0\" class=\"data row7 col0\" >0.564572</td>\n",
       "            </tr>\n",
       "            <tr>\n",
       "                        <th id=\"T_809c823e_8063_11eb_8ff7_3024a9882581level0_row8\" class=\"row_heading level0 row8\" >Reality Warping-Dimensional Awareness</th>\n",
       "                        <td id=\"T_809c823e_8063_11eb_8ff7_3024a9882581row8_col0\" class=\"data row8 col0\" >0.576688</td>\n",
       "            </tr>\n",
       "            <tr>\n",
       "                        <th id=\"T_809c823e_8063_11eb_8ff7_3024a9882581level0_row9\" class=\"row_heading level0 row9\" >Cold Resistance-Heat Resistance</th>\n",
       "                        <td id=\"T_809c823e_8063_11eb_8ff7_3024a9882581row9_col0\" class=\"data row9 col0\" >0.580691</td>\n",
       "            </tr>\n",
       "            <tr>\n",
       "                        <th id=\"T_809c823e_8063_11eb_8ff7_3024a9882581level0_row10\" class=\"row_heading level0 row10\" >Illusions-Astral Projection</th>\n",
       "                        <td id=\"T_809c823e_8063_11eb_8ff7_3024a9882581row10_col0\" class=\"data row10 col0\" >0.581719</td>\n",
       "            </tr>\n",
       "            <tr>\n",
       "                        <th id=\"T_809c823e_8063_11eb_8ff7_3024a9882581level0_row11\" class=\"row_heading level0 row11\" >Reality Warping-Time Manipulation</th>\n",
       "                        <td id=\"T_809c823e_8063_11eb_8ff7_3024a9882581row11_col0\" class=\"data row11 col0\" >0.587397</td>\n",
       "            </tr>\n",
       "            <tr>\n",
       "                        <th id=\"T_809c823e_8063_11eb_8ff7_3024a9882581level0_row12\" class=\"row_heading level0 row12\" >Animal Attributes-Animal Oriented Powers</th>\n",
       "                        <td id=\"T_809c823e_8063_11eb_8ff7_3024a9882581row12_col0\" class=\"data row12 col0\" >0.593247</td>\n",
       "            </tr>\n",
       "            <tr>\n",
       "                        <th id=\"T_809c823e_8063_11eb_8ff7_3024a9882581level0_row13\" class=\"row_heading level0 row13\" >Reality Warping-Omnipotent</th>\n",
       "                        <td id=\"T_809c823e_8063_11eb_8ff7_3024a9882581row13_col0\" class=\"data row13 col0\" >0.593494</td>\n",
       "            </tr>\n",
       "            <tr>\n",
       "                        <th id=\"T_809c823e_8063_11eb_8ff7_3024a9882581level0_row14\" class=\"row_heading level0 row14\" >Super Breath-Vision - Heat</th>\n",
       "                        <td id=\"T_809c823e_8063_11eb_8ff7_3024a9882581row14_col0\" class=\"data row14 col0\" >0.609600</td>\n",
       "            </tr>\n",
       "            <tr>\n",
       "                        <th id=\"T_809c823e_8063_11eb_8ff7_3024a9882581level0_row15\" class=\"row_heading level0 row15\" >Wallcrawling-Web Creation</th>\n",
       "                        <td id=\"T_809c823e_8063_11eb_8ff7_3024a9882581row15_col0\" class=\"data row15 col0\" >0.612852</td>\n",
       "            </tr>\n",
       "            <tr>\n",
       "                        <th id=\"T_809c823e_8063_11eb_8ff7_3024a9882581level0_row16\" class=\"row_heading level0 row16\" >Time Travel-Time Manipulation</th>\n",
       "                        <td id=\"T_809c823e_8063_11eb_8ff7_3024a9882581row16_col0\" class=\"data row16 col0\" >0.618517</td>\n",
       "            </tr>\n",
       "            <tr>\n",
       "                        <th id=\"T_809c823e_8063_11eb_8ff7_3024a9882581level0_row17\" class=\"row_heading level0 row17\" >Vision - Microscopic-Vision - Heat</th>\n",
       "                        <td id=\"T_809c823e_8063_11eb_8ff7_3024a9882581row17_col0\" class=\"data row17 col0\" >0.620659</td>\n",
       "            </tr>\n",
       "            <tr>\n",
       "                        <th id=\"T_809c823e_8063_11eb_8ff7_3024a9882581level0_row18\" class=\"row_heading level0 row18\" >Vision - X-Ray-Vision - Heat</th>\n",
       "                        <td id=\"T_809c823e_8063_11eb_8ff7_3024a9882581row18_col0\" class=\"data row18 col0\" >0.630361</td>\n",
       "            </tr>\n",
       "            <tr>\n",
       "                        <th id=\"T_809c823e_8063_11eb_8ff7_3024a9882581level0_row19\" class=\"row_heading level0 row19\" >Omniscient-Omnipotent</th>\n",
       "                        <td id=\"T_809c823e_8063_11eb_8ff7_3024a9882581row19_col0\" class=\"data row19 col0\" >0.631012</td>\n",
       "            </tr>\n",
       "            <tr>\n",
       "                        <th id=\"T_809c823e_8063_11eb_8ff7_3024a9882581level0_row20\" class=\"row_heading level0 row20\" >Omnipresent-Omnipotent</th>\n",
       "                        <td id=\"T_809c823e_8063_11eb_8ff7_3024a9882581row20_col0\" class=\"data row20 col0\" >0.631012</td>\n",
       "            </tr>\n",
       "            <tr>\n",
       "                        <th id=\"T_809c823e_8063_11eb_8ff7_3024a9882581level0_row21\" class=\"row_heading level0 row21\" >Vision - X-Ray-Vision - Microscopic</th>\n",
       "                        <td id=\"T_809c823e_8063_11eb_8ff7_3024a9882581row21_col0\" class=\"data row21 col0\" >0.677827</td>\n",
       "            </tr>\n",
       "            <tr>\n",
       "                        <th id=\"T_809c823e_8063_11eb_8ff7_3024a9882581level0_row22\" class=\"row_heading level0 row22\" >Intuitive aptitude-Melting</th>\n",
       "                        <td id=\"T_809c823e_8063_11eb_8ff7_3024a9882581row22_col0\" class=\"data row22 col0\" >0.706570</td>\n",
       "            </tr>\n",
       "            <tr>\n",
       "                        <th id=\"T_809c823e_8063_11eb_8ff7_3024a9882581level0_row23\" class=\"row_heading level0 row23\" >Spatial Awareness-Hyperkinesis</th>\n",
       "                        <td id=\"T_809c823e_8063_11eb_8ff7_3024a9882581row23_col0\" class=\"data row23 col0\" >1.000000</td>\n",
       "            </tr>\n",
       "            <tr>\n",
       "                        <th id=\"T_809c823e_8063_11eb_8ff7_3024a9882581level0_row24\" class=\"row_heading level0 row24\" >Omniscient-Omnipresent</th>\n",
       "                        <td id=\"T_809c823e_8063_11eb_8ff7_3024a9882581row24_col0\" class=\"data row24 col0\" >1.000000</td>\n",
       "            </tr>\n",
       "    </tbody></table>"
      ],
      "text/plain": [
       "<pandas.io.formats.style.Styler at 0x1b9e838b700>"
      ]
     },
     "execution_count": 76,
     "metadata": {},
     "output_type": "execute_result"
    }
   ],
   "source": [
    "corr_analysis_lf_df.sort_values('corr').tail(25).style.background_gradient()"
   ]
  },
  {
   "cell_type": "markdown",
   "metadata": {
    "heading_collapsed": true,
    "hidden": true
   },
   "source": [
    "##### highest chance of co-occurring, method 2"
   ]
  },
  {
   "cell_type": "code",
   "execution_count": 77,
   "metadata": {
    "hidden": true
   },
   "outputs": [],
   "source": [
    "import pingouin as pg"
   ]
  },
  {
   "cell_type": "code",
   "execution_count": 78,
   "metadata": {
    "hidden": true
   },
   "outputs": [
    {
     "name": "stderr",
     "output_type": "stream",
     "text": [
      "C:\\Users\\tamji\\anaconda3\\envs\\learn-env\\lib\\site-packages\\pingouin\\effsize.py:135: RuntimeWarning: divide by zero encountered in arctanh\n",
      "  z = np.arctanh(stat)  # R-to-z transform\n",
      "C:\\Users\\tamji\\anaconda3\\envs\\learn-env\\lib\\site-packages\\pingouin\\power.py:911: RuntimeWarning: divide by zero encountered in arctanh\n",
      "  zr = np.arctanh(r) + r / (2 * (n - 1))\n",
      "C:\\Users\\tamji\\anaconda3\\envs\\learn-env\\lib\\site-packages\\pingouin\\pairwise.py:1266: RuntimeWarning: divide by zero encountered in arctanh\n",
      "  stats['z'] = np.arctanh(stats['r'].to_numpy())\n"
     ]
    }
   ],
   "source": [
    "corr_df = pg.pairwise_corr(df.iloc[:, 11::1], method='spearman', tail='one-sided', padjust='bonf').round(5)"
   ]
  },
  {
   "cell_type": "code",
   "execution_count": 79,
   "metadata": {
    "hidden": true
   },
   "outputs": [
    {
     "data": {
      "text/html": [
       "<div>\n",
       "<style scoped>\n",
       "    .dataframe tbody tr th:only-of-type {\n",
       "        vertical-align: middle;\n",
       "    }\n",
       "\n",
       "    .dataframe tbody tr th {\n",
       "        vertical-align: top;\n",
       "    }\n",
       "\n",
       "    .dataframe thead th {\n",
       "        text-align: right;\n",
       "    }\n",
       "</style>\n",
       "<table border=\"1\" class=\"dataframe\">\n",
       "  <thead>\n",
       "    <tr style=\"text-align: right;\">\n",
       "      <th></th>\n",
       "      <th>X</th>\n",
       "      <th>Y</th>\n",
       "      <th>method</th>\n",
       "      <th>tail</th>\n",
       "      <th>n</th>\n",
       "      <th>r</th>\n",
       "      <th>CI95%</th>\n",
       "      <th>r2</th>\n",
       "      <th>adj_r2</th>\n",
       "      <th>z</th>\n",
       "      <th>p-unc</th>\n",
       "      <th>p-corr</th>\n",
       "      <th>p-adjust</th>\n",
       "      <th>power</th>\n",
       "    </tr>\n",
       "  </thead>\n",
       "  <tbody>\n",
       "    <tr>\n",
       "      <th>0</th>\n",
       "      <td>Agility</td>\n",
       "      <td>Accelerated Healing</td>\n",
       "      <td>spearman</td>\n",
       "      <td>one-sided</td>\n",
       "      <td>660</td>\n",
       "      <td>0.27498</td>\n",
       "      <td>[0.2, 0.34]</td>\n",
       "      <td>0.07561</td>\n",
       "      <td>0.07280</td>\n",
       "      <td>0.28225</td>\n",
       "      <td>0.00000</td>\n",
       "      <td>0.0</td>\n",
       "      <td>bonf</td>\n",
       "      <td>1.00000</td>\n",
       "    </tr>\n",
       "    <tr>\n",
       "      <th>1</th>\n",
       "      <td>Agility</td>\n",
       "      <td>Lantern Power Ring</td>\n",
       "      <td>spearman</td>\n",
       "      <td>one-sided</td>\n",
       "      <td>660</td>\n",
       "      <td>0.02288</td>\n",
       "      <td>[-0.05, 0.1]</td>\n",
       "      <td>0.00052</td>\n",
       "      <td>-0.00252</td>\n",
       "      <td>0.02289</td>\n",
       "      <td>0.27865</td>\n",
       "      <td>1.0</td>\n",
       "      <td>bonf</td>\n",
       "      <td>0.14510</td>\n",
       "    </tr>\n",
       "    <tr>\n",
       "      <th>2</th>\n",
       "      <td>Agility</td>\n",
       "      <td>Dimensional Awareness</td>\n",
       "      <td>spearman</td>\n",
       "      <td>one-sided</td>\n",
       "      <td>660</td>\n",
       "      <td>0.02890</td>\n",
       "      <td>[-0.05, 0.1]</td>\n",
       "      <td>0.00084</td>\n",
       "      <td>-0.00221</td>\n",
       "      <td>0.02891</td>\n",
       "      <td>0.22931</td>\n",
       "      <td>1.0</td>\n",
       "      <td>bonf</td>\n",
       "      <td>0.18318</td>\n",
       "    </tr>\n",
       "    <tr>\n",
       "      <th>3</th>\n",
       "      <td>Agility</td>\n",
       "      <td>Cold Resistance</td>\n",
       "      <td>spearman</td>\n",
       "      <td>one-sided</td>\n",
       "      <td>660</td>\n",
       "      <td>0.10637</td>\n",
       "      <td>[0.03, 0.18]</td>\n",
       "      <td>0.01132</td>\n",
       "      <td>0.00831</td>\n",
       "      <td>0.10678</td>\n",
       "      <td>0.00312</td>\n",
       "      <td>1.0</td>\n",
       "      <td>bonf</td>\n",
       "      <td>0.86307</td>\n",
       "    </tr>\n",
       "    <tr>\n",
       "      <th>4</th>\n",
       "      <td>Agility</td>\n",
       "      <td>Durability</td>\n",
       "      <td>spearman</td>\n",
       "      <td>one-sided</td>\n",
       "      <td>660</td>\n",
       "      <td>0.14203</td>\n",
       "      <td>[0.07, 0.22]</td>\n",
       "      <td>0.02017</td>\n",
       "      <td>0.01719</td>\n",
       "      <td>0.14300</td>\n",
       "      <td>0.00013</td>\n",
       "      <td>1.0</td>\n",
       "      <td>bonf</td>\n",
       "      <td>0.97848</td>\n",
       "    </tr>\n",
       "    <tr>\n",
       "      <th>...</th>\n",
       "      <td>...</td>\n",
       "      <td>...</td>\n",
       "      <td>...</td>\n",
       "      <td>...</td>\n",
       "      <td>...</td>\n",
       "      <td>...</td>\n",
       "      <td>...</td>\n",
       "      <td>...</td>\n",
       "      <td>...</td>\n",
       "      <td>...</td>\n",
       "      <td>...</td>\n",
       "      <td>...</td>\n",
       "      <td>...</td>\n",
       "      <td>...</td>\n",
       "    </tr>\n",
       "    <tr>\n",
       "      <th>13856</th>\n",
       "      <td>Molecular Dissipation</td>\n",
       "      <td>Omnipresent</td>\n",
       "      <td>spearman</td>\n",
       "      <td>one-sided</td>\n",
       "      <td>660</td>\n",
       "      <td>-0.00215</td>\n",
       "      <td>[-0.08, 0.07]</td>\n",
       "      <td>0.00000</td>\n",
       "      <td>-0.00304</td>\n",
       "      <td>-0.00215</td>\n",
       "      <td>0.47804</td>\n",
       "      <td>1.0</td>\n",
       "      <td>bonf</td>\n",
       "      <td>0.05595</td>\n",
       "    </tr>\n",
       "    <tr>\n",
       "      <th>13857</th>\n",
       "      <td>Molecular Dissipation</td>\n",
       "      <td>Omniscient</td>\n",
       "      <td>spearman</td>\n",
       "      <td>one-sided</td>\n",
       "      <td>660</td>\n",
       "      <td>-0.00215</td>\n",
       "      <td>[-0.08, 0.07]</td>\n",
       "      <td>0.00000</td>\n",
       "      <td>-0.00304</td>\n",
       "      <td>-0.00215</td>\n",
       "      <td>0.47804</td>\n",
       "      <td>1.0</td>\n",
       "      <td>bonf</td>\n",
       "      <td>0.05595</td>\n",
       "    </tr>\n",
       "    <tr>\n",
       "      <th>13858</th>\n",
       "      <td>Vision - Cryo</td>\n",
       "      <td>Omnipresent</td>\n",
       "      <td>spearman</td>\n",
       "      <td>one-sided</td>\n",
       "      <td>660</td>\n",
       "      <td>-0.00215</td>\n",
       "      <td>[-0.08, 0.07]</td>\n",
       "      <td>0.00000</td>\n",
       "      <td>-0.00304</td>\n",
       "      <td>-0.00215</td>\n",
       "      <td>0.47804</td>\n",
       "      <td>1.0</td>\n",
       "      <td>bonf</td>\n",
       "      <td>0.05595</td>\n",
       "    </tr>\n",
       "    <tr>\n",
       "      <th>13859</th>\n",
       "      <td>Vision - Cryo</td>\n",
       "      <td>Omniscient</td>\n",
       "      <td>spearman</td>\n",
       "      <td>one-sided</td>\n",
       "      <td>660</td>\n",
       "      <td>-0.00215</td>\n",
       "      <td>[-0.08, 0.07]</td>\n",
       "      <td>0.00000</td>\n",
       "      <td>-0.00304</td>\n",
       "      <td>-0.00215</td>\n",
       "      <td>0.47804</td>\n",
       "      <td>1.0</td>\n",
       "      <td>bonf</td>\n",
       "      <td>0.05595</td>\n",
       "    </tr>\n",
       "    <tr>\n",
       "      <th>13860</th>\n",
       "      <td>Omnipresent</td>\n",
       "      <td>Omniscient</td>\n",
       "      <td>spearman</td>\n",
       "      <td>one-sided</td>\n",
       "      <td>660</td>\n",
       "      <td>1.00000</td>\n",
       "      <td>[1.0, 1.0]</td>\n",
       "      <td>1.00000</td>\n",
       "      <td>1.00000</td>\n",
       "      <td>inf</td>\n",
       "      <td>0.00000</td>\n",
       "      <td>0.0</td>\n",
       "      <td>bonf</td>\n",
       "      <td>1.00000</td>\n",
       "    </tr>\n",
       "  </tbody>\n",
       "</table>\n",
       "<p>13861 rows × 14 columns</p>\n",
       "</div>"
      ],
      "text/plain": [
       "                           X                      Y    method       tail    n  \\\n",
       "0                    Agility    Accelerated Healing  spearman  one-sided  660   \n",
       "1                    Agility     Lantern Power Ring  spearman  one-sided  660   \n",
       "2                    Agility  Dimensional Awareness  spearman  one-sided  660   \n",
       "3                    Agility        Cold Resistance  spearman  one-sided  660   \n",
       "4                    Agility             Durability  spearman  one-sided  660   \n",
       "...                      ...                    ...       ...        ...  ...   \n",
       "13856  Molecular Dissipation            Omnipresent  spearman  one-sided  660   \n",
       "13857  Molecular Dissipation             Omniscient  spearman  one-sided  660   \n",
       "13858          Vision - Cryo            Omnipresent  spearman  one-sided  660   \n",
       "13859          Vision - Cryo             Omniscient  spearman  one-sided  660   \n",
       "13860            Omnipresent             Omniscient  spearman  one-sided  660   \n",
       "\n",
       "             r          CI95%       r2   adj_r2        z    p-unc  p-corr  \\\n",
       "0      0.27498    [0.2, 0.34]  0.07561  0.07280  0.28225  0.00000     0.0   \n",
       "1      0.02288   [-0.05, 0.1]  0.00052 -0.00252  0.02289  0.27865     1.0   \n",
       "2      0.02890   [-0.05, 0.1]  0.00084 -0.00221  0.02891  0.22931     1.0   \n",
       "3      0.10637   [0.03, 0.18]  0.01132  0.00831  0.10678  0.00312     1.0   \n",
       "4      0.14203   [0.07, 0.22]  0.02017  0.01719  0.14300  0.00013     1.0   \n",
       "...        ...            ...      ...      ...      ...      ...     ...   \n",
       "13856 -0.00215  [-0.08, 0.07]  0.00000 -0.00304 -0.00215  0.47804     1.0   \n",
       "13857 -0.00215  [-0.08, 0.07]  0.00000 -0.00304 -0.00215  0.47804     1.0   \n",
       "13858 -0.00215  [-0.08, 0.07]  0.00000 -0.00304 -0.00215  0.47804     1.0   \n",
       "13859 -0.00215  [-0.08, 0.07]  0.00000 -0.00304 -0.00215  0.47804     1.0   \n",
       "13860  1.00000     [1.0, 1.0]  1.00000  1.00000      inf  0.00000     0.0   \n",
       "\n",
       "      p-adjust    power  \n",
       "0         bonf  1.00000  \n",
       "1         bonf  0.14510  \n",
       "2         bonf  0.18318  \n",
       "3         bonf  0.86307  \n",
       "4         bonf  0.97848  \n",
       "...        ...      ...  \n",
       "13856     bonf  0.05595  \n",
       "13857     bonf  0.05595  \n",
       "13858     bonf  0.05595  \n",
       "13859     bonf  0.05595  \n",
       "13860     bonf  1.00000  \n",
       "\n",
       "[13861 rows x 14 columns]"
      ]
     },
     "execution_count": 79,
     "metadata": {},
     "output_type": "execute_result"
    }
   ],
   "source": [
    "corr_df"
   ]
  },
  {
   "cell_type": "code",
   "execution_count": 80,
   "metadata": {
    "hidden": true
   },
   "outputs": [
    {
     "data": {
      "text/plain": [
       "<AxesSubplot:ylabel='power_combo'>"
      ]
     },
     "execution_count": 80,
     "metadata": {},
     "output_type": "execute_result"
    },
    {
     "data": {
      "image/png": "[encoded data removed]",
      "text/plain": [
       "<Figure size 432x288 with 1 Axes>"
      ]
     },
     "metadata": {},
     "output_type": "display_data"
    }
   ],
   "source": [
    "corr_analysis_df = sqldf(\n",
    "    \"SELECT (X||' and '||Y) AS power_combo, r AS corr FROM corr_df ORDER BY r DESC LIMIT 10\"\n",
    ")\n",
    "corr_analysis_df.set_index('power_combo').plot(kind='barh')"
   ]
  },
  {
   "cell_type": "code",
   "execution_count": 81,
   "metadata": {
    "hidden": true
   },
   "outputs": [
    {
     "data": {
      "text/plain": [
       "<AxesSubplot:xlabel='corr', ylabel='power_combo'>"
      ]
     },
     "execution_count": 81,
     "metadata": {},
     "output_type": "execute_result"
    },
    {
     "data": {
      "image/png": "[encoded data removed]",
      "text/plain": [
       "<Figure size 432x288 with 1 Axes>"
      ]
     },
     "metadata": {},
     "output_type": "display_data"
    }
   ],
   "source": [
    "sns.barplot(data=corr_analysis_df,\n",
    "            x='corr',\n",
    "            y=corr_analysis_df.set_index('power_combo').index,\n",
    "            color='m')"
   ]
  },
  {
   "cell_type": "markdown",
   "metadata": {
    "heading_collapsed": true,
    "hidden": true
   },
   "source": [
    "##### differ by gender"
   ]
  },
  {
   "cell_type": "code",
   "execution_count": 82,
   "metadata": {
    "hidden": true
   },
   "outputs": [],
   "source": [
    "male_hero = df[df['Gender'] == 'Male']\n",
    "female_hero = df[df['Gender'] == 'Female']"
   ]
  },
  {
   "cell_type": "code",
   "execution_count": 83,
   "metadata": {
    "hidden": true
   },
   "outputs": [
    {
     "name": "stderr",
     "output_type": "stream",
     "text": [
      "C:\\Users\\tamji\\anaconda3\\envs\\learn-env\\lib\\site-packages\\pingouin\\effsize.py:135: RuntimeWarning: divide by zero encountered in arctanh\n",
      "  z = np.arctanh(stat)  # R-to-z transform\n",
      "C:\\Users\\tamji\\anaconda3\\envs\\learn-env\\lib\\site-packages\\pingouin\\power.py:911: RuntimeWarning: divide by zero encountered in arctanh\n",
      "  zr = np.arctanh(r) + r / (2 * (n - 1))\n",
      "C:\\Users\\tamji\\anaconda3\\envs\\learn-env\\lib\\site-packages\\pingouin\\pairwise.py:1266: RuntimeWarning: divide by zero encountered in arctanh\n",
      "  stats['z'] = np.arctanh(stats['r'].to_numpy())\n"
     ]
    }
   ],
   "source": [
    "male_corr_df = pg.pairwise_corr(male_hero.iloc[:, 11::1],\n",
    "                                method='spearman',\n",
    "                                tail='one-sided',\n",
    "                                padjust='bonf').round(5)"
   ]
  },
  {
   "cell_type": "code",
   "execution_count": 84,
   "metadata": {
    "hidden": true
   },
   "outputs": [],
   "source": [
    "female_corr_df = pg.pairwise_corr(female_hero.iloc[:, 11::1],\n",
    "                                  method='spearman',\n",
    "                                  tail='one-sided',\n",
    "                                  padjust='bonf').round(5)"
   ]
  },
  {
   "cell_type": "code",
   "execution_count": 85,
   "metadata": {
    "hidden": true,
    "scrolled": false
   },
   "outputs": [
    {
     "data": {
      "text/html": [
       "<div>\n",
       "<style scoped>\n",
       "    .dataframe tbody tr th:only-of-type {\n",
       "        vertical-align: middle;\n",
       "    }\n",
       "\n",
       "    .dataframe tbody tr th {\n",
       "        vertical-align: top;\n",
       "    }\n",
       "\n",
       "    .dataframe thead th {\n",
       "        text-align: right;\n",
       "    }\n",
       "</style>\n",
       "<table border=\"1\" class=\"dataframe\">\n",
       "  <thead>\n",
       "    <tr style=\"text-align: right;\">\n",
       "      <th></th>\n",
       "      <th>X</th>\n",
       "      <th>Y</th>\n",
       "      <th>r</th>\n",
       "    </tr>\n",
       "  </thead>\n",
       "  <tbody>\n",
       "    <tr>\n",
       "      <th>0</th>\n",
       "      <td>Agility</td>\n",
       "      <td>Accelerated Healing</td>\n",
       "      <td>0.26858</td>\n",
       "    </tr>\n",
       "    <tr>\n",
       "      <th>1</th>\n",
       "      <td>Agility</td>\n",
       "      <td>Lantern Power Ring</td>\n",
       "      <td>0.02082</td>\n",
       "    </tr>\n",
       "    <tr>\n",
       "      <th>2</th>\n",
       "      <td>Agility</td>\n",
       "      <td>Dimensional Awareness</td>\n",
       "      <td>0.00365</td>\n",
       "    </tr>\n",
       "    <tr>\n",
       "      <th>3</th>\n",
       "      <td>Agility</td>\n",
       "      <td>Cold Resistance</td>\n",
       "      <td>0.15956</td>\n",
       "    </tr>\n",
       "    <tr>\n",
       "      <th>4</th>\n",
       "      <td>Agility</td>\n",
       "      <td>Durability</td>\n",
       "      <td>0.15269</td>\n",
       "    </tr>\n",
       "    <tr>\n",
       "      <th>...</th>\n",
       "      <td>...</td>\n",
       "      <td>...</td>\n",
       "      <td>...</td>\n",
       "    </tr>\n",
       "    <tr>\n",
       "      <th>13036</th>\n",
       "      <td>Symbiote Costume</td>\n",
       "      <td>Molecular Dissipation</td>\n",
       "      <td>-0.00690</td>\n",
       "    </tr>\n",
       "    <tr>\n",
       "      <th>13037</th>\n",
       "      <td>Symbiote Costume</td>\n",
       "      <td>Vision - Cryo</td>\n",
       "      <td>-0.00690</td>\n",
       "    </tr>\n",
       "    <tr>\n",
       "      <th>13038</th>\n",
       "      <td>Speed Force</td>\n",
       "      <td>Molecular Dissipation</td>\n",
       "      <td>-0.00216</td>\n",
       "    </tr>\n",
       "    <tr>\n",
       "      <th>13039</th>\n",
       "      <td>Speed Force</td>\n",
       "      <td>Vision - Cryo</td>\n",
       "      <td>-0.00216</td>\n",
       "    </tr>\n",
       "    <tr>\n",
       "      <th>13040</th>\n",
       "      <td>Molecular Dissipation</td>\n",
       "      <td>Vision - Cryo</td>\n",
       "      <td>-0.00216</td>\n",
       "    </tr>\n",
       "  </tbody>\n",
       "</table>\n",
       "<p>13041 rows × 3 columns</p>\n",
       "</div>"
      ],
      "text/plain": [
       "                           X                      Y        r\n",
       "0                    Agility    Accelerated Healing  0.26858\n",
       "1                    Agility     Lantern Power Ring  0.02082\n",
       "2                    Agility  Dimensional Awareness  0.00365\n",
       "3                    Agility        Cold Resistance  0.15956\n",
       "4                    Agility             Durability  0.15269\n",
       "...                      ...                    ...      ...\n",
       "13036       Symbiote Costume  Molecular Dissipation -0.00690\n",
       "13037       Symbiote Costume          Vision - Cryo -0.00690\n",
       "13038            Speed Force  Molecular Dissipation -0.00216\n",
       "13039            Speed Force          Vision - Cryo -0.00216\n",
       "13040  Molecular Dissipation          Vision - Cryo -0.00216\n",
       "\n",
       "[13041 rows x 3 columns]"
      ]
     },
     "execution_count": 85,
     "metadata": {},
     "output_type": "execute_result"
    }
   ],
   "source": [
    "male_corr_df[['X','Y','r']]"
   ]
  },
  {
   "cell_type": "code",
   "execution_count": 86,
   "metadata": {
    "hidden": true
   },
   "outputs": [
    {
     "data": {
      "text/plain": [
       "<AxesSubplot:ylabel='power_combo'>"
      ]
     },
     "execution_count": 86,
     "metadata": {},
     "output_type": "execute_result"
    },
    {
     "data": {
      "image/png": "[encoded data removed]",
      "text/plain": [
       "<Figure size 432x288 with 1 Axes>"
      ]
     },
     "metadata": {},
     "output_type": "display_data"
    }
   ],
   "source": [
    "male_corr_analysis_df = sqldf(\n",
    "    \"SELECT (X||' and '||Y) AS power_combo, r AS corr FROM male_corr_df ORDER BY r DESC LIMIT 10\"\n",
    ")\n",
    "male_corr_analysis_df.set_index('power_combo').plot(kind='barh')"
   ]
  },
  {
   "cell_type": "code",
   "execution_count": 87,
   "metadata": {
    "hidden": true
   },
   "outputs": [
    {
     "data": {
      "text/html": [
       "<div>\n",
       "<style scoped>\n",
       "    .dataframe tbody tr th:only-of-type {\n",
       "        vertical-align: middle;\n",
       "    }\n",
       "\n",
       "    .dataframe tbody tr th {\n",
       "        vertical-align: top;\n",
       "    }\n",
       "\n",
       "    .dataframe thead th {\n",
       "        text-align: right;\n",
       "    }\n",
       "</style>\n",
       "<table border=\"1\" class=\"dataframe\">\n",
       "  <thead>\n",
       "    <tr style=\"text-align: right;\">\n",
       "      <th></th>\n",
       "      <th>X</th>\n",
       "      <th>Y</th>\n",
       "      <th>r</th>\n",
       "    </tr>\n",
       "  </thead>\n",
       "  <tbody>\n",
       "    <tr>\n",
       "      <th>0</th>\n",
       "      <td>Agility</td>\n",
       "      <td>Accelerated Healing</td>\n",
       "      <td>0.25291</td>\n",
       "    </tr>\n",
       "    <tr>\n",
       "      <th>1</th>\n",
       "      <td>Agility</td>\n",
       "      <td>Lantern Power Ring</td>\n",
       "      <td>0.02852</td>\n",
       "    </tr>\n",
       "    <tr>\n",
       "      <th>2</th>\n",
       "      <td>Agility</td>\n",
       "      <td>Dimensional Awareness</td>\n",
       "      <td>0.09792</td>\n",
       "    </tr>\n",
       "    <tr>\n",
       "      <th>3</th>\n",
       "      <td>Agility</td>\n",
       "      <td>Cold Resistance</td>\n",
       "      <td>-0.02085</td>\n",
       "    </tr>\n",
       "    <tr>\n",
       "      <th>4</th>\n",
       "      <td>Agility</td>\n",
       "      <td>Durability</td>\n",
       "      <td>0.10189</td>\n",
       "    </tr>\n",
       "    <tr>\n",
       "      <th>...</th>\n",
       "      <td>...</td>\n",
       "      <td>...</td>\n",
       "      <td>...</td>\n",
       "    </tr>\n",
       "    <tr>\n",
       "      <th>8510</th>\n",
       "      <td>Vision - Thermal</td>\n",
       "      <td>Reality Warping</td>\n",
       "      <td>-0.01404</td>\n",
       "    </tr>\n",
       "    <tr>\n",
       "      <th>8511</th>\n",
       "      <td>Vision - Thermal</td>\n",
       "      <td>Phoenix Force</td>\n",
       "      <td>-0.01404</td>\n",
       "    </tr>\n",
       "    <tr>\n",
       "      <th>8512</th>\n",
       "      <td>Web Creation</td>\n",
       "      <td>Reality Warping</td>\n",
       "      <td>-0.01140</td>\n",
       "    </tr>\n",
       "    <tr>\n",
       "      <th>8513</th>\n",
       "      <td>Web Creation</td>\n",
       "      <td>Phoenix Force</td>\n",
       "      <td>-0.01140</td>\n",
       "    </tr>\n",
       "    <tr>\n",
       "      <th>8514</th>\n",
       "      <td>Reality Warping</td>\n",
       "      <td>Phoenix Force</td>\n",
       "      <td>-0.00565</td>\n",
       "    </tr>\n",
       "  </tbody>\n",
       "</table>\n",
       "<p>8515 rows × 3 columns</p>\n",
       "</div>"
      ],
      "text/plain": [
       "                     X                      Y        r\n",
       "0              Agility    Accelerated Healing  0.25291\n",
       "1              Agility     Lantern Power Ring  0.02852\n",
       "2              Agility  Dimensional Awareness  0.09792\n",
       "3              Agility        Cold Resistance -0.02085\n",
       "4              Agility             Durability  0.10189\n",
       "...                ...                    ...      ...\n",
       "8510  Vision - Thermal        Reality Warping -0.01404\n",
       "8511  Vision - Thermal          Phoenix Force -0.01404\n",
       "8512      Web Creation        Reality Warping -0.01140\n",
       "8513      Web Creation          Phoenix Force -0.01140\n",
       "8514   Reality Warping          Phoenix Force -0.00565\n",
       "\n",
       "[8515 rows x 3 columns]"
      ]
     },
     "execution_count": 87,
     "metadata": {},
     "output_type": "execute_result"
    }
   ],
   "source": [
    "female_corr_df[['X','Y','r']]"
   ]
  },
  {
   "cell_type": "code",
   "execution_count": 88,
   "metadata": {
    "hidden": true
   },
   "outputs": [
    {
     "data": {
      "text/plain": [
       "<AxesSubplot:ylabel='power_combo'>"
      ]
     },
     "execution_count": 88,
     "metadata": {},
     "output_type": "execute_result"
    },
    {
     "data": {
      "image/png": "[encoded data removed]",
      "text/plain": [
       "<Figure size 432x288 with 1 Axes>"
      ]
     },
     "metadata": {},
     "output_type": "display_data"
    }
   ],
   "source": [
    "female_corr_analysis_df = sqldf(\n",
    "    \"SELECT (X||' and '||Y) AS power_combo, r AS corr FROM female_corr_df ORDER BY r DESC LIMIT 10\"\n",
    ")\n",
    "female_corr_analysis_df.set_index('power_combo').plot(kind='barh')"
   ]
  },
  {
   "cell_type": "code",
   "execution_count": 89,
   "metadata": {
    "hidden": true
   },
   "outputs": [],
   "source": [
    "male_corr_analysis_df_all = sqldf(\n",
    "    \"SELECT (X||' and '||Y) AS power_combo, r AS corr FROM male_corr_df ORDER BY r DESC\"\n",
    ")\n",
    "female_corr_analysis_df_all = sqldf(\n",
    "    \"SELECT (X||' and '||Y) AS power_combo, r AS corr FROM female_corr_df ORDER BY r DESC\"\n",
    ")\n",
    "all_corr_analysis_df_all = sqldf(\n",
    "    \"SELECT m.power_combo, m.corr AS male, f.corr AS female FROM male_corr_analysis_df_all AS m JOIN female_corr_analysis_df_all AS f USING (power_combo) ORDER BY female DESC LIMIT 10\"\n",
    ")"
   ]
  },
  {
   "cell_type": "code",
   "execution_count": 90,
   "metadata": {
    "hidden": true,
    "scrolled": true
   },
   "outputs": [
    {
     "data": {
      "text/html": [
       "<style  type=\"text/css\" >\n",
       "#T_d29510a2_8063_11eb_973a_3024a9882581row0_col1{\n",
       "            background-color:  #056ba9;\n",
       "            color:  #f1f1f1;\n",
       "        }#T_d29510a2_8063_11eb_973a_3024a9882581row0_col2,#T_d29510a2_8063_11eb_973a_3024a9882581row1_col2,#T_d29510a2_8063_11eb_973a_3024a9882581row8_col1{\n",
       "            background-color:  #023858;\n",
       "            color:  #f1f1f1;\n",
       "        }#T_d29510a2_8063_11eb_973a_3024a9882581row1_col1,#T_d29510a2_8063_11eb_973a_3024a9882581row4_col1,#T_d29510a2_8063_11eb_973a_3024a9882581row5_col1{\n",
       "            background-color:  #f7f0f7;\n",
       "            color:  #000000;\n",
       "        }#T_d29510a2_8063_11eb_973a_3024a9882581row2_col1{\n",
       "            background-color:  #4295c3;\n",
       "            color:  #000000;\n",
       "        }#T_d29510a2_8063_11eb_973a_3024a9882581row2_col2{\n",
       "            background-color:  #78abd0;\n",
       "            color:  #000000;\n",
       "        }#T_d29510a2_8063_11eb_973a_3024a9882581row3_col1{\n",
       "            background-color:  #04649d;\n",
       "            color:  #f1f1f1;\n",
       "        }#T_d29510a2_8063_11eb_973a_3024a9882581row3_col2{\n",
       "            background-color:  #bdc8e1;\n",
       "            color:  #000000;\n",
       "        }#T_d29510a2_8063_11eb_973a_3024a9882581row4_col2,#T_d29510a2_8063_11eb_973a_3024a9882581row5_col2{\n",
       "            background-color:  #ece7f2;\n",
       "            color:  #000000;\n",
       "        }#T_d29510a2_8063_11eb_973a_3024a9882581row6_col1{\n",
       "            background-color:  #157ab5;\n",
       "            color:  #000000;\n",
       "        }#T_d29510a2_8063_11eb_973a_3024a9882581row6_col2,#T_d29510a2_8063_11eb_973a_3024a9882581row7_col2{\n",
       "            background-color:  #ede8f3;\n",
       "            color:  #000000;\n",
       "        }#T_d29510a2_8063_11eb_973a_3024a9882581row7_col1,#T_d29510a2_8063_11eb_973a_3024a9882581row8_col2,#T_d29510a2_8063_11eb_973a_3024a9882581row9_col2{\n",
       "            background-color:  #fff7fb;\n",
       "            color:  #000000;\n",
       "        }#T_d29510a2_8063_11eb_973a_3024a9882581row9_col1{\n",
       "            background-color:  #549cc7;\n",
       "            color:  #000000;\n",
       "        }</style><table id=\"T_d29510a2_8063_11eb_973a_3024a9882581\" ><thead>    <tr>        <th class=\"blank level0\" ></th>        <th class=\"col_heading level0 col0\" >power_combo</th>        <th class=\"col_heading level0 col1\" >male</th>        <th class=\"col_heading level0 col2\" >female</th>    </tr></thead><tbody>\n",
       "                <tr>\n",
       "                        <th id=\"T_d29510a2_8063_11eb_973a_3024a9882581level0_row0\" class=\"row_heading level0 row0\" >0</th>\n",
       "                        <td id=\"T_d29510a2_8063_11eb_973a_3024a9882581row0_col0\" class=\"data row0 col0\" >Dimensional Awareness and Reality Warping</td>\n",
       "                        <td id=\"T_d29510a2_8063_11eb_973a_3024a9882581row0_col1\" class=\"data row0 col1\" >0.467460</td>\n",
       "                        <td id=\"T_d29510a2_8063_11eb_973a_3024a9882581row0_col2\" class=\"data row0 col2\" >1.000000</td>\n",
       "            </tr>\n",
       "            <tr>\n",
       "                        <th id=\"T_d29510a2_8063_11eb_973a_3024a9882581level0_row1\" class=\"row_heading level0 row1\" >1</th>\n",
       "                        <td id=\"T_d29510a2_8063_11eb_973a_3024a9882581row1_col0\" class=\"data row1 col0\" >Illumination and Molecular Combustion</td>\n",
       "                        <td id=\"T_d29510a2_8063_11eb_973a_3024a9882581row1_col1\" class=\"data row1 col1\" >-0.002160</td>\n",
       "                        <td id=\"T_d29510a2_8063_11eb_973a_3024a9882581row1_col2\" class=\"data row1 col2\" >1.000000</td>\n",
       "            </tr>\n",
       "            <tr>\n",
       "                        <th id=\"T_d29510a2_8063_11eb_973a_3024a9882581level0_row2\" class=\"row_heading level0 row2\" >2</th>\n",
       "                        <td id=\"T_d29510a2_8063_11eb_973a_3024a9882581row2_col0\" class=\"data row2 col0\" >Vision - Infrared and Vision - Thermal</td>\n",
       "                        <td id=\"T_d29510a2_8063_11eb_973a_3024a9882581row2_col1\" class=\"data row2 col1\" >0.352720</td>\n",
       "                        <td id=\"T_d29510a2_8063_11eb_973a_3024a9882581row2_col2\" class=\"data row2 col2\" >0.827520</td>\n",
       "            </tr>\n",
       "            <tr>\n",
       "                        <th id=\"T_d29510a2_8063_11eb_973a_3024a9882581level0_row3\" class=\"row_heading level0 row3\" >3</th>\n",
       "                        <td id=\"T_d29510a2_8063_11eb_973a_3024a9882581row3_col0\" class=\"data row3 col0\" >Vision - Telescopic and Vision - Microscopic</td>\n",
       "                        <td id=\"T_d29510a2_8063_11eb_973a_3024a9882581row3_col1\" class=\"data row3 col1\" >0.495490</td>\n",
       "                        <td id=\"T_d29510a2_8063_11eb_973a_3024a9882581row3_col2\" class=\"data row3 col2\" >0.765540</td>\n",
       "            </tr>\n",
       "            <tr>\n",
       "                        <th id=\"T_d29510a2_8063_11eb_973a_3024a9882581level0_row4\" class=\"row_heading level0 row4\" >4</th>\n",
       "                        <td id=\"T_d29510a2_8063_11eb_973a_3024a9882581row4_col0\" class=\"data row4 col0\" >Power Augmentation and Power Sense</td>\n",
       "                        <td id=\"T_d29510a2_8063_11eb_973a_3024a9882581row4_col1\" class=\"data row4 col1\" >-0.004850</td>\n",
       "                        <td id=\"T_d29510a2_8063_11eb_973a_3024a9882581row4_col2\" class=\"data row4 col2\" >0.705110</td>\n",
       "            </tr>\n",
       "            <tr>\n",
       "                        <th id=\"T_d29510a2_8063_11eb_973a_3024a9882581level0_row5\" class=\"row_heading level0 row5\" >5</th>\n",
       "                        <td id=\"T_d29510a2_8063_11eb_973a_3024a9882581row5_col0\" class=\"data row5 col0\" >Terrakinesis and Weather Control</td>\n",
       "                        <td id=\"T_d29510a2_8063_11eb_973a_3024a9882581row5_col1\" class=\"data row5 col1\" >-0.004850</td>\n",
       "                        <td id=\"T_d29510a2_8063_11eb_973a_3024a9882581row5_col2\" class=\"data row5 col2\" >0.705110</td>\n",
       "            </tr>\n",
       "            <tr>\n",
       "                        <th id=\"T_d29510a2_8063_11eb_973a_3024a9882581level0_row6\" class=\"row_heading level0 row6\" >6</th>\n",
       "                        <td id=\"T_d29510a2_8063_11eb_973a_3024a9882581row6_col0\" class=\"data row6 col0\" >Underwater breathing and Sub-Mariner</td>\n",
       "                        <td id=\"T_d29510a2_8063_11eb_973a_3024a9882581row6_col1\" class=\"data row6 col1\" >0.422800</td>\n",
       "                        <td id=\"T_d29510a2_8063_11eb_973a_3024a9882581row6_col2\" class=\"data row6 col2\" >0.703080</td>\n",
       "            </tr>\n",
       "            <tr>\n",
       "                        <th id=\"T_d29510a2_8063_11eb_973a_3024a9882581level0_row7\" class=\"row_heading level0 row7\" >7</th>\n",
       "                        <td id=\"T_d29510a2_8063_11eb_973a_3024a9882581row7_col0\" class=\"data row7 col0\" >Dimensional Travel and Sub-Mariner</td>\n",
       "                        <td id=\"T_d29510a2_8063_11eb_973a_3024a9882581row7_col1\" class=\"data row7 col1\" >-0.038030</td>\n",
       "                        <td id=\"T_d29510a2_8063_11eb_973a_3024a9882581row7_col2\" class=\"data row7 col2\" >0.703080</td>\n",
       "            </tr>\n",
       "            <tr>\n",
       "                        <th id=\"T_d29510a2_8063_11eb_973a_3024a9882581level0_row8\" class=\"row_heading level0 row8\" >8</th>\n",
       "                        <td id=\"T_d29510a2_8063_11eb_973a_3024a9882581row8_col0\" class=\"data row8 col0\" >Super Breath and Vision - Heat</td>\n",
       "                        <td id=\"T_d29510a2_8063_11eb_973a_3024a9882581row8_col1\" class=\"data row8 col1\" >0.612950</td>\n",
       "                        <td id=\"T_d29510a2_8063_11eb_973a_3024a9882581row8_col2\" class=\"data row8 col2\" >0.662450</td>\n",
       "            </tr>\n",
       "            <tr>\n",
       "                        <th id=\"T_d29510a2_8063_11eb_973a_3024a9882581level0_row9\" class=\"row_heading level0 row9\" >9</th>\n",
       "                        <td id=\"T_d29510a2_8063_11eb_973a_3024a9882581row9_col0\" class=\"data row9 col0\" >Audio Control and Sonic Scream</td>\n",
       "                        <td id=\"T_d29510a2_8063_11eb_973a_3024a9882581row9_col1\" class=\"data row9 col1\" >0.328990</td>\n",
       "                        <td id=\"T_d29510a2_8063_11eb_973a_3024a9882581row9_col2\" class=\"data row9 col2\" >0.662450</td>\n",
       "            </tr>\n",
       "    </tbody></table>"
      ],
      "text/plain": [
       "<pandas.io.formats.style.Styler at 0x1b9ea90bfd0>"
      ]
     },
     "execution_count": 90,
     "metadata": {},
     "output_type": "execute_result"
    }
   ],
   "source": [
    "all_corr_analysis_df_all.style.background_gradient()"
   ]
  },
  {
   "cell_type": "code",
   "execution_count": 91,
   "metadata": {
    "hidden": true
   },
   "outputs": [],
   "source": [
    "all_corr_analysis_df_all2 = sqldf(\n",
    "    \"SELECT m.power_combo, m.corr AS male, f.corr AS female FROM male_corr_analysis_df_all AS m JOIN female_corr_analysis_df_all AS f USING (power_combo) ORDER BY male DESC LIMIT 10\"\n",
    ")"
   ]
  },
  {
   "cell_type": "code",
   "execution_count": 92,
   "metadata": {
    "hidden": true
   },
   "outputs": [
    {
     "data": {
      "text/html": [
       "<style  type=\"text/css\" >\n",
       "#T_d2af5dff_8063_11eb_83fd_3024a9882581row0_col1,#T_d2af5dff_8063_11eb_83fd_3024a9882581row3_col2{\n",
       "            background-color:  #023858;\n",
       "            color:  #f1f1f1;\n",
       "        }#T_d2af5dff_8063_11eb_83fd_3024a9882581row0_col2,#T_d2af5dff_8063_11eb_83fd_3024a9882581row8_col2{\n",
       "            background-color:  #023a5b;\n",
       "            color:  #f1f1f1;\n",
       "        }#T_d2af5dff_8063_11eb_83fd_3024a9882581row1_col1{\n",
       "            background-color:  #60a1ca;\n",
       "            color:  #000000;\n",
       "        }#T_d2af5dff_8063_11eb_83fd_3024a9882581row1_col2,#T_d2af5dff_8063_11eb_83fd_3024a9882581row2_col2{\n",
       "            background-color:  #03517e;\n",
       "            color:  #f1f1f1;\n",
       "        }#T_d2af5dff_8063_11eb_83fd_3024a9882581row2_col1{\n",
       "            background-color:  #75a9cf;\n",
       "            color:  #000000;\n",
       "        }#T_d2af5dff_8063_11eb_83fd_3024a9882581row3_col1{\n",
       "            background-color:  #bbc7e0;\n",
       "            color:  #000000;\n",
       "        }#T_d2af5dff_8063_11eb_83fd_3024a9882581row4_col1,#T_d2af5dff_8063_11eb_83fd_3024a9882581row5_col1{\n",
       "            background-color:  #e2dfee;\n",
       "            color:  #000000;\n",
       "        }#T_d2af5dff_8063_11eb_83fd_3024a9882581row4_col2{\n",
       "            background-color:  #034973;\n",
       "            color:  #f1f1f1;\n",
       "        }#T_d2af5dff_8063_11eb_83fd_3024a9882581row5_col2{\n",
       "            background-color:  #023d60;\n",
       "            color:  #f1f1f1;\n",
       "        }#T_d2af5dff_8063_11eb_83fd_3024a9882581row6_col1{\n",
       "            background-color:  #e5e1ef;\n",
       "            color:  #000000;\n",
       "        }#T_d2af5dff_8063_11eb_83fd_3024a9882581row6_col2,#T_d2af5dff_8063_11eb_83fd_3024a9882581row8_col1,#T_d2af5dff_8063_11eb_83fd_3024a9882581row9_col1{\n",
       "            background-color:  #fff7fb;\n",
       "            color:  #000000;\n",
       "        }#T_d2af5dff_8063_11eb_83fd_3024a9882581row7_col1{\n",
       "            background-color:  #ebe6f2;\n",
       "            color:  #000000;\n",
       "        }#T_d2af5dff_8063_11eb_83fd_3024a9882581row7_col2{\n",
       "            background-color:  #0566a0;\n",
       "            color:  #f1f1f1;\n",
       "        }#T_d2af5dff_8063_11eb_83fd_3024a9882581row9_col2{\n",
       "            background-color:  #023b5d;\n",
       "            color:  #f1f1f1;\n",
       "        }</style><table id=\"T_d2af5dff_8063_11eb_83fd_3024a9882581\" ><thead>    <tr>        <th class=\"blank level0\" ></th>        <th class=\"col_heading level0 col0\" >power_combo</th>        <th class=\"col_heading level0 col1\" >male</th>        <th class=\"col_heading level0 col2\" >female</th>    </tr></thead><tbody>\n",
       "                <tr>\n",
       "                        <th id=\"T_d2af5dff_8063_11eb_83fd_3024a9882581level0_row0\" class=\"row_heading level0 row0\" >0</th>\n",
       "                        <td id=\"T_d2af5dff_8063_11eb_83fd_3024a9882581row0_col0\" class=\"data row0 col0\" >Vision - Microscopic and Vision - X-Ray</td>\n",
       "                        <td id=\"T_d2af5dff_8063_11eb_83fd_3024a9882581row0_col1\" class=\"data row0 col1\" >0.689840</td>\n",
       "                        <td id=\"T_d2af5dff_8063_11eb_83fd_3024a9882581row0_col2\" class=\"data row0 col2\" >0.655040</td>\n",
       "            </tr>\n",
       "            <tr>\n",
       "                        <th id=\"T_d2af5dff_8063_11eb_83fd_3024a9882581level0_row1\" class=\"row_heading level0 row1\" >1</th>\n",
       "                        <td id=\"T_d2af5dff_8063_11eb_83fd_3024a9882581row1_col0\" class=\"data row1 col0\" >Vision - Heat and Vision - X-Ray</td>\n",
       "                        <td id=\"T_d2af5dff_8063_11eb_83fd_3024a9882581row1_col1\" class=\"data row1 col1\" >0.638600</td>\n",
       "                        <td id=\"T_d2af5dff_8063_11eb_83fd_3024a9882581row1_col2\" class=\"data row1 col2\" >0.601760</td>\n",
       "            </tr>\n",
       "            <tr>\n",
       "                        <th id=\"T_d2af5dff_8063_11eb_83fd_3024a9882581level0_row2\" class=\"row_heading level0 row2\" >2</th>\n",
       "                        <td id=\"T_d2af5dff_8063_11eb_83fd_3024a9882581row2_col0\" class=\"data row2 col0\" >Vision - Microscopic and Vision - Heat</td>\n",
       "                        <td id=\"T_d2af5dff_8063_11eb_83fd_3024a9882581row2_col1\" class=\"data row2 col1\" >0.633520</td>\n",
       "                        <td id=\"T_d2af5dff_8063_11eb_83fd_3024a9882581row2_col2\" class=\"data row2 col2\" >0.601760</td>\n",
       "            </tr>\n",
       "            <tr>\n",
       "                        <th id=\"T_d2af5dff_8063_11eb_83fd_3024a9882581level0_row3\" class=\"row_heading level0 row3\" >3</th>\n",
       "                        <td id=\"T_d2af5dff_8063_11eb_83fd_3024a9882581row3_col0\" class=\"data row3 col0\" >Super Breath and Vision - Heat</td>\n",
       "                        <td id=\"T_d2af5dff_8063_11eb_83fd_3024a9882581row3_col1\" class=\"data row3 col1\" >0.612950</td>\n",
       "                        <td id=\"T_d2af5dff_8063_11eb_83fd_3024a9882581row3_col2\" class=\"data row3 col2\" >0.662450</td>\n",
       "            </tr>\n",
       "            <tr>\n",
       "                        <th id=\"T_d2af5dff_8063_11eb_83fd_3024a9882581level0_row4\" class=\"row_heading level0 row4\" >4</th>\n",
       "                        <td id=\"T_d2af5dff_8063_11eb_83fd_3024a9882581row4_col0\" class=\"data row4 col0\" >Animal Attributes and Animal Oriented Powers</td>\n",
       "                        <td id=\"T_d2af5dff_8063_11eb_83fd_3024a9882581row4_col1\" class=\"data row4 col1\" >0.596930</td>\n",
       "                        <td id=\"T_d2af5dff_8063_11eb_83fd_3024a9882581row4_col2\" class=\"data row4 col2\" >0.620010</td>\n",
       "            </tr>\n",
       "            <tr>\n",
       "                        <th id=\"T_d2af5dff_8063_11eb_83fd_3024a9882581level0_row5\" class=\"row_heading level0 row5\" >5</th>\n",
       "                        <td id=\"T_d2af5dff_8063_11eb_83fd_3024a9882581row5_col0\" class=\"data row5 col0\" >Astral Projection and Illusions</td>\n",
       "                        <td id=\"T_d2af5dff_8063_11eb_83fd_3024a9882581row5_col1\" class=\"data row5 col1\" >0.596930</td>\n",
       "                        <td id=\"T_d2af5dff_8063_11eb_83fd_3024a9882581row5_col2\" class=\"data row5 col2\" >0.648920</td>\n",
       "            </tr>\n",
       "            <tr>\n",
       "                        <th id=\"T_d2af5dff_8063_11eb_83fd_3024a9882581level0_row6\" class=\"row_heading level0 row6\" >6</th>\n",
       "                        <td id=\"T_d2af5dff_8063_11eb_83fd_3024a9882581row6_col0\" class=\"data row6 col0\" >Cloaking and The Force</td>\n",
       "                        <td id=\"T_d2af5dff_8063_11eb_83fd_3024a9882581row6_col1\" class=\"data row6 col1\" >0.595640</td>\n",
       "                        <td id=\"T_d2af5dff_8063_11eb_83fd_3024a9882581row6_col2\" class=\"data row6 col2\" >-0.008010</td>\n",
       "            </tr>\n",
       "            <tr>\n",
       "                        <th id=\"T_d2af5dff_8063_11eb_83fd_3024a9882581level0_row7\" class=\"row_heading level0 row7\" >7</th>\n",
       "                        <td id=\"T_d2af5dff_8063_11eb_83fd_3024a9882581row7_col0\" class=\"data row7 col0\" >Vision - Microscopic and Super Breath</td>\n",
       "                        <td id=\"T_d2af5dff_8063_11eb_83fd_3024a9882581row7_col1\" class=\"data row7 col1\" >0.592530</td>\n",
       "                        <td id=\"T_d2af5dff_8063_11eb_83fd_3024a9882581row7_col2\" class=\"data row7 col2\" >0.533440</td>\n",
       "            </tr>\n",
       "            <tr>\n",
       "                        <th id=\"T_d2af5dff_8063_11eb_83fd_3024a9882581level0_row8\" class=\"row_heading level0 row8\" >8</th>\n",
       "                        <td id=\"T_d2af5dff_8063_11eb_83fd_3024a9882581row8_col0\" class=\"data row8 col0\" >Wallcrawling and Web Creation</td>\n",
       "                        <td id=\"T_d2af5dff_8063_11eb_83fd_3024a9882581row8_col1\" class=\"data row8 col1\" >0.577990</td>\n",
       "                        <td id=\"T_d2af5dff_8063_11eb_83fd_3024a9882581row8_col2\" class=\"data row8 col2\" >0.657020</td>\n",
       "            </tr>\n",
       "            <tr>\n",
       "                        <th id=\"T_d2af5dff_8063_11eb_83fd_3024a9882581level0_row9\" class=\"row_heading level0 row9\" >9</th>\n",
       "                        <td id=\"T_d2af5dff_8063_11eb_83fd_3024a9882581row9_col0\" class=\"data row9 col0\" >Cold Resistance and Heat Resistance</td>\n",
       "                        <td id=\"T_d2af5dff_8063_11eb_83fd_3024a9882581row9_col1\" class=\"data row9 col1\" >0.577970</td>\n",
       "                        <td id=\"T_d2af5dff_8063_11eb_83fd_3024a9882581row9_col2\" class=\"data row9 col2\" >0.653780</td>\n",
       "            </tr>\n",
       "    </tbody></table>"
      ],
      "text/plain": [
       "<pandas.io.formats.style.Styler at 0x1b9ea93a6d0>"
      ]
     },
     "execution_count": 92,
     "metadata": {},
     "output_type": "execute_result"
    }
   ],
   "source": [
    "all_corr_analysis_df_all2.style.background_gradient()"
   ]
  },
  {
   "cell_type": "markdown",
   "metadata": {
    "hidden": true
   },
   "source": [
    "Drastically diffrent powerset among genders."
   ]
  },
  {
   "cell_type": "markdown",
   "metadata": {
    "heading_collapsed": true,
    "hidden": true
   },
   "source": [
    "#### Is there a relationship between a hero's height and weight and their powerset?"
   ]
  },
  {
   "cell_type": "code",
   "execution_count": 93,
   "metadata": {
    "hidden": true
   },
   "outputs": [
    {
     "data": {
      "text/plain": [
       "<AxesSubplot:xlabel='Height', ylabel='Weight'>"
      ]
     },
     "execution_count": 93,
     "metadata": {},
     "output_type": "execute_result"
    },
    {
     "data": {
      "image/png": "[encoded data removed]",
      "text/plain": [
       "<Figure size 432x288 with 1 Axes>"
      ]
     },
     "metadata": {},
     "output_type": "display_data"
    }
   ],
   "source": [
    "sns.regplot(data=df, x=\"Height\", y=\"Weight\")"
   ]
  },
  {
   "cell_type": "code",
   "execution_count": 94,
   "metadata": {
    "hidden": true
   },
   "outputs": [
    {
     "data": {
      "text/plain": [
       "<seaborn.axisgrid.FacetGrid at 0x1b9ea9405b0>"
      ]
     },
     "execution_count": 94,
     "metadata": {},
     "output_type": "execute_result"
    },
    {
     "data": {
      "image/png": "[encoded data removed]",
      "text/plain": [
       "<Figure size 1074.88x504 with 1 Axes>"
      ]
     },
     "metadata": {},
     "output_type": "display_data"
    }
   ],
   "source": [
    "sns.lmplot(data=df,\n",
    "           x=\"Height\",\n",
    "           y=\"Weight\",\n",
    "           hue='Super Breath',\n",
    "           height=7,\n",
    "           aspect=2)"
   ]
  },
  {
   "cell_type": "markdown",
   "metadata": {
    "heading_collapsed": true,
    "hidden": true
   },
   "source": [
    "#### What is the distribution of skin colors amongst alien heroes?"
   ]
  },
  {
   "cell_type": "code",
   "execution_count": 95,
   "metadata": {
    "hidden": true
   },
   "outputs": [],
   "source": [
    "# different type of aliens, limited by my knowledge of comic books."
   ]
  },
  {
   "cell_type": "code",
   "execution_count": 96,
   "metadata": {
    "hidden": true
   },
   "outputs": [
    {
     "data": {
      "text/plain": [
       "array(['Human', 'Icthyo Sapien', 'Ungaran', 'Human / Radiation',\n",
       "       'Cosmic Entity', '-', 'Cyborg', 'Xenomorph XX121', 'Android',\n",
       "       'Vampire', 'Mutant', 'God / Eternal', 'Symbiote', 'Atlantean',\n",
       "       'Alien', 'Neyaphem', 'New God', 'Alpha', 'Bizarro', 'Inhuman',\n",
       "       'Metahuman', 'Demon', 'Human / Clone', 'Human-Kree',\n",
       "       'Dathomirian Zabrak', 'Amazon', 'Human / Cosmic',\n",
       "       'Human / Altered', 'Kryptonian', 'Kakarantharaian',\n",
       "       'Zen-Whoberian', 'Strontian', 'Kaiju', 'Saiyan', 'Gorilla',\n",
       "       'Rodian', 'Flora Colossus', 'Human-Vuldarian', 'Asgardian',\n",
       "       'Demi-God', 'Eternal', 'Gungan', 'Bolovaxian', 'Animal',\n",
       "       'Czarnian', 'Martian', 'Spartoi', 'Luphomoid', 'Parademon',\n",
       "       'Yautja', 'Maiar', 'Clone', 'Talokite', 'Korugaran', 'Zombie',\n",
       "       'Human-Vulcan', 'Human-Spartoi', 'Tamaranean', 'Frost Giant',\n",
       "       'Mutant / Clone', \"Yoda's species\"], dtype=object)"
      ]
     },
     "execution_count": 96,
     "metadata": {},
     "output_type": "execute_result"
    }
   ],
   "source": [
    "df['Race'].unique()"
   ]
  },
  {
   "cell_type": "code",
   "execution_count": 97,
   "metadata": {
    "hidden": true
   },
   "outputs": [],
   "source": [
    "alien_race = [\n",
    "    'Ungaran', 'Cosmic Entity', 'Xenomorph XX121', 'Symbiote', 'Atlantean',\n",
    "    'Alien', 'Neyaphem', 'Dathomirian Zabrak', 'Kryptonian', 'Kakarantharaian',\n",
    "    'Zen-Whoberian', 'Strontian', 'Asgardian', 'Gungan', 'Bolovaxian',\n",
    "    'Czarnian', 'Martian', 'Spartoi', 'Luphomoid', 'Parademon', 'Yautja',\n",
    "    'Maiar', 'Clone', 'Talokite', 'Korugaran', 'Tamaranean', 'Frost Giant',\n",
    "    \"Yoda's species\"\n",
    "]"
   ]
  },
  {
   "cell_type": "code",
   "execution_count": 98,
   "metadata": {
    "hidden": true
   },
   "outputs": [],
   "source": [
    "alien_df = df[df['Race'].isin(alien_race)]\n",
    "alien_skin = alien_df['Skin color'].value_counts()"
   ]
  },
  {
   "cell_type": "code",
   "execution_count": 99,
   "metadata": {
    "hidden": true
   },
   "outputs": [],
   "source": [
    "alien_skin_cleaning = alien_skin.reset_index()"
   ]
  },
  {
   "cell_type": "code",
   "execution_count": 100,
   "metadata": {
    "hidden": true
   },
   "outputs": [],
   "source": [
    "alien_skin_cleaning.loc[alien_skin_cleaning['index']==\"-\",'index'] = 'NoInfo'"
   ]
  },
  {
   "cell_type": "code",
   "execution_count": 101,
   "metadata": {
    "hidden": true
   },
   "outputs": [
    {
     "data": {
      "text/html": [
       "<div>\n",
       "<style scoped>\n",
       "    .dataframe tbody tr th:only-of-type {\n",
       "        vertical-align: middle;\n",
       "    }\n",
       "\n",
       "    .dataframe tbody tr th {\n",
       "        vertical-align: top;\n",
       "    }\n",
       "\n",
       "    .dataframe thead th {\n",
       "        text-align: right;\n",
       "    }\n",
       "</style>\n",
       "<table border=\"1\" class=\"dataframe\">\n",
       "  <thead>\n",
       "    <tr style=\"text-align: right;\">\n",
       "      <th></th>\n",
       "      <th>Skin color</th>\n",
       "    </tr>\n",
       "    <tr>\n",
       "      <th>index</th>\n",
       "      <th></th>\n",
       "    </tr>\n",
       "  </thead>\n",
       "  <tbody>\n",
       "    <tr>\n",
       "      <th>NoInfo</th>\n",
       "      <td>37</td>\n",
       "    </tr>\n",
       "    <tr>\n",
       "      <th>green</th>\n",
       "      <td>5</td>\n",
       "    </tr>\n",
       "    <tr>\n",
       "      <th>red</th>\n",
       "      <td>3</td>\n",
       "    </tr>\n",
       "    <tr>\n",
       "      <th>gold</th>\n",
       "      <td>2</td>\n",
       "    </tr>\n",
       "    <tr>\n",
       "      <th>blue</th>\n",
       "      <td>2</td>\n",
       "    </tr>\n",
       "    <tr>\n",
       "      <th>orange / white</th>\n",
       "      <td>1</td>\n",
       "    </tr>\n",
       "    <tr>\n",
       "      <th>white</th>\n",
       "      <td>1</td>\n",
       "    </tr>\n",
       "    <tr>\n",
       "      <th>orange</th>\n",
       "      <td>1</td>\n",
       "    </tr>\n",
       "    <tr>\n",
       "      <th>grey</th>\n",
       "      <td>1</td>\n",
       "    </tr>\n",
       "    <tr>\n",
       "      <th>black</th>\n",
       "      <td>1</td>\n",
       "    </tr>\n",
       "    <tr>\n",
       "      <th>pink</th>\n",
       "      <td>1</td>\n",
       "    </tr>\n",
       "    <tr>\n",
       "      <th>red / black</th>\n",
       "      <td>1</td>\n",
       "    </tr>\n",
       "    <tr>\n",
       "      <th>blue-white</th>\n",
       "      <td>1</td>\n",
       "    </tr>\n",
       "    <tr>\n",
       "      <th>purple</th>\n",
       "      <td>1</td>\n",
       "    </tr>\n",
       "    <tr>\n",
       "      <th>silver</th>\n",
       "      <td>1</td>\n",
       "    </tr>\n",
       "  </tbody>\n",
       "</table>\n",
       "</div>"
      ],
      "text/plain": [
       "                Skin color\n",
       "index                     \n",
       "NoInfo                  37\n",
       "green                    5\n",
       "red                      3\n",
       "gold                     2\n",
       "blue                     2\n",
       "orange / white           1\n",
       "white                    1\n",
       "orange                   1\n",
       "grey                     1\n",
       "black                    1\n",
       "pink                     1\n",
       "red / black              1\n",
       "blue-white               1\n",
       "purple                   1\n",
       "silver                   1"
      ]
     },
     "execution_count": 101,
     "metadata": {},
     "output_type": "execute_result"
    }
   ],
   "source": [
    "alien_skin_cleaned = alien_skin_cleaning.set_index('index')\n",
    "alien_skin_cleaned"
   ]
  },
  {
   "cell_type": "code",
   "execution_count": 102,
   "metadata": {
    "hidden": true
   },
   "outputs": [
    {
     "data": {
      "text/plain": [
       "<AxesSubplot:ylabel='index'>"
      ]
     },
     "execution_count": 102,
     "metadata": {},
     "output_type": "execute_result"
    },
    {
     "data": {
      "image/png": "[encoded data removed]",
      "text/plain": [
       "<Figure size 432x288 with 1 Axes>"
      ]
     },
     "metadata": {},
     "output_type": "display_data"
    }
   ],
   "source": [
    "alien_skin_cleaned.plot(kind='barh')"
   ]
  },
  {
   "cell_type": "code",
   "execution_count": 103,
   "metadata": {
    "hidden": true
   },
   "outputs": [],
   "source": [
    "# only Alien"
   ]
  },
  {
   "cell_type": "code",
   "execution_count": 104,
   "metadata": {
    "hidden": true
   },
   "outputs": [
    {
     "data": {
      "text/plain": [
       "<AxesSubplot:ylabel='index'>"
      ]
     },
     "execution_count": 104,
     "metadata": {},
     "output_type": "execute_result"
    },
    {
     "data": {
      "image/png": "[encoded data removed]",
      "text/plain": [
       "<Figure size 432x288 with 1 Axes>"
      ]
     },
     "metadata": {},
     "output_type": "display_data"
    }
   ],
   "source": [
    "alien_df1 = df[df['Race'] == 'Alien']\n",
    "alien_skin1 = alien_df1['Skin color'].value_counts()\n",
    "alien_skin_cleaning1 = alien_skin1.reset_index()\n",
    "alien_skin_cleaning1.loc[alien_skin_cleaning1['index'] == \"-\",\n",
    "                         'index'] = 'NoInfo'\n",
    "alien_skin_cleaned1 = alien_skin_cleaning1.set_index('index')\n",
    "alien_skin_cleaned1.plot(kind='barh')"
   ]
  },
  {
   "cell_type": "code",
   "execution_count": 105,
   "metadata": {
    "hidden": true
   },
   "outputs": [
    {
     "data": {
      "text/plain": [
       "<AxesSubplot:xlabel='Skin color', ylabel='count'>"
      ]
     },
     "execution_count": 105,
     "metadata": {},
     "output_type": "execute_result"
    },
    {
     "data": {
      "image/png": "[encoded data removed]",
      "text/plain": [
       "<Figure size 432x288 with 1 Axes>"
      ]
     },
     "metadata": {},
     "output_type": "display_data"
    }
   ],
   "source": [
    "sns.countplot(data=alien_df1,x=\"Skin color\")"
   ]
  },
  {
   "cell_type": "markdown",
   "metadata": {},
   "source": [
    "## Summary\n",
    "\n",
    "In this lab, we demonstrated our mastery of:\n",
    "* Using all of our Pandas knowledge to date to clean the dataset and deal with null values\n",
    "* Using Queries and aggregations to group the data into interesting subsets as needed\n",
    "* Using descriptive statistics and data visualization to find answers to questions we may have about the data"
   ]
  }
 ],
 "metadata": {
  "kernelspec": {
   "display_name": "Python 3",
   "language": "python",
   "name": "python3"
  },
  "language_info": {
   "codemirror_mode": {
    "name": "ipython",
    "version": 3
   },
   "file_extension": ".py",
   "mimetype": "text/x-python",
   "name": "python",
   "nbconvert_exporter": "python",
   "pygments_lexer": "ipython3",
   "version": "3.8.5"
  },
  "toc": {
   "base_numbering": 1,
   "nav_menu": {},
   "number_sections": true,
   "sideBar": true,
   "skip_h1_title": false,
   "title_cell": "Table of Contents",
   "title_sidebar": "Contents",
   "toc_cell": false,
   "toc_position": {
    "height": "799px",
    "left": "150px",
    "top": "89px",
    "width": "384px"
   },
   "toc_section_display": true,
   "toc_window_display": true
  },
  "varInspector": {
   "cols": {
    "lenName": 16,
    "lenType": 16,
    "lenVar": 40
   },
   "kernels_config": {
    "python": {
     "delete_cmd_postfix": "",
     "delete_cmd_prefix": "del ",
     "library": "var_list.py",
     "varRefreshCmd": "print(var_dic_list())"
    },
    "r": {
     "delete_cmd_postfix": ") ",
     "delete_cmd_prefix": "rm(",
     "library": "var_list.r",
     "varRefreshCmd": "cat(var_dic_list()) "
    }
   },
   "types_to_exclude": [
    "module",
    "function",
    "builtin_function_or_method",
    "instance",
    "_Feature"
   ],
   "window_display": false
  }
 },
 "nbformat": 4,
 "nbformat_minor": 2
}
